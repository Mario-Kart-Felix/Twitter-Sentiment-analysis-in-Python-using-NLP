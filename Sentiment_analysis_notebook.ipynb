{
 "cells": [
  {
   "attachments": {},
   "cell_type": "markdown",
   "metadata": {},
   "source": [
    "# Sentiment analysis stanford\n",
    "\n",
    "#### The data is a CSV with emoticons removed. Data file format has 6 fields:\n",
    "0 - the polarity of the tweet (0 = negative, 2 = neutral, 4 = positive)\n",
    "\n",
    "1 - the id of the tweet (2087)\n",
    "\n",
    "2 - the date of the tweet (Sat May 16 23:58:44 UTC 2009)\n",
    "\n",
    "3 - the query (lyx). If there is no query, then this value is NO_QUERY.\n",
    "\n",
    "4 - the user that tweeted (robotickilldozr)\n",
    "\n",
    "5 - the text of the tweet (Lyx is cool)\n",
    "\n",
    "You can download the data from here http://cs.stanford.edu/people/alecmgo/trainingandtestdata.zip"
   ]
  },
  {
   "cell_type": "markdown",
   "metadata": {},
   "source": [
    "### Importing libraries"
   ]
  },
  {
   "cell_type": "code",
   "execution_count": 1,
   "metadata": {},
   "outputs": [],
   "source": [
    "import numpy as np # linear algebra\n",
    "import pandas as pd # data processing, CSV file I/O (e.g. pd.read_csv)\n",
    "\n",
    "import string\n",
    "\n",
    "from sklearn.feature_extraction.text import TfidfVectorizer\n",
    "\n",
    "import re\n",
    "import nltk\n",
    "\n",
    "from nltk.corpus import stopwords\n",
    "\n",
    "from sklearn.ensemble import RandomForestClassifier\n",
    "\n",
    "from sklearn.metrics import precision_recall_fscore_support as score\n",
    "from sklearn.model_selection import train_test_split\n",
    "\n",
    "import time"
   ]
  },
  {
   "cell_type": "markdown",
   "metadata": {},
   "source": [
    "### Reading Data"
   ]
  },
  {
   "cell_type": "code",
   "execution_count": 30,
   "metadata": {},
   "outputs": [],
   "source": [
    "train_data = pd.read_csv(\"C:\\\\Users\\\\kode surendra aba\\\\Desktop\\\\Data science\\\\python\\\\Sample projects\\\\sentiment_analysis_tweet_nlp\\\\training.1600000.processed.noemoticon.csv\",header=None,encoding = \"ISO-8859-1\")"
   ]
  },
  {
   "cell_type": "code",
   "execution_count": 31,
   "metadata": {},
   "outputs": [
    {
     "data": {
      "text/plain": [
       "(1600000, 6)"
      ]
     },
     "execution_count": 31,
     "metadata": {},
     "output_type": "execute_result"
    }
   ],
   "source": [
    "#Add column headers\n",
    "train_data = train_data.rename(columns={0: 'polarity', 1: 'id', 2: 'date', 3: 'query_type', 4: 'user',5: 'text'})\n",
    "train_data.shape"
   ]
  },
  {
   "cell_type": "code",
   "execution_count": 32,
   "metadata": {},
   "outputs": [
    {
     "data": {
      "text/html": [
       "<div>\n",
       "<style scoped>\n",
       "    .dataframe tbody tr th:only-of-type {\n",
       "        vertical-align: middle;\n",
       "    }\n",
       "\n",
       "    .dataframe tbody tr th {\n",
       "        vertical-align: top;\n",
       "    }\n",
       "\n",
       "    .dataframe thead th {\n",
       "        text-align: right;\n",
       "    }\n",
       "</style>\n",
       "<table border=\"1\" class=\"dataframe\">\n",
       "  <thead>\n",
       "    <tr style=\"text-align: right;\">\n",
       "      <th></th>\n",
       "      <th>polarity</th>\n",
       "      <th>id</th>\n",
       "      <th>date</th>\n",
       "      <th>query_type</th>\n",
       "      <th>user</th>\n",
       "      <th>text</th>\n",
       "    </tr>\n",
       "  </thead>\n",
       "  <tbody>\n",
       "    <tr>\n",
       "      <th>0</th>\n",
       "      <td>0</td>\n",
       "      <td>1467810369</td>\n",
       "      <td>Mon Apr 06 22:19:45 PDT 2009</td>\n",
       "      <td>NO_QUERY</td>\n",
       "      <td>_TheSpecialOne_</td>\n",
       "      <td>@switchfoot http://twitpic.com/2y1zl - Awww, t...</td>\n",
       "    </tr>\n",
       "    <tr>\n",
       "      <th>1</th>\n",
       "      <td>0</td>\n",
       "      <td>1467810672</td>\n",
       "      <td>Mon Apr 06 22:19:49 PDT 2009</td>\n",
       "      <td>NO_QUERY</td>\n",
       "      <td>scotthamilton</td>\n",
       "      <td>is upset that he can't update his Facebook by ...</td>\n",
       "    </tr>\n",
       "    <tr>\n",
       "      <th>2</th>\n",
       "      <td>0</td>\n",
       "      <td>1467810917</td>\n",
       "      <td>Mon Apr 06 22:19:53 PDT 2009</td>\n",
       "      <td>NO_QUERY</td>\n",
       "      <td>mattycus</td>\n",
       "      <td>@Kenichan I dived many times for the ball. Man...</td>\n",
       "    </tr>\n",
       "    <tr>\n",
       "      <th>3</th>\n",
       "      <td>0</td>\n",
       "      <td>1467811184</td>\n",
       "      <td>Mon Apr 06 22:19:57 PDT 2009</td>\n",
       "      <td>NO_QUERY</td>\n",
       "      <td>ElleCTF</td>\n",
       "      <td>my whole body feels itchy and like its on fire</td>\n",
       "    </tr>\n",
       "    <tr>\n",
       "      <th>4</th>\n",
       "      <td>0</td>\n",
       "      <td>1467811193</td>\n",
       "      <td>Mon Apr 06 22:19:57 PDT 2009</td>\n",
       "      <td>NO_QUERY</td>\n",
       "      <td>Karoli</td>\n",
       "      <td>@nationwideclass no, it's not behaving at all....</td>\n",
       "    </tr>\n",
       "  </tbody>\n",
       "</table>\n",
       "</div>"
      ],
      "text/plain": [
       "   polarity          id                          date query_type  \\\n",
       "0         0  1467810369  Mon Apr 06 22:19:45 PDT 2009   NO_QUERY   \n",
       "1         0  1467810672  Mon Apr 06 22:19:49 PDT 2009   NO_QUERY   \n",
       "2         0  1467810917  Mon Apr 06 22:19:53 PDT 2009   NO_QUERY   \n",
       "3         0  1467811184  Mon Apr 06 22:19:57 PDT 2009   NO_QUERY   \n",
       "4         0  1467811193  Mon Apr 06 22:19:57 PDT 2009   NO_QUERY   \n",
       "\n",
       "              user                                               text  \n",
       "0  _TheSpecialOne_  @switchfoot http://twitpic.com/2y1zl - Awww, t...  \n",
       "1    scotthamilton  is upset that he can't update his Facebook by ...  \n",
       "2         mattycus  @Kenichan I dived many times for the ball. Man...  \n",
       "3          ElleCTF    my whole body feels itchy and like its on fire   \n",
       "4           Karoli  @nationwideclass no, it's not behaving at all....  "
      ]
     },
     "execution_count": 32,
     "metadata": {},
     "output_type": "execute_result"
    }
   ],
   "source": [
    "train_data.head()"
   ]
  },
  {
   "cell_type": "code",
   "execution_count": 33,
   "metadata": {},
   "outputs": [],
   "source": [
    "test_data = pd.read_csv(\"C:\\\\Users\\\\kode surendra aba\\\\Desktop\\\\Data science\\\\python\\\\Sample projects\\\\sentiment_analysis_tweet_nlp\\\\testdata.manual.2009.06.14.csv\",header=None,encoding = \"ISO-8859-1\")"
   ]
  },
  {
   "cell_type": "code",
   "execution_count": 34,
   "metadata": {},
   "outputs": [
    {
     "data": {
      "text/plain": [
       "(498, 6)"
      ]
     },
     "execution_count": 34,
     "metadata": {},
     "output_type": "execute_result"
    }
   ],
   "source": [
    "test_data = test_data.rename(columns={0: 'polarity', 1: 'id', 2: 'date', 3: 'query_type', 4: 'user',5: 'text'})\n",
    "test_data.shape"
   ]
  },
  {
   "cell_type": "code",
   "execution_count": 35,
   "metadata": {},
   "outputs": [
    {
     "data": {
      "text/html": [
       "<div>\n",
       "<style scoped>\n",
       "    .dataframe tbody tr th:only-of-type {\n",
       "        vertical-align: middle;\n",
       "    }\n",
       "\n",
       "    .dataframe tbody tr th {\n",
       "        vertical-align: top;\n",
       "    }\n",
       "\n",
       "    .dataframe thead th {\n",
       "        text-align: right;\n",
       "    }\n",
       "</style>\n",
       "<table border=\"1\" class=\"dataframe\">\n",
       "  <thead>\n",
       "    <tr style=\"text-align: right;\">\n",
       "      <th></th>\n",
       "      <th>polarity</th>\n",
       "      <th>id</th>\n",
       "      <th>date</th>\n",
       "      <th>query_type</th>\n",
       "      <th>user</th>\n",
       "      <th>text</th>\n",
       "    </tr>\n",
       "  </thead>\n",
       "  <tbody>\n",
       "    <tr>\n",
       "      <th>0</th>\n",
       "      <td>4</td>\n",
       "      <td>3</td>\n",
       "      <td>Mon May 11 03:17:40 UTC 2009</td>\n",
       "      <td>kindle2</td>\n",
       "      <td>tpryan</td>\n",
       "      <td>@stellargirl I loooooooovvvvvveee my Kindle2. ...</td>\n",
       "    </tr>\n",
       "    <tr>\n",
       "      <th>1</th>\n",
       "      <td>4</td>\n",
       "      <td>4</td>\n",
       "      <td>Mon May 11 03:18:03 UTC 2009</td>\n",
       "      <td>kindle2</td>\n",
       "      <td>vcu451</td>\n",
       "      <td>Reading my kindle2...  Love it... Lee childs i...</td>\n",
       "    </tr>\n",
       "    <tr>\n",
       "      <th>2</th>\n",
       "      <td>4</td>\n",
       "      <td>5</td>\n",
       "      <td>Mon May 11 03:18:54 UTC 2009</td>\n",
       "      <td>kindle2</td>\n",
       "      <td>chadfu</td>\n",
       "      <td>Ok, first assesment of the #kindle2 ...it fuck...</td>\n",
       "    </tr>\n",
       "    <tr>\n",
       "      <th>3</th>\n",
       "      <td>4</td>\n",
       "      <td>6</td>\n",
       "      <td>Mon May 11 03:19:04 UTC 2009</td>\n",
       "      <td>kindle2</td>\n",
       "      <td>SIX15</td>\n",
       "      <td>@kenburbary You'll love your Kindle2. I've had...</td>\n",
       "    </tr>\n",
       "    <tr>\n",
       "      <th>4</th>\n",
       "      <td>4</td>\n",
       "      <td>7</td>\n",
       "      <td>Mon May 11 03:21:41 UTC 2009</td>\n",
       "      <td>kindle2</td>\n",
       "      <td>yamarama</td>\n",
       "      <td>@mikefish  Fair enough. But i have the Kindle2...</td>\n",
       "    </tr>\n",
       "  </tbody>\n",
       "</table>\n",
       "</div>"
      ],
      "text/plain": [
       "   polarity  id                          date query_type      user  \\\n",
       "0         4   3  Mon May 11 03:17:40 UTC 2009    kindle2    tpryan   \n",
       "1         4   4  Mon May 11 03:18:03 UTC 2009    kindle2    vcu451   \n",
       "2         4   5  Mon May 11 03:18:54 UTC 2009    kindle2    chadfu   \n",
       "3         4   6  Mon May 11 03:19:04 UTC 2009    kindle2     SIX15   \n",
       "4         4   7  Mon May 11 03:21:41 UTC 2009    kindle2  yamarama   \n",
       "\n",
       "                                                text  \n",
       "0  @stellargirl I loooooooovvvvvveee my Kindle2. ...  \n",
       "1  Reading my kindle2...  Love it... Lee childs i...  \n",
       "2  Ok, first assesment of the #kindle2 ...it fuck...  \n",
       "3  @kenburbary You'll love your Kindle2. I've had...  \n",
       "4  @mikefish  Fair enough. But i have the Kindle2...  "
      ]
     },
     "execution_count": 35,
     "metadata": {},
     "output_type": "execute_result"
    }
   ],
   "source": [
    "test_data.head()"
   ]
  },
  {
   "cell_type": "code",
   "execution_count": 36,
   "metadata": {},
   "outputs": [],
   "source": [
    "#Merging train and test data to clean the dataset\n",
    "data = train_data.append(pd.DataFrame(data = test_data), ignore_index=True)"
   ]
  },
  {
   "cell_type": "code",
   "execution_count": 37,
   "metadata": {},
   "outputs": [],
   "source": [
    "#Consider only 1% of dataset due to memory constraints.You can run algo using full dataset on Cloud machines\n",
    "data = data.sample(frac = 0.01) "
   ]
  },
  {
   "cell_type": "code",
   "execution_count": 39,
   "metadata": {},
   "outputs": [
    {
     "data": {
      "text/plain": [
       "(16005, 6)"
      ]
     },
     "execution_count": 39,
     "metadata": {},
     "output_type": "execute_result"
    }
   ],
   "source": [
    "data.shape"
   ]
  },
  {
   "cell_type": "markdown",
   "metadata": {},
   "source": [
    "### Cleaning Data"
   ]
  },
  {
   "cell_type": "code",
   "execution_count": 40,
   "metadata": {},
   "outputs": [
    {
     "data": {
      "text/plain": [
       "(16005, 6)"
      ]
     },
     "execution_count": 40,
     "metadata": {},
     "output_type": "execute_result"
    }
   ],
   "source": [
    "#Removing duplicates\n",
    "data.drop_duplicates(inplace = True)\n",
    "data.shape #No duplicates found in data"
   ]
  },
  {
   "cell_type": "code",
   "execution_count": 41,
   "metadata": {},
   "outputs": [
    {
     "name": "stdout",
     "output_type": "stream",
     "text": [
      "            0\n",
      "polarity    0\n",
      "id          0\n",
      "date        0\n",
      "query_type  0\n",
      "user        0\n",
      "text        0\n"
     ]
    }
   ],
   "source": [
    "print (pd.DataFrame(data.isnull().sum())) #No null values found in data"
   ]
  },
  {
   "cell_type": "code",
   "execution_count": 42,
   "metadata": {},
   "outputs": [],
   "source": [
    "#Column id\n",
    "data.id.value_counts() #Column id has maximum 2frequencies of any id so there are lot of unique values here which is useless in algorithms\n",
    "del data['id']"
   ]
  },
  {
   "cell_type": "code",
   "execution_count": 43,
   "metadata": {},
   "outputs": [],
   "source": [
    "#Column date\n",
    "data.date.value_counts()\n",
    "\n",
    "#separate elements date column\n",
    "data['date'] = data['date'].map(lambda date:re.sub('\\W+', ' ',date)).apply(lambda x: (x.lower()).split())\n",
    "#The division will be as follows ['mon', 'apr', '06', '22', '19', '45', 'pdt', '2009']\n",
    "\n",
    "#extracting weekday from date\n",
    "data.loc[:, 'weekday'] = data.date.map(lambda x: x[0])\n",
    "data.weekday.value_counts()\n",
    "\n",
    "\n",
    "#extracting month from date\n",
    "data.loc[:, 'month'] = data.date.map(lambda x: x[1])\n",
    "data.month.value_counts()\n",
    "\n",
    "#extracting day from date\n",
    "data.loc[:, 'day'] = data.date.map(lambda x: x[2])\n",
    "data['day'] = pd.to_numeric(data['day']) #Convert day column to numeric values\n",
    "data.day.value_counts()\n",
    "\n",
    "#convert days to bins of different monthframes of a month like month_start, month_mid and month_end\n",
    "conditions = [\n",
    "    (data['day'] >=0) & (data['day'] <= 10),\n",
    "    (data['day'] >=11) & (data['day'] <= 20)\n",
    "    ]\n",
    "choices = ['month_start','month_mid']\n",
    "data['monthframe'] = np.select(conditions, choices, default='month_end')\n",
    "\n",
    "data.monthframe.value_counts()\n",
    "\n",
    "#Remove day column as we don't need it now after binning it\n",
    "del data['day']\n",
    "\n",
    "\n",
    "#extracting hour from date\n",
    "data.loc[:, 'hour'] = data.date.map(lambda x: x[3])\n",
    "data['hour'] = pd.to_numeric(data['hour']) #Convert hour column to numeric values\n",
    "data.hour.value_counts()\n",
    "\n",
    "#convert hours to bins of different timeframes of a day like marning, evening , afternoon and night\n",
    "conditions = [\n",
    "    (data['hour'] >=0) & (data['hour'] <= 5),\n",
    "    (data['hour'] >=6) & (data['hour'] <= 12),\n",
    "    (data['hour'] >=13) & (data['hour'] <= 16),\n",
    "    (data['hour'] >=17) & (data['hour'] <= 20)\n",
    "    ]\n",
    "choices = ['night', 'morning', 'afternoon','evening']\n",
    "data['timeframe'] = np.select(conditions, choices, default='night')\n",
    "\n",
    "data.timeframe.value_counts()\n",
    "\n",
    "#Remove hour column as we don't need it now after binning it\n",
    "del data['hour']\n",
    "\n",
    "\n",
    "#extracting year from date\n",
    "data.loc[:, 'year'] = data.date.map(lambda x: x[7])\n",
    "data.year.value_counts()\n",
    "#The data contains just one year so we remove year column\n",
    "del data['year']\n",
    "\n",
    "#We remove date column from data since it is of no use now\n",
    "del data['date']"
   ]
  },
  {
   "cell_type": "code",
   "execution_count": 44,
   "metadata": {},
   "outputs": [],
   "source": [
    "#Column user\n",
    "data.user.value_counts() #660120 unique users which are also much unique so we remove user also\n",
    "del data['user']"
   ]
  },
  {
   "cell_type": "code",
   "execution_count": 45,
   "metadata": {},
   "outputs": [],
   "source": [
    "#Column query\n",
    "data.query_type.value_counts() #1600000 are NO_QUERY so we remove this column too\n",
    "del data['query_type']"
   ]
  },
  {
   "cell_type": "markdown",
   "metadata": {},
   "source": [
    "### Convert categorical columns to dummy variables"
   ]
  },
  {
   "cell_type": "code",
   "execution_count": 46,
   "metadata": {},
   "outputs": [],
   "source": [
    "#Create weekday column to numeric dummy variables\n",
    "df_weekday = pd.get_dummies(data['weekday'])\n",
    "\n",
    "#Create month column to numeric dummy variables\n",
    "df_month = pd.get_dummies(data['month'])\n",
    "\n",
    "#Create monthframe column to numeric dummy variables\n",
    "df_monthframe = pd.get_dummies(data['monthframe'])\n",
    "\n",
    "#Create timeframe column to numeric dummy variables\n",
    "df_timeframe = pd.get_dummies(data['timeframe'])"
   ]
  },
  {
   "cell_type": "code",
   "execution_count": 47,
   "metadata": {},
   "outputs": [
    {
     "data": {
      "text/plain": [
       "['polarity',\n",
       " 'fri',\n",
       " 'mon',\n",
       " 'sat',\n",
       " 'sun',\n",
       " 'thu',\n",
       " 'tue',\n",
       " 'wed',\n",
       " 'apr',\n",
       " 'jun',\n",
       " 'may',\n",
       " 'month_end',\n",
       " 'month_mid',\n",
       " 'month_start',\n",
       " 'afternoon',\n",
       " 'evening',\n",
       " 'morning',\n",
       " 'night',\n",
       " 'text']"
      ]
     },
     "execution_count": 47,
     "metadata": {},
     "output_type": "execute_result"
    }
   ],
   "source": [
    "#merging dummy varibles to form a dataframe\n",
    "data = pd.concat([data['polarity'].reset_index(drop=True),df_weekday.reset_index(drop=True),df_month.reset_index(drop=True),df_monthframe.reset_index(drop=True),df_timeframe.reset_index(drop=True),data['text'].reset_index(drop=True)],axis=1)\n",
    "list(data)"
   ]
  },
  {
   "cell_type": "markdown",
   "metadata": {},
   "source": [
    "### Applying NLP for text column"
   ]
  },
  {
   "cell_type": "code",
   "execution_count": 48,
   "metadata": {},
   "outputs": [],
   "source": [
    "#separate elements of text column in lists, also removing hashtags. mentionids and urls if any\n",
    "data['p_text'] = data['text'].map(lambda text:re.sub('(@[A-Za-z0-9]+)|(\\w+:\\/\\/\\S+)|(#[A-Za-z0-9]+)|([^A-Za-z\\'\\\"]+)', ' ',text)).apply(lambda x: (x.lower()).split())"
   ]
  },
  {
   "cell_type": "code",
   "execution_count": 49,
   "metadata": {},
   "outputs": [],
   "source": [
    "#joining p_text aain for removing stopwords and punctuation later\n",
    "data['p_text'] = data['p_text'].apply(lambda x: \" \".join([word for word in x]))"
   ]
  },
  {
   "cell_type": "markdown",
   "metadata": {},
   "source": [
    "#### Cleaning and Stemming text column"
   ]
  },
  {
   "cell_type": "code",
   "execution_count": 50,
   "metadata": {},
   "outputs": [],
   "source": [
    "stopwords = nltk.corpus.stopwords.words('english')\n",
    "\n",
    "#wn = nltk.WordNetLemmatizer()\n",
    "ps = nltk.PorterStemmer()\n",
    "\n",
    "#Removing stopwords and punctuations\n",
    "def clean_text(text):\n",
    "    text = \"\".join([word for word in text if word not in string.punctuation])\n",
    "    tokens = re.split(' ', text)\n",
    "    text = [word for word in tokens if word not in stopwords]\n",
    "    text = [ps.stem(word) for word in text]\n",
    "    #text = [wn.lemmatize(word) for word in text]\n",
    "    return text\n",
    "\n",
    "\n",
    "#Removing original text column\n",
    "del data['text']"
   ]
  },
  {
   "cell_type": "code",
   "execution_count": 51,
   "metadata": {},
   "outputs": [
    {
     "data": {
      "text/plain": [
       "(16005, 19)"
      ]
     },
     "execution_count": 51,
     "metadata": {},
     "output_type": "execute_result"
    }
   ],
   "source": [
    "data.shape"
   ]
  },
  {
   "cell_type": "markdown",
   "metadata": {},
   "source": [
    "#### Vectorization of words from p_text column using tfidf vectorizer"
   ]
  },
  {
   "cell_type": "code",
   "execution_count": 52,
   "metadata": {},
   "outputs": [
    {
     "name": "stdout",
     "output_type": "stream",
     "text": [
      "(16005, 14959)\n",
      "['', 'aa', 'aaa', 'aaaa', 'aaaaa', 'aaaaaaaaahhhhhh', 'aaaaaaaah', 'aaaaaag', 'aaaaaalllat', 'aaaaaarrrggggg', 'aaaaah', 'aaaaamaz', 'aaaah', 'aaaahhhh', 'aaaahhhhh', 'aaaahhhhhhh', 'aaaamaz', 'aaaamin', 'aaaargh', 'aaah', 'aaahahha', 'aaahhh', 'aaahhhh', 'aaargh', 'aaarrrggghhh', 'aaasaand', 'aaaw', 'aaawwww', 'aac', 'aaeeeew', 'aafk', 'aafreen', 'aah', 'aahhh', 'aaliyah', 'aaltima', 'aar', 'aaron', 'aarrrggghhh', 'aashrit', 'aaww', 'aawww', 'ab', 'abaaa', 'abandon', 'abandond', 'abba', 'abbey', 'abbi', 'abc', 'abcwhitehousetakeov', 'abd', 'abdomen', 'abdul', 'abel', 'abey', 'abhi', 'abi', 'abil', 'abit', 'abl', 'abmb', 'abmeldebest', 'abo', 'aboard', 'abonden', 'abooba', 'aboulut', 'abound', 'abouttohead', 'abroad', 'absenc', 'absolut', 'absolutli', 'absorb', 'abstract', 'absurd', 'abt', 'abu', 'abus', 'abyss', 'ac', 'aca', 'acab', 'acai', 'acarlo', 'accent', 'accept', 'accesorio', 'access', 'accessori', 'accid', 'accident', 'accomplish', 'accord', 'accordin', 'account', 'acct', 'accur', 'accus', 'ace', 'acekard', 'acesta', 'ach', 'achar', 'achey', 'achiev', 'achso', 'ack', 'acknowledg', 'acl', 'acn', 'acohol', 'acopp', 'acoust', 'acousti', 'acquir', 'acr', 'acronym', 'acropoli', 'across', 'act', 'actaulli', 'actin', 'action', 'actionscript', 'activ', 'activboard', 'activis', 'actor', 'actress', 'actual', 'actuat', 'actulli', 'actuual', 'ad', 'ada', 'adabella', 'adam', 'adamgasm', 'adapt', 'adaptor', 'add', 'addi', 'addict', 'addit', 'address', 'addthi', 'ade', 'adelaid', 'adi', 'adik', 'adio', 'adium', 'adject', 'admin', 'administr', 'admir', 'admiss', 'admit', 'adn', 'adob', 'adobec', 'adopt', 'ador', 'adrenalin', 'adrenalina', 'adrian', 'adriano', 'adrienn', 'adt', 'adult', 'advanc', 'advantag', 'advent', 'adventur', 'advers', 'advert', 'advertis', 'advic', 'advil', 'advis', 'advisor', 'advoc', 'ae', 'aerial', 'aeroplan', 'aeroport', 'aerosmith', 'aerosol', 'aesthet', 'aether', 'af', 'afarid', 'afer', 'aff', 'affair', 'affect', 'affection', 'affetc', 'affili', 'affilico', 'afford', 'afica', 'afk', 'afo', 'afraid', 'africa', 'african', 'afro', 'aft', 'afta', 'afte', 'afteral', 'afterhour', 'afternoon', 'afternooooooon', 'afterpartay', 'afterward', 'afterwork', 'aftr', 'ag', 'agadir', 'againnnnnnnnnnnnnnnn', 'against', 'age', 'agen', 'agenda', 'agent', 'agentbooth', 'agg', 'aggghhh', 'aggrav', 'aggress', 'agh', 'aghhh', 'ago', 'agoni', 'agre', 'agree', 'agreement', 'agress', 'aguilera', 'aguir', 'ah', 'aha', 'ahah', 'ahaha', 'ahahaah', 'ahahaha', 'ahahahaahahah', 'ahahahah', 'ahahahaha', 'ahahhaa', 'ahar', 'ahead', 'ahem', 'ahet', 'ahg', 'ahh', 'ahha', 'ahhh', 'ahhhck', 'ahhhh', 'ahhhhh', 'ahhhhhhh', 'ahhhhhhhh', 'ahhhhhhhhhhhhh', 'ahhhhhhhhhhhhhhh', 'ahhhhhhhhhhhhhhhhhhhh', 'ahir', 'ahl', 'ahm', 'ahold', 'ahw', 'ai', 'aib', 'aid', 'aidan', 'aiden', 'ailment', 'aim', 'aime', 'aimn', 'aint', 'aio', 'air', 'airborn', 'aircondit', 'airfranc', 'airplan', 'airport', 'airshow', 'airwalk', 'aisl', 'aislinn', 'aj', 'ak', 'aka', 'akai', 'aki', 'ako', 'akron', 'aku', 'al', 'ala', 'alam', 'alan', 'alani', 'alarm', 'albani', 'albarado', 'albeit', 'albert', 'album', 'alburi', 'alcholo', 'alcohol', 'alcoholicli', 'alcossebr', 'aldo', 'aleah', 'alek', 'alert', 'alex', 'alexa', 'alexalltimelow', 'alexand', 'alexandria', 'alexi', 'alexrevirel', 'alfr', 'alfredo', 'algerian', 'algu', 'ali', 'alic', 'alieh', 'alien', 'alik', 'alison', 'alisonhaislip', 'alissa', 'alitalia', 'alittl', 'aliv', 'alki', 'all', 'alla', 'allah', 'allen', 'allerg', 'allergi', 'alli', 'allison', 'alll', 'allll', 'allllll', 'allllllllll', 'allot', 'allow', 'allreadi', 'allthesausag', 'alm', 'alma', 'almighti', 'almond', 'almost', 'aloha', 'alohaarleen', 'alon', 'aloneanddateless', 'alonee', 'along', 'alongsid', 'alot', 'alotta', 'aloud', 'alpha', 'alr', 'alreadi', 'alred', 'alri', 'alright', 'alrighti', 'alrit', 'alsac', 'alska', 'also', 'alsoo', 'alt', 'alter', 'altern', 'altho', 'although', 'althoughh', 'altitud', 'altpress', 'alum', 'alv', 'alvin', 'alway', 'alyssa', 'alyssaaa', 'alyssabruno', 'am', 'ama', 'amanda', 'amandapalm', 'amat', 'amateur', 'amateurish', 'amaz', 'amazin', 'amazingg', 'amazinggg', 'amazingggggg', 'amazingli', 'amazinnnnnnggggg', 'amazon', 'amber', 'ambien', 'ambiti', 'ambul', 'amd', 'ameel', 'amen', 'amend', 'america', 'american', 'americanyard', 'amethyst', 'ami', 'amigo', 'amish', 'amiss', 'ammo', 'amo', 'among', 'amongst', 'amooti', 'amount', 'amoy', 'amp', 'amshiz', 'amsterdam', 'amstutz', 'amtrak', 'amus', 'anaclet', 'anaheim', 'anak', 'analog', 'analysi', 'analyt', 'anand', 'anastasialoxley', 'anastasiarene', 'anathem', 'anatomi', 'anberlin', 'ancestor', 'anci', 'ancient', 'and', 'andi', 'ando', 'andr', 'andreasjewelri', 'andrew', 'android', 'andwond', 'andyhurleyday', 'ane', 'anesti', 'ang', 'angel', 'angelaye', 'angelin', 'angelina', 'anger', 'angerel', 'angi', 'angieleah', 'angl', 'angri', 'angryy', 'angu', 'angustia', 'ani', 'anim', 'animeexpo', 'anita', 'ank', 'ankl', 'anklet', 'ann', 'anna', 'annan', 'annett', 'anni', 'annieweasley', 'anniverari', 'anniversari', 'annnd', 'annnnnd', 'announc', 'annoy', 'annoyin', 'annoyingnesss', 'annual', 'ano', 'anon', 'anonym', 'anoop', 'anorexia', 'anoth', 'ansomnia', 'answer', 'answern', 'ant', 'antenna', 'anthem', 'anthoni', 'anthrocon', 'anthropologi', 'anti', 'antibiot', 'antichrist', 'anticip', 'antispywar', 'antiviru', 'antoinett', 'antonio', 'antsi', 'anu', 'anunt', 'anwli', 'anxieti', 'anxiou', 'anxious', 'anybodi', 'anymor', 'anyon', 'anytak', 'anyth', 'anythin', 'anytim', 'anyw', 'anyway', 'anywayz', 'anywher', 'anywyay', 'aomm', 'ap', 'apa', 'apar', 'apart', 'apc', 'apemarieoteyza', 'apena', 'apetit', 'api', 'aplusk', 'apnea', 'apolog', 'apologis', 'apostro', 'app', 'appal', 'appar', 'appeal', 'appear', 'append', 'appendix', 'appenin', 'appet', 'appetit', 'appl', 'applaud', 'applaus', 'applebe', 'applesauc', 'appli', 'applic', 'appoint', 'apppl', 'apprais', 'appreci', 'apprent', 'apprentic', 'appretic', 'approach', 'appropri', 'approv', 'apr', 'april', 'aprilstl', 'aproov', 'apt', 'aquaint', 'aquaparc', 'aquarium', 'ar', 'ara', 'arab', 'aramex', 'arami', 'arashi', 'arbi', 'arcadia', 'archer', 'archi', 'archiehamilton', 'archipelago', 'architectour', 'architectur', 'archudream', 'archuleta', 'area', 'areee', 'arena', 'arent', 'arf', 'arg', 'argentina', 'argento', 'arggg', 'argghh', 'argh', 'arghggggggg', 'arghh', 'arghhh', 'arghrghrghh', 'argo', 'argu', 'argument', 'argyl', 'ariel', 'arietid', 'aright', 'arisebrightstar', 'aristoclea', 'arithmat', 'ariza', 'arizona', 'ark', 'arlington', 'arm', 'armchair', 'armi', 'armidillo', 'armless', 'armor', 'armori', 'armpit', 'arnd', 'arni', 'arnold', 'arnt', 'aro', 'arond', 'around', 'arpaio', 'arrang', 'arrgh', 'arriba', 'arrington', 'arriv', 'arround', 'arrrgghhh', 'arrrgh', 'arrrrgg', 'arrrrgggghhh', 'arrrrrrh', 'arryt', 'ars', 'arsen', 'arsi', 'art', 'arthur', 'artic', 'artichok', 'articl', 'artieka', 'artist', 'artomat', 'artomatcarol', 'artoni', 'artwork', 'aruba', 'arunbasil', 'arvo', 'asadddddddd', 'asanjum', 'asap', 'asapppp', 'ascend', 'ascot', 'ascultat', 'asda', 'ash', 'asham', 'ashevil', 'ashleigh', 'ashley', 'ashleynicol', 'ashleysimon', 'ashleytisdal', 'ashton', 'ashtonmelancon', 'asi', 'asia', 'asian', 'asid', 'asif', 'ask', 'askin', 'asleep', 'aslo', 'aslong', 'aso', 'asot', 'asparagu', 'aspect', 'aspir', 'ass', 'assassin', 'assault', 'assembl', 'assess', 'asshol', 'assign', 'assist', 'asskiss', 'associ', 'assplod', 'assum', 'assumpt', 'assuredli', 'astablish', 'astd', 'asthma', 'astic', 'astor', 'astro', 'astrolog', 'astromelanin', 'astronomi', 'asu', 'asuka', 'aswel', 'aswer', 'asylm', 'asylum', 'atc', 'atcha', 'ate', 'athen', 'athena', 'athina', 'atiba', 'atkin', 'atl', 'atla', 'atlant', 'atlanta', 'atlast', 'atleast', 'atm', 'atmospher', 'atown', 'atrl', 'atrucco', 'att', 'attach', 'attack', 'attempt', 'attend', 'attent', 'attentionwhor', 'atti', 'attic', 'attir', 'attitud', 'attract', 'attribut', 'atunci', 'au', 'aub', 'aubrey', 'auburn', 'auch', 'auction', 'audi', 'audienc', 'audio', 'audioboo', 'audit', 'audm', 'audrey', 'audreyfiierc', 'aug', 'augh', 'aughh', 'augment', 'august', 'auh', 'auihsduiashdaiusdhiu', 'aun', 'aunt', 'aureliom', 'aurora', 'aussi', 'austin', 'australia', 'australian', 'auteur', 'authent', 'author', 'auto', 'autoblog', 'autogragh', 'autograph', 'autom', 'automat', 'automot', 'autotun', 'autumn', 'av', 'avail', 'avali', 'avantgardee', 'avatar', 'ave', 'aveng', 'aventura', 'averag', 'avg', 'avi', 'avit', 'avlb', 'avocado', 'avoid', 'avon', 'aw', 'await', 'awak', 'awakee', 'awaken', 'awapi', 'awar', 'award', 'away', 'awayyy', 'awayyyyy', 'awe', 'awekay', 'awesm', 'awesom', 'awesomest', 'awesommee', 'awh', 'awhh', 'awhil', 'awhilw', 'awkward', 'awopd', 'awsom', 'aww', 'awwh', 'awww', 'awwweeeh', 'awwww', 'awwwww', 'awwwwwwwww', 'awwwwwwwwwww', 'ax', 'axe', 'ay', 'aya', 'ayan', 'aye', 'ayer', 'ayi', 'ayo', 'ayuko', 'ayyeee', 'az', 'azadi', 'azn', 'azz', 'b', 'ba', 'baaaaaaaaaaaad', 'baaaack', 'baad', 'baah', 'babbi', 'babe', 'babealert', 'babessssssssssssssssss', 'babez', 'babi', 'babiesss', 'babygurl', 'babylon', 'babysit', 'babywear', 'babyyi', 'babyyyy', 'babyyyyyy', 'bac', 'baccalaurett', 'bach', 'bachelor', 'bachelorett', 'back', 'backburn', 'backchannel', 'backdrop', 'background', 'backord', 'backpack', 'backround', 'backstreet', 'backstreetboy', 'backstret', 'backtrack', 'backup', 'backward', 'backyard', 'bacolod', 'bacon', 'bad', 'badass', 'badd', 'baddd', 'badddd', 'bade', 'badger', 'baditz', 'badli', 'badminton', 'badnewzz', 'bado', 'badterp', 'badtreep', 'baffin', 'bag', 'bagel', 'baggag', 'baggi', 'bah', 'bahaha', 'bahahaha', 'bahahahahahah', 'bahama', 'bahar', 'bahasa', 'bahhh', 'bahruu', 'baikaan', 'bail', 'bailey', 'bait', 'baixando', 'baj', 'bajoran', 'bak', 'bake', 'bakeri', 'bakersfield', 'bako', 'bal', 'balanc', 'balat', 'balcani', 'balckberri', 'balconi', 'balconywauu', 'bald', 'balet', 'bali', 'balik', 'balines', 'ball', 'ballet', 'balli', 'balloon', 'balmain', 'balsam', 'balsilli', 'baltimor', 'balut', 'bam', 'bamba', 'bamboo', 'bamboozl', 'bamoo', 'ban', 'banana', 'bananasgoround', 'band', 'bandau', 'bandra', 'bandwagon', 'bandwidth', 'bane', 'baneri', 'bang', 'bangalor', 'banger', 'bangin', 'bangkok', 'bangun', 'bank', 'banker', 'bankruptci', 'banner', 'banquet', 'banter', 'banyak', 'baptism', 'baptist', 'baq', 'bar', 'barack', 'barakat', 'barbado', 'barbara', 'barbecu', 'barbequ', 'barbi', 'barca', 'barcampsd', 'bare', 'bareil', 'bargain', 'barista', 'bariton', 'bark', 'barn', 'barnard', 'barnett', 'barrel', 'barrera', 'barri', 'barrier', 'barryji', 'bart', 'bartend', 'baru', 'base', 'basebal', 'basement', 'bash', 'basic', 'basiclli', 'basil', 'basin', 'bask', 'basket', 'basketbal', 'baskin', 'bass', 'bassoon', 'bastard', 'bat', 'batch', 'bath', 'bathhttiimmmee', 'bathroom', 'bathtub', 'batman', 'batmanda', 'batt', 'batter', 'batteri', 'battl', 'battlefield', 'battlest', 'battlestar', 'baudelair', 'baumhold', 'bavaria', 'bawl', 'baxiabhishek', 'bay', 'baybeh', 'bayle', 'baynew', 'bb', 'bback', 'bbbold', 'bbc', 'bbcake', 'bbl', 'bbm', 'bbq', 'bbule', 'bbyck', 'bc', 'bcaus', 'bck', 'bcn', 'bcuz', 'bday', 'bdayyyi', 'bea', 'beabl', 'beach', 'beachi', 'beacon', 'bead', 'beagl', 'bean', 'beani', 'bear', 'bearabl', 'beard', 'beast', 'beat', 'beatdown', 'beatl', 'beatwittyparti', 'beau', 'beauti', 'beaver', 'beavz', 'beb', 'bebo', 'bec', 'becam', 'becau', 'becca', 'beccaxvipx', 'becci', 'beci', 'beck', 'beckii', 'beckyisging', 'becom', 'becu', 'becuas', 'bed', 'beddd', 'bedddd', 'bedddddd', 'bedddtime', 'beddybaw', 'bedford', 'bedroom', 'bedstefar', 'bedtim', 'bee', 'beedddddd', 'beeee', 'beeeeeeaaassstteddd', 'beeeeeen', 'beef', 'beehiv', 'beejiveim', 'beelzenef', 'beem', 'beenn', 'beer', 'beet', 'befor', 'beg', 'began', 'begin', 'behalf', 'behalv', 'behav', 'behavior', 'behind', 'beig', 'beij', 'bein', 'beinazir', 'bekki', 'bel', 'belajar', 'belat', 'beleiv', 'belfast', 'belgian', 'beli', 'belief', 'believ', 'beligan', 'beliv', 'bell', 'bella', 'bellair', 'belli', 'bellingham', 'bellini', 'bellz', 'beloit', 'belong', 'belov', 'belt', 'bemoan', 'ben', 'bench', 'bend', 'bender', 'benedictherold', 'benefit', 'beneva', 'bengal', 'benidorm', 'benjamin', 'benjaminelli', 'benji', 'benni', 'bennihana', 'benrogersuk', 'bentley', 'benvhv', 'berbaloi', 'bereft', 'berfday', 'bergkamp', 'berkeley', 'berlin', 'berlyann', 'bern', 'berni', 'berr', 'berri', 'bershop', 'bert', 'besid', 'beso', 'best', 'bestbuy', 'bestest', 'bestfriend', 'besti', 'bestt', 'bet', 'beta', 'betatest', 'betch', 'betfair', 'beth', 'bethani', 'bethnal', 'betray', 'betta', 'better', 'betterrr', 'betti', 'beup', 'bever', 'beverli', 'bewar', 'beyonc', 'beyond', 'bf', 'bff', 'bffffl', 'bffl', 'bg', 'bgd', 'bgermainx', 'bgt', 'bh', 'bham', 'bhogl', 'bhoy', 'bhushmoney', 'bi', 'bia', 'biar', 'bias', 'biata', 'biatch', 'bib', 'bibl', 'bid', 'biddi', 'biden', 'bidu', 'bieber', 'bienvu', 'biew', 'big', 'bigass', 'bigbroth', 'bigchippah', 'bigg', 'biggbi', 'bigger', 'biggest', 'biggi', 'bighit', 'bike', 'biketowork', 'bikini', 'bill', 'billi', 'billiabala', 'billion', 'billyraycyru', 'bilo', 'bimbo', 'bin', 'bing', 'bingo', 'bint', 'binx', 'bio', 'biographi', 'biolog', 'bird', 'birdgang', 'birdi', 'birdpeterson', 'birfday', 'birmingham', 'birth', 'birthdat', 'birthday', 'birthdayyy', 'birthdayyyyy', 'biscuit', 'bisexu', 'bishop', 'bismol', 'bisni', 'bisou', 'bisquit', 'bit', 'bitch', 'bitchan', 'bitchess', 'bitchessss', 'bitcomet', 'bite', 'biter', 'bithday', 'bitofmomsens', 'bitsian', 'bittabuffalo', 'bitter', 'bittersweet', 'bittjt', 'biz', 'bizadapt', 'bizarr', 'bizkit', 'bizn', 'bizzar', 'bizzi', 'bj', 'bjgraml', 'bjork', 'bk', 'bkc', 'bking', 'bla', 'black', 'blackbabi', 'blackberri', 'blackberryless', 'blacker', 'blackjack', 'blackout', 'blackpeopl', 'blacktat', 'bladder', 'blafollett', 'blah', 'blahh', 'blahhh', 'blahhhh', 'blair', 'blais', 'blake', 'blame', 'blanca', 'bland', 'blank', 'blanket', 'blanki', 'blaqsheepceo', 'blare', 'blast', 'blasti', 'blatant', 'blate', 'blatent', 'blaze', 'blazer', 'blazin', 'bldg', 'bleach', 'bleak', 'blech', 'bleck', 'bled', 'bleed', 'blegh', 'bleh', 'blehh', 'blehhh', 'blender', 'bless', 'bletchley', 'bleurgh', 'blew', 'blfc', 'blighti', 'bliiiind', 'bliliup', 'blimey', 'blimmen', 'blind', 'bling', 'blink', 'blip', 'bliper', 'bliss', 'blister', 'blitherin', 'blizbleeeeeezayyy', 'blizzard', 'bloat', 'blob', 'blochead', 'block', 'blockhead', 'blog', 'blogger', 'bloggernongratta', 'bloggiesta', 'blograt', 'blogskin', 'blogspot', 'blogtv', 'bloke', 'blond', 'blood', 'bloodd', 'bloodi', 'bloodshot', 'bloodyangl', 'bloom', 'bloomin', 'bloomtre', 'blossom', 'blow', 'blowhornoz', 'blowin', 'blowout', 'blu', 'bludgi', 'blue', 'blueberri', 'bluetooth', 'bluff', 'blugii', 'blunt', 'blur', 'bluray', 'bluri', 'blush', 'bmf', 'bmore', 'bmth', 'bmw', 'bn', 'bnp', 'bo', 'boa', 'boag', 'board', 'boardi', 'boardmat', 'boast', 'boat', 'bob', 'boba', 'bobalert', 'bobbi', 'bobbin', 'boca', 'bodega', 'bodi', 'bodili', 'bodybugg', 'bodyshop', 'bodyyi', 'bof', 'bogan', 'bogdan', 'bogof', 'bogu', 'bohannon', 'bohol', 'boi', 'boicot', 'boil', 'bojar', 'bokhari', 'bol', 'bold', 'boll', 'bolli', 'bolling', 'bolo', 'bom', 'bomb', 'bomel', 'bon', 'bonanzl', 'bond', 'bondi', 'bondno', 'bone', 'bonfir', 'bong', 'bongo', 'bonita', 'bonjela', 'bonjella', 'bonker', 'bonni', 'bonu', 'boo', 'boobi', 'booboo', 'booger', 'boogeri', 'boogi', 'boohoooo', 'boohooop', 'book', 'bookieb', 'bookmark', 'bookpush', 'bookshelf', 'bookstor', 'boom', 'booni', 'booo', 'booohooo', 'boooo', 'booooo', 'boooooooo', 'boooor', 'boor', 'boost', 'boot', 'booth', 'booti', 'bootleg', 'bootsi', 'booz', 'bop', 'boput', 'bor', 'boracay', 'boramey', 'bord', 'border', 'borderlin', 'bore', 'boreanaz', 'boredd', 'boreddd', 'boreddddd', 'boredom', 'boree', 'borez', 'borin', 'boringgg', 'bork', 'born', 'borneo', 'borr', 'borrow', 'bose', 'bosen', 'boss', 'boston', 'bot', 'botero', 'bother', 'botteshop', 'bottl', 'bottleneck', 'bottom', 'bought', 'boulderdiari', 'bounc', 'bounci', 'bound', 'boundari', 'bourbon', 'bourn', 'bout', 'bouta', 'bow', 'bowen', 'bowfish', 'bowl', 'bowman', 'box', 'boxesssss', 'boxi', 'boxset', 'boy', 'boyee', 'boyfrien', 'boyfriend', 'boyl', 'boyscout', 'boysov', 'boysssss', 'boytoy', 'boyzon', 'bpark', 'bq', 'br', 'bra', 'brace', 'bracelet', 'braceyfac', 'bracket', 'braclet', 'brad', 'braden', 'bradiewebb', 'bradiewebbstack', 'bradley', 'bradleywil', 'bradshaw', 'bradwingquay', 'brag', 'bragg', 'braid', 'brain', 'brake', 'branch', 'brand', 'brandi', 'brandnu', 'brandon', 'brandywandlov', 'brang', 'brasil', 'brat', 'brave', 'bravest', 'bravo', 'braw', 'brazil', 'brazilian', 'brb', 'bre', 'bread', 'break', 'breakdown', 'breakeven', 'breakfast', 'breakfazt', 'breaki', 'breakingxdawn', 'breakup', 'breast', 'breath', 'breda', 'bree', 'breed', 'breez', 'breezi', 'breif', 'brent', 'brett', 'brettjohn', 'brevi', 'brew', 'brewfest', 'brewski', 'bri', 'brian', 'bribe', 'brick', 'bride', 'bridesmaid', 'bridezilla', 'bridg', 'brief', 'bright', 'brighten', 'brighter', 'brighthou', 'brightli', 'brighton', 'brill', 'brilliant', 'bring', 'brinjal', 'brink', 'brisban', 'briskit', 'bristol', 'brit', 'britain', 'brithday', 'british', 'britishmensa', 'britney', 'britneyspear', 'britster', 'britt', 'brittani', 'brkfst', 'bro', 'broad', 'broadband', 'broadcast', 'broadway', 'brocant', 'broccoli', 'brochur', 'brockhoff', 'brodi', 'brogen', 'broke', 'broken', 'broker', 'brolli', 'bronchiti', 'bronkopneumoni', 'bronx', 'bronz', 'bronzer', 'brook', 'brooklyn', 'brooklynn', 'brotha', 'brother', 'brotherli', 'brotherssss', 'brought', 'brown', 'browni', 'brownout', 'browser', 'browsin', 'browss', 'brrr', 'bruce', 'bruci', 'brudenel', 'brudiu', 'bruis', 'brun', 'brunch', 'brundl', 'bruno', 'brusel', 'brush', 'brussel', 'brutal', 'brutha', 'bruvaa', 'bruxism', 'bryan', 'bryant', 'bs', 'bsb', 'bsd', 'bsg', 'bsharp', 'bside', 'bsnl', 'bsod', 'bt', 'btr', 'btw', 'bu', 'bubba', 'bubbl', 'bubblefriend', 'buch', 'buck', 'bucket', 'buckl', 'buckley', 'bucknal', 'bud', 'buda', 'buddha', 'buddi', 'budget', 'budokai', 'budurl', 'budvar', 'bueno', 'buff', 'buffalo', 'buffer', 'buffet', 'buffi', 'bug', 'bugatti', 'bugawho', 'bugg', 'bugger', 'buggi', 'bugheart', 'buh', 'buhby', 'build', 'built', 'buis', 'bukit', 'bulb', 'bulgaria', 'bull', 'bulletin', 'bulli', 'bullock', 'bullshit', 'bum', 'bummer', 'bump', 'bumpand', 'bumper', 'bun', 'bunch', 'bundl', 'bung', 'bunga', 'bunge', 'bungl', 'bunn', 'bunni', 'burberri', 'burdenofmiseri', 'burfdayi', 'burger', 'buri', 'burk', 'burlesqu', 'burn', 'burnt', 'burp', 'burrito', 'burson', 'burst', 'burt', 'busan', 'bush', 'bushmeat', 'bushwacka', 'busi', 'busier', 'businessman', 'busman', 'bust', 'buster', 'but', 'butcher', 'butoan', 'butt', 'butter', 'butterfli', 'butterflysong', 'butthead', 'buttmonkey', 'buttmunch', 'button', 'buttt', 'butttttt', 'buut', 'buuut', 'buy', 'buzi', 'buzz', 'buzzer', 'buzzfledderjohn', 'buzzoutloud', 'buzzword', 'buzzz', 'bv', 'bw', 'bwaha', 'bwhaha', 'bx', 'byasa', 'bye', 'byeby', 'byee', 'byeeee', 'byexx', 'byk', 'bypass', 'bytheway', 'bytor', 'byy', 'c', 'ca', 'caaaallateee', 'cab', 'cabaret', 'cabbag', 'cabbettenz', 'cabeza', 'cabin', 'cabl', 'cabletangl', 'cabo', 'cabooltur', 'cabriolet', 'cach', 'cackkboxasss', 'cackl', 'cactu', 'caf', 'cafe', 'cafepress', 'cafeteria', 'caff', 'caffein', 'caffien', 'caffin', 'cage', 'cagliari', 'cairo', 'cait', 'caitlyn', 'cajun', 'cake', 'cakecaus', 'cal', 'calabassa', 'caland', 'calculu', 'calder', 'caleb', 'calendar', 'cali', 'calibr', 'calico', 'california', 'californiaaa', 'californiaaaaa', 'call', 'callanta', 'caller', 'callin', 'callinf', 'callipo', 'callmecourt', 'callum', 'calm', 'calmer', 'calmund', 'calori', 'calpol', 'caltrain', 'calvin', 'cam', 'camara', 'cambridg', 'camcord', 'camden', 'came', 'cameo', 'cameogirl', 'camera', 'cameraless', 'cameron', 'camil', 'camp', 'campaign', 'campbel', 'camper', 'campu', 'camron', 'camryn', 'can', 'canada', 'canadamomd', 'canadian', 'canal', 'canaver', 'cancel', 'cancer', 'cancerrrrrrr', 'cancun', 'cand', 'candac', 'candi', 'candid', 'candl', 'candykid', 'cane', 'cankl', 'canna', 'cannon', 'cannot', 'canon', 'canr', 'cant', 'cantu', 'canuck', 'canva', 'canyon', 'caoimh', 'cap', 'capcom', 'cape', 'capit', 'capmag', 'capn', 'cappi', 'cappuccino', 'captain', 'caption', 'captsolo', 'car', 'cara', 'caramel', 'carb', 'carbamazapin', 'card', 'cardboard', 'cardigan', 'cardin', 'cardio', 'care', 'careb', 'career', 'careful', 'careless', 'cargo', 'cari', 'caribbean', 'carissaaa', 'carita', 'carlisl', 'carlo', 'carlsbad', 'carmack', 'carmen', 'carmz', 'carnardo', 'carney', 'carniv', 'caro', 'carol', 'carolin', 'carolina', 'carolinex', 'carolyn', 'carpet', 'carr', 'carradin', 'carri', 'carrol', 'carrot', 'carrrrr', 'carson', 'carsonjdali', 'cart', 'cartel', 'carter', 'carthors', 'carton', 'cartoon', 'casa', 'case', 'casefil', 'casey', 'cash', 'cashback', 'cashflow', 'casino', 'casio', 'casper', 'cassade', 'cassi', 'cassidyblair', 'cast', 'castl', 'castlebar', 'casual', 'casualti', 'cat', 'catalina', 'catastroph', 'cataton', 'catch', 'catcha', 'catcher', 'catchi', 'categori', 'catfish', 'cathart', 'cathol', 'cati', 'catlow', 'catsftw', 'catsoup', 'catti', 'caught', 'caus', 'causw', 'caution', 'cautiou', 'cav', 'cavali', 'cave', 'caversham', 'caviti', 'cavort', 'cayenn', 'cazm', 'cb', 'cba', 'cbf', 'cbn', 'cbox', 'cc', 'ccna', 'cco', 'ccsf', 'cctld', 'ccullenmd', 'cd', 'ce', 'ceas', 'cece', 'ceci', 'cedar', 'cedric', 'cee', 'ceejay', 'ceil', 'cel', 'celbrat', 'celcom', 'celeb', 'celebaci', 'celebebr', 'celebr', 'celia', 'celiia', 'cell', 'cellar', 'cellgroup', 'cellufun', 'celoso', 'celtic', 'cementari', 'cemeteri', 'censor', 'censorship', 'cent', 'centenari', 'center', 'centr', 'central', 'centuri', 'ceo', 'cept', 'cereal', 'cerebr', 'ceremoni', 'cerita', 'cert', 'certain', 'certainli', 'certif', 'certifi', 'cest', 'cet', 'ceylon', 'cfr', 'cgft', 'ch', 'cha', 'chaari', 'chacha', 'chad', 'chai', 'chain', 'chainsaw', 'chair', 'chak', 'chalkpit', 'challeng', 'chamber', 'chameleon', 'champ', 'champagn', 'champaign', 'champion', 'championship', 'chan', 'chanc', 'chanceto', 'chang', 'changel', 'channel', 'channelvint', 'channl', 'chanpagn', 'chao', 'chap', 'chapel', 'chapter', 'char', 'charact', 'charg', 'charger', 'charic', 'chariti', 'charitytuesday', 'charl', 'charleshamilton', 'charleston', 'charli', 'charlieissocoollik', 'charlott', 'charlottayeee', 'charm', 'chart', 'chase', 'chaser', 'chat', 'chate', 'chateau', 'chatroom', 'chatsworth', 'chatti', 'chaud', 'chauffeur', 'chavi', 'chay', 'chayra', 'chch', 'chea', 'cheap', 'cheaper', 'cheapest', 'chear', 'cheat', 'chechi', 'check', 'checkin', 'checkkkkmmarrrkkkksss', 'checklist', 'checkout', 'checkup', 'cheeeeap', 'cheek', 'cheeki', 'cheemaro', 'cheer', 'cheerlead', 'chees', 'cheese', 'cheeseburg', 'cheesecak', 'cheesesteak', 'cheesi', 'cheetah', 'cheey', 'chef', 'chegay', 'chel', 'chelsea', 'chelski', 'chem', 'chemic', 'chemisrti', 'chemistri', 'chemo', 'chennn', 'chequ', 'cher', 'cheri', 'cherish', 'cherri', 'cherub', 'cheryl', 'cherylbg', 'chess', 'chesscub', 'chest', 'chevoooo', 'chew', 'chewbacca', 'chewi', 'chey', 'cheyannebra', 'chhun', 'chi', 'chiara', 'chica', 'chicago', 'chicagoland', 'chicblog', 'chick', 'chicka', 'chicken', 'chicki', 'chief', 'chien', 'chika', 'chikia', 'chil', 'child', 'childhood', 'childlin', 'children', 'chile', 'chileeeeeee', 'chili', 'chill', 'chillaxin', 'chillen', 'chilli', 'chillin', 'chillingo', 'chiltern', 'chimaira', 'china', 'chinaman', 'chinatown', 'chines', 'chiness', 'chino', 'chioma', 'chip', 'chiplead', 'chipotl', 'chippi', 'chiquita', 'chiro', 'chiron', 'chirp', 'chishinau', 'chita', 'chitchat', 'chitown', 'chk', 'chloe', 'choc', 'choclat', 'choco', 'chocol', 'chocolaet', 'chocomrp', 'choic', 'choiic', 'choir', 'choke', 'cholesterol', 'chomp', 'choo', 'choos', 'choosi', 'chop', 'chopin', 'chorar', 'chore', 'chose', 'chosen', 'chosenart', 'chow', 'chowder', 'chri', 'chrisjguerra', 'chriss', 'chrissi', 'christ', 'christel', 'christen', 'christian', 'christiannnn', 'christin', 'christina', 'christma', 'christoph', 'christyna', 'chrome', 'chronic', 'chronicl', 'chrystal', 'chubbi', 'chuck', 'chuckl', 'chuckmemonday', 'chunderella', 'chung', 'chunk', 'chunki', 'church', 'churchh', 'churchhh', 'churchwarden', 'chwc', 'chyeaa', 'cia', 'ciao', 'ciaoooooooo', 'ciaox', 'ciara', 'cider', 'cidermak', 'cigarett', 'ciie', 'cil', 'cin', 'cinci', 'cinco', 'cinderellla', 'cindi', 'cinema', 'cinemaa', 'cinemac', 'cinemaonlin', 'cinnamon', 'circ', 'circl', 'circu', 'circuit', 'circumst', 'cirebon', 'cirqu', 'cite', 'citi', 'citron', 'citru', 'cittaaayi', 'citygirl', 'ciufuleala', 'civil', 'civillag', 'cj', 'cjye', 'ck', 'ckant', 'cki', 'cking', 'cl', 'claasssss', 'claim', 'clair', 'clairey', 'clam', 'clan', 'clank', 'clap', 'clapoti', 'clara', 'clarendon', 'clarifi', 'clarinet', 'clariss', 'clariti', 'clark', 'clarki', 'clase', 'clash', 'class', 'classi', 'classic', 'classifi', 'classmat', 'classmate', 'classroom', 'classs', 'claud', 'claudi', 'claudia', 'claw', 'clean', 'cleaner', 'cleanin', 'clear', 'clearanc', 'clearblu', 'clearer', 'clearli', 'clearwat', 'cleat', 'cleme', 'clemmensen', 'clench', 'cleveland', 'clever', 'click', 'client', 'clifton', 'climax', 'climb', 'cling', 'clinic', 'clip', 'clipboard', 'clipcrit', 'cliqu', 'clock', 'clockwork', 'clog', 'cloggi', 'clone', 'clorin', 'close', 'closer', 'closest', 'closet', 'closong', 'cloth', 'cloud', 'cloudi', 'cloudless', 'clough', 'clown', 'clownin', 'club', 'clubbin', 'clue', 'clueless', 'cluj', 'clutch', 'clutter', 'cm', 'cma', 'cmma', 'cmon', 'cmpta', 'cn', 'cna', 'cnat', 'cnet', 'cnn', 'cnp', 'cnt', 'cntr', 'co', 'coach', 'coachella', 'coars', 'coast', 'coastal', 'coaster', 'coat', 'cob', 'cobra', 'coca', 'cocacola', 'cocain', 'cock', 'cockney', 'cocktail', 'coco', 'cocoa', 'cocoancream', 'cocobanana', 'coconut', 'cod', 'code', 'codein', 'codeplex', 'codepo', 'coder', 'codi', 'coff', 'coffe', 'coffeeeeeeeeee', 'coffffeeee', 'coffin', 'cohen', 'coincid', 'coinkydink', 'coke', 'col', 'cola', 'colbert', 'colbi', 'cold', 'coldddd', 'colder', 'coldplay', 'coldston', 'cole', 'coleg', 'colelg', 'colin', 'coliseum', 'coll', 'collaps', 'collar', 'colleagu', 'collect', 'colleg', 'collegu', 'collett', 'collid', 'colligan', 'collin', 'collingwood', 'cologn', 'colombia', 'colombian', 'color', 'colorado', 'colour', 'colt', 'coltan', 'coltran', 'columbi', 'columbu', 'column', 'com', 'combin', 'combo', 'combust', 'comcast', 'come', 'comed', 'comedi', 'comedian', 'comee', 'cometh', 'comfi', 'comfisc', 'comfort', 'comfyyi', 'comic', 'comicbook', 'comin', 'comm', 'command', 'commend', 'comment', 'commentari', 'commer', 'commerc', 'commerci', 'commin', 'commiser', 'commiss', 'commit', 'commnt', 'commod', 'common', 'commun', 'communicasia', 'communion', 'communiqu', 'commut', 'comp', 'compani', 'companion', 'compar', 'comparison', 'compass', 'compat', 'compel', 'compens', 'competit', 'competitor', 'compil', 'compiz', 'compizin', 'complac', 'complain', 'complaint', 'complement', 'complet', 'complex', 'complic', 'compliment', 'compos', 'compound', 'compuls', 'comput', 'computadora', 'comrad', 'comtup', 'comunicar', 'con', 'conan', 'conceitedwombat', 'concentr', 'concept', 'concern', 'concert', 'concertt', 'concetr', 'conclus', 'concours', 'concret', 'concuss', 'condemn', 'condit', 'condition', 'condo', 'condol', 'condom', 'conduct', 'cone', 'conect', 'conf', 'confer', 'confert', 'confess', 'confid', 'confidenti', 'confin', 'confirm', 'confius', 'conflict', 'confus', 'confuseddddddddd', 'confuss', 'cong', 'congrad', 'congrat', 'congratss', 'congratsssss', 'congratul', 'congratz', 'conjug', 'conk', 'conker', 'conn', 'connect', 'connecticut', 'connector', 'conneticut', 'connor', 'conor', 'conquer', 'consequ', 'conserv', 'consid', 'consider', 'consiglieri', 'consist', 'consol', 'constant', 'constantli', 'constraint', 'construct', 'consult', 'cont', 'contacept', 'contact', 'contactu', 'contain', 'contari', 'contempl', 'contemporari', 'contend', 'content', 'contest', 'context', 'continu', 'contract', 'contrast', 'contribut', 'control', 'conveni', 'convent', 'conver', 'convers', 'convert', 'convinc', 'convo', 'coo', 'cook', 'cookbook', 'cooker', 'cooki', 'cookiez', 'cookin', 'cookout', 'cool', 'coolata', 'cooler', 'coolest', 'coolur', 'coonawarra', 'coool', 'cooold', 'coop', 'cooper', 'coould', 'cop', 'cope', 'copenhagen', 'copi', 'copyright', 'coralin', 'cord', 'cordial', 'corduroy', 'core', 'coreer', 'corey', 'cori', 'cork', 'corn', 'cornea', 'corner', 'corneto', 'cornetto', 'corniv', 'cornwal', 'corona', 'corpor', 'corps', 'correct', 'correctli', 'correl', 'correspond', 'cortne', 'cosey', 'cosford', 'cosi', 'cosign', 'cosmic', 'cosmopolitan', 'cosplay', 'cost', 'costa', 'costco', 'costello', 'costli', 'costum', 'cot', 'cottag', 'cotten', 'couch', 'couchdb', 'coudray', 'cougar', 'cough', 'coughh', 'cought', 'could', 'coulda', 'couldnt', 'couldv', 'council', 'count', 'countdown', 'counter', 'counti', 'countin', 'countri', 'countrysid', 'coup', 'coupl', 'coupon', 'courag', 'courier', 'cours', 'coursewar', 'coursework', 'court', 'courteney', 'courthous', 'courtne', 'courtney', 'cousin', 'cout', 'coutur', 'couz', 'cover', 'coverag', 'coveritl', 'cow', 'coward', 'cowbel', 'cowinparachut', 'cowork', 'cox', 'coyot', 'coz', 'cp', 'cper', 'cr', 'craaaaavvvvinggggg', 'craaaap', 'craaaazi', 'crab', 'crabsss', 'crack', 'crackberri', 'crackdown', 'cracker', 'crackin', 'crackl', 'cradl', 'craft', 'crailtap', 'cram', 'cramlington', 'cramp', 'cranberri', 'crane', 'cranki', 'crap', 'crapberri', 'crapi', 'crappi', 'crapppp', 'craptv', 'crash', 'crate', 'crave', 'crawfish', 'crawl', 'crawliess', 'crayonnya', 'crazi', 'crc', 'creaki', 'cream', 'creami', 'creamola', 'creampuff', 'creat', 'creativ', 'cred', 'credit', 'creditor', 'creed', 'creep', 'creepee', 'creeper', 'creepili', 'creepo', 'creme', 'creo', 'crepe', 'crew', 'cri', 'crib', 'cribfest', 'crick', 'cricket', 'crime', 'crimin', 'cringey', 'crisi', 'crisp', 'crispi', 'crisssi', 'cristal', 'crit', 'critic', 'croatia', 'crock', 'crocker', 'crockpot', 'crocsfeelgood', 'croissant', 'cromer', 'croquet', 'cross', 'crotch', 'crotcheti', 'crow', 'crowd', 'crowdsourc', 'crown', 'cru', 'cruel', 'cruis', 'cruiser', 'crumb', 'crumbl', 'crunch', 'crunchi', 'crush', 'crust', 'crusti', 'cruton', 'cruz', 'cryin', 'crysi', 'crystal', 'crystaldolli', 'cryyi', 'crzi', 'cs', 'csc', 'csi', 'cspan', 'css', 'cst', 'ct', 'ctr', 'ctttt', 'ctwsh', 'cu', 'cuas', 'cub', 'cuban', 'cubicl', 'cuccinelli', 'cud', 'cuddl', 'cudnt', 'cue', 'cuisin', 'cull', 'cullen', 'cullenx', 'cult', 'cultur', 'cultura', 'culturekitchen', 'cum', 'cummon', 'cuousin', 'cup', 'cupboard', 'cupcak', 'cupla', 'cuppi', 'cure', 'curiou', 'curl', 'curli', 'currenc', 'current', 'curretli', 'curri', 'curriculum', 'curs', 'cursebird', 'cursiv', 'cursor', 'curtain', 'curti', 'curv', 'curvi', 'cusa', 'cushion', 'cuss', 'cust', 'custard', 'custom', 'customis', 'custurd', 'cut', 'cute', 'cuteass', 'cuteee', 'cuter', 'cutesi', 'cutest', 'cuti', 'cuticl', 'cutiepi', 'cutoff', 'cuttin', 'cuttley', 'cuutest', 'cuuut', 'cuuuut', 'cuuuuuteeeee', 'cuz', 'cuzin', 'cuzz', 'cv', 'cvill', 'cw', 'cwtsh', 'cya', 'cyber', 'cyberactiv', 'cycl', 'cyclon', 'cylind', 'cynic', 'cynthia', 'cypress', 'cypru', 'cyru', 'czech', 'czechrep', 'da', 'daaaaaamn', 'daaaamn', 'daamn', 'dab', 'dad', 'daddddyyyyi', 'daddi', 'daddyy', 'daejeon', 'daemon', 'daffi', 'dafft', 'dag', 'dah', 'dai', 'daili', 'dailybooth', 'daim', 'dain', 'dairi', 'daisi', 'dakoda', 'dakota', 'dalai', 'dalgliesh', 'dalia', 'dalisha', 'dalla', 'dam', 'damag', 'damebcool', 'damia', 'damian', 'damien', 'damier', 'damit', 'dammit', 'dammmmm', 'dammmn', 'damn', 'damnfinetea', 'damnittt', 'damnn', 'damnnnnnnn', 'damper', 'dan', 'danalanephoto', 'danbrown', 'danc', 'danceordi', 'dancer', 'dandurndoneit', 'dane', 'dang', 'danger', 'dangl', 'dangli', 'dani', 'daniel', 'daniella', 'danigirl', 'danilovesmus', 'daniscot', 'danish', 'dank', 'danlefeb', 'danng', 'danni', 'danno', 'dannygokey', 'dannymcfli', 'danubu', 'danymilf', 'dapat', 'darci', 'dare', 'daria', 'dark', 'darkstarcrash', 'darl', 'darlin', 'darn', 'darnit', 'darrel', 'darrenmonro', 'dasd', 'dash', 'dashboard', 'dat', 'data', 'databas', 'datacard', 'date', 'datelin', 'dau', 'daughter', 'daughtri', 'davai', 'dave', 'davey', 'davi', 'david', 'davidarchi', 'davidcook', 'davidschimm', 'daw', 'dawn', 'dawnrichard', 'day', 'daydream', 'dayi', 'daylight', 'dayquil', 'daysdiffer', 'dayummm', 'dayyyi', 'dayz', 'dazzl', 'db', 'dback', 'dblais', 'dc', 'dca', 'dcth', 'dd', 'dday', 'ddlovato', 'ddr', 'ddub', 'de', 'dea', 'dead', 'deadass', 'deadliest', 'deadlin', 'deadzo', 'deaf', 'deal', 'dealer', 'dean', 'deanfriedman', 'dear', 'dearangel', 'dearest', 'deari', 'dearli', 'dearyy', 'death', 'deathbyhistori', 'deb', 'debat', 'debug', 'debussi', 'debut', 'decad', 'decal', 'deceas', 'decemb', 'decent', 'decept', 'deci', 'decid', 'decis', 'deck', 'declar', 'declin', 'decor', 'decreas', 'dedalu', 'dedic', 'dedrick', 'dee', 'deeeeeeeeeeh', 'deejay', 'deen', 'deep', 'deepest', 'deepli', 'deer', 'deezer', 'def', 'defac', 'default', 'defeat', 'defect', 'defend', 'defens', 'deff', 'deffinatli', 'deffo', 'defian', 'defin', 'definetli', 'definit', 'definitli', 'deflat', 'defrost', 'defunctlesi', 'degener', 'degrassi', 'degre', 'deh', 'deign', 'deiti', 'dejongh', 'dekh', 'del', 'delay', 'deleciouss', 'deleg', 'delet', 'delfino', 'delhi', 'deli', 'delia', 'deliber', 'deliberatli', 'delic', 'delici', 'delight', 'deliiiissh', 'deliv', 'deliveri', 'dell', 'delong', 'delongeday', 'deluweil', 'delux', 'dem', 'demaaai', 'demam', 'demand', 'dementedstalkarrazzi', 'demi', 'demigod', 'demil', 'demo', 'demon', 'demonstr', 'demor', 'den', 'denamrk', 'denardo', 'deni', 'denial', 'deniselupton', 'denmark', 'denni', 'densit', 'dental', 'dentist', 'dentur', 'denver', 'dep', 'depart', 'departur', 'depech', 'depend', 'deper', 'deplet', 'deploy', 'depoi', 'depres', 'depress', 'depressfest', 'depriv', 'dept', 'der', 'derbi', 'dere', 'derek', 'dereksand', 'derick', 'descent', 'describ', 'descript', 'desd', 'desert', 'deserv', 'deserve', 'desi', 'design', 'desirey', 'desist', 'desk', 'desktop', 'desol', 'desper', 'despit', 'dessert', 'destin', 'destroy', 'destroytwitt', 'desturb', 'detag', 'detail', 'detect', 'determin', 'detour', 'detox', 'detroit', 'deux', 'dev', 'devast', 'devel', 'develop', 'devi', 'deviant', 'deviantart', 'devic', 'devign', 'devil', 'devo', 'devon', 'dew', 'dewin', 'dex', 'dexter', 'dey', 'dfing', 'dfn', 'dg', 'dgao', 'dh', 'dhcp', 'dhw', 'di', 'dia', 'diabet', 'diacritic', 'dial', 'dialogu', 'diamond', 'dian', 'diana', 'dianna', 'diaper', 'diari', 'dibiza', 'dic', 'dichro', 'dick', 'dickinson', 'dicoyta', 'dictat', 'dictionari', 'diddi', 'dident', 'didnt', 'die', 'diego', 'diesel', 'diet', 'diez', 'dif', 'diff', 'differ', 'differenti', 'difficult', 'difficulti', 'dig', 'digest', 'digg', 'diggin', 'diggnat', 'digi', 'digiscrap', 'digit', 'digsbi', 'dikh', 'diklat', 'dilat', 'dildo', 'dillon', 'dim', 'dimakan', 'dimpl', 'din', 'dina', 'dinara', 'dine', 'diner', 'ding', 'dinghi', 'dinkdom', 'dinki', 'dinner', 'dino', 'dinosaur', 'dint', 'dinug', 'dior', 'dip', 'dir', 'dire', 'direct', 'directli', 'director', 'diriku', 'dirki', 'dirt', 'dirti', 'disaa', 'disagre', 'disap', 'disapoint', 'disappear', 'disappoint', 'disast', 'disc', 'discharg', 'discipleship', 'disco', 'disconnect', 'discount', 'discourag', 'discov', 'discoveri', 'discret', 'discrimin', 'discuss', 'diseas', 'diseni', 'disgust', 'dish', 'dishearten', 'dishonest', 'disk', 'dislik', 'disloc', 'dismal', 'dismay', 'disney', 'disneyland', 'disnleyland', 'disobedi', 'disorgan', 'display', 'dispos', 'disregard', 'diss', 'dissap', 'dissapear', 'dissapoint', 'dissappoint', 'dissert', 'dissip', 'disso', 'dissolv', 'distanc', 'distort', 'distract', 'distraugt', 'distress', 'distribut', 'district', 'distro', 'distroy', 'disturb', 'dit', 'ditahan', 'ditch', 'dithayu', 'ditonggg', 'ditto', 'diu', 'diva', 'dive', 'divers', 'divid', 'divin', 'diviney', 'divis', 'divorc', 'dix', 'diz', 'dizzi', 'dj', 'djenilin', 'djghostusa', 'djibcrediboi', 'djokov', 'djwire', 'dl', 'dlf', 'dload', 'dlr', 'dlt', 'dm', 'dman', 'dmb', 'dmed', 'dming', 'dmn', 'dmv', 'dn', 'dnd', 'dnt', 'dnw', 'do', 'doa', 'doabl', 'doar', 'doc', 'dock', 'doco', 'doctor', 'doctorfaggot', 'doctorsssss', 'doctorwho', 'document', 'documentri', 'doddl', 'dodger', 'dodgi', 'dodnt', 'doen', 'doesnt', 'dofe', 'dog', 'dogfrog', 'doggi', 'dogsit', 'doiiiin', 'doin', 'doinq', 'doj', 'doke', 'dolc', 'dolcekiss', 'dolean', 'dolemit', 'dolf', 'doll', 'dollar', 'dollhous', 'dolli', 'dolllllll', 'dollz', 'dolphin', 'dom', 'domain', 'domin', 'domingo', 'domino', 'domo', 'donat', 'dond', 'done', 'donee', 'dong', 'donkey', 'donn', 'donna', 'donni', 'donniel', 'donofrio', 'donotgiveup', 'dont', 'dontflashm', 'dontmindmanda', 'donttrythi', 'donut', 'donwannahearnoshit', 'doo', 'doof', 'dooger', 'doom', 'dooo', 'doooo', 'doooooooong', 'doop', 'door', 'doorbel', 'doorway', 'dope', 'dopest', 'dopey', 'dorang', 'dorci', 'dorian', 'dork', 'dorki', 'dorm', 'dorothi', 'dorset', 'dort', 'dortmund', 'dose', 'doss', 'dossin', 'dot', 'doubl', 'doubt', 'douch', 'douchebag', 'doug', 'dough', 'doughnut', 'dougi', 'dougla', 'dov', 'dove', 'dowanna', 'down', 'downer', 'downfal', 'downgrad', 'download', 'downnnnnnnnnnnnn', 'downpour', 'downsid', 'downstair', 'downtim', 'downtown', 'downund', 'doyl', 'dp', 'dq', 'dr', 'draco', 'draft', 'drag', 'draggin', 'dragon', 'dragonforc', 'dragonwel', 'drain', 'drainedddd', 'drake', 'dram', 'drama', 'dramad', 'dramat', 'dramz', 'drandaki', 'drank', 'draper', 'drastic', 'draw', 'drc', 'dre', 'drea', 'dread', 'drealrobpat', 'dream', 'dreamboy', 'dreami', 'dreamt', 'dreamweav', 'dreari', 'drench', 'dress', 'dresscod', 'dresser', 'drew', 'drewryanscott', 'dri', 'drill', 'drink', 'drinker', 'drinki', 'drinkng', 'drive', 'driven', 'driver', 'driveway', 'drivin', 'drizzl', 'drm', 'drobo', 'droid', 'drool', 'drop', 'droplet', 'droppin', 'dropsaf', 'drove', 'drown', 'drowsi', 'drrrrrank', 'drtbrennan', 'drug', 'druggi', 'drum', 'drumlin', 'drummer', 'drumstick', 'drunk', 'drunken', 'drunki', 'dryer', 'dryh', 'ds', 'dsay', 'dsi', 'dsigon', 'dsl', 'dsoul', 'dsquar', 'dt', 'dtg', 'dtn', 'dtr', 'dtv', 'du', 'dual', 'dub', 'dubai', 'dublin', 'dubos', 'duck', 'ducki', 'dud', 'dude', 'dudeee', 'due', 'duel', 'duet', 'duffel', 'dug', 'duh', 'duke', 'dulcim', 'dull', 'dulu', 'dum', 'dumb', 'dumbass', 'dumdum', 'dump', 'dun', 'dunde', 'dunedin', 'dunkin', 'dunn', 'dunnnnnn', 'dunno', 'dunnor', 'duno', 'dunt', 'duo', 'dupe', 'duper', 'duplic', 'duquesn', 'durat', 'durch', 'durrr', 'durye', 'dust', 'duti', 'duuh', 'duuuuud', 'dvd', 'dvdfreek', 'dvelop', 'dvr', 'dvrd', 'dvt', 'dw', 'dwele', 'dwell', 'dwight', 'dwindl', 'dx', 'dxcore', 'dy', 'dyaln', 'dye', 'dylan', 'dynam', 'dyou', 'dyrel', 'dyyyii', 'dza', 'e', 'ea', 'eachoth', 'eager', 'eagl', 'eal', 'eanybushk', 'ear', 'earach', 'earbud', 'earehanpk', 'earl', 'earli', 'earlier', 'earliest', 'earlyer', 'earlyish', 'earmuff', 'earn', 'earnest', 'earni', 'earphon', 'earplug', 'earrl', 'earth', 'earthquak', 'eas', 'easi', 'easier', 'easiest', 'easili', 'east', 'eastcoast', 'easter', 'eastern', 'easti', 'easton', 'eastwest', 'eat', 'eaten', 'eater', 'eatin', 'eatingbend', 'ebay', 'ebayinkblog', 'ebc', 'ebou', 'ec', 'ecfw', 'echhh', 'echiii', 'echo', 'echt', 'eclect', 'eclips', 'eco', 'ecomonday', 'econ', 'econom', 'economi', 'ecstat', 'ecuador', 'ecw', 'eczema', 'ed', 'edamam', 'eddi', 'edent', 'edg', 'edgar', 'edgefest', 'edgemi', 'edgi', 'edit', 'edith', 'editor', 'edl', 'edo', 'edu', 'eduardo', 'edubit', 'educ', 'edward', 'edwardgel', 'ee', 'eeee', 'eeeeeeeeee', 'eeeeeeeewwwww', 'eeeeekkkk', 'eeeeep', 'eeeek', 'eeek', 'eeekk', 'eeenich', 'eeew', 'eeh', 'eek', 'een', 'eep', 'eerockh', 'eet', 'eeu', 'eeyor', 'ef', 'eff', 'effect', 'effic', 'effici', 'effin', 'effort', 'efron', 'egen', 'egg', 'eggrorr', 'egham', 'ego', 'egss', 'egypt', 'eh', 'eheh', 'ehh', 'ehheh', 'ehhh', 'ehhhnywayi', 'ei', 'eight', 'eill', 'ein', 'eisert', 'eisley', 'eith', 'either', 'eju', 'el', 'elabor', 'elain', 'elbow', 'elder', 'eldest', 'elect', 'electr', 'electro', 'electrocut', 'elegant', 'elementati', 'eleph', 'elephantmemori', 'elevens', 'elew', 'elf', 'elicit', 'elig', 'elimin', 'elisha', 'elit', 'elizabeth', 'elizabethth', 'elizaclair', 'elkin', 'ell', 'ella', 'ellain', 'ellen', 'elli', 'elliemcfli', 'ellism', 'elllecak', 'ello', 'ellsburi', 'elmooo', 'elp', 'elphi', 'els', 'elsewher', 'elstre', 'elt', 'elton', 'eluu', 'elv', 'elven', 'elvi', 'elvira', 'elyshrarr', 'em', 'email', 'emailin', 'emailunlimit', 'eman', 'emariebcool', 'embarass', 'embarras', 'embarrass', 'embassi', 'embrac', 'emc', 'ememsit', 'emerald', 'emerg', 'emili', 'emin', 'eminem', 'emm', 'emma', 'emmadearest', 'emmett', 'emmi', 'emmmm', 'emo', 'emoji', 'emolli', 'emot', 'emoticon', 'empathi', 'empir', 'employ', 'empress', 'empti', 'empyrean', 'en', 'enabl', 'enak', 'enchant', 'enchilada', 'enclav', 'encount', 'encourag', 'encrypt', 'end', 'enddd', 'endear', 'ender', 'endless', 'endlich', 'endow', 'endur', 'energi', 'enertain', 'enforc', 'eng', 'engag', 'engin', 'england', 'english', 'englishhhh', 'engross', 'engseng', 'enigma', 'enix', 'enjoy', 'enjoyin', 'enlighten', 'enlis', 'enn', 'enna', 'ennemi', 'enough', 'ensu', 'ent', 'entail', 'entendo', 'enter', 'enterpris', 'entertain', 'entic', 'entir', 'entireti', 'entitl', 'entrepreneur', 'entri', 'enuff', 'envi', 'enviou', 'enviro', 'enwraptur', 'enya', 'enyak', 'enzo', 'eoghan', 'eoi', 'ep', 'epi', 'epic', 'epicmeat', 'episod', 'epop', 'eppi', 'epson', 'equal', 'equi', 'equip', 'er', 'eran', 'eras', 'erbodi', 'ere', 'eri', 'eric', 'erica', 'ericaveri', 'ericson', 'erin', 'erm', 'erma', 'ermm', 'err', 'errand', 'error', 'errr', 'errrr', 'ertin', 'eryon', 'erytim', 'es', 'esay', 'escalad', 'escap', 'escobar', 'escort', 'esl', 'esleep', 'esm', 'esme', 'eso', 'esp', 'espa', 'especi', 'espic', 'espn', 'espresso', 'ess', 'essamibear', 'essay', 'essendon', 'essenti', 'essex', 'est', 'esta', 'estat', 'esteem', 'esther', 'esto', 'esukop', 'et', 'eta', 'etc', 'etch', 'etdragon', 'etern', 'ethan', 'ethic', 'ethnic', 'etsi', 'eu', 'eugh', 'euhhh', 'eulog', 'euphoria', 'euro', 'europ', 'europa', 'european', 'eurovis', 'eurusd', 'ev', 'eva', 'evalu', 'evam', 'evan', 'evanesc', 'evapor', 'evar', 'eve', 'even', 'event', 'eventhough', 'ever', 'everbodi', 'everday', 'everdhlq', 'evergreenff', 'everi', 'evermor', 'evernot', 'everr', 'everth', 'everton', 'evertth', 'everuday', 'everybdi', 'everybodi', 'everybodyyyyyyi', 'everyday', 'everyon', 'everyonelovesian', 'everyth', 'everythingss', 'everytim', 'everywher', 'evict', 'evid', 'evil', 'evili', 'evn', 'evon', 'evri', 'evrkaiti', 'evvvver', 'ew', 'ewan', 'ewf', 'ewok', 'eww', 'ewww', 'ewwww', 'ewwwww', 'ewwwwwwwwwwwwww', 'ex', 'exact', 'exactli', 'exagger', 'exalt', 'exam', 'examen', 'examin', 'examsssss', 'exceed', 'excel', 'except', 'excercis', 'excess', 'exchang', 'excit', 'excited', 'exciteddd', 'excitedddd', 'excitin', 'exclud', 'excruci', 'excus', 'excusemyfist', 'exec', 'exempt', 'exept', 'exercis', 'exfoli', 'exhal', 'exhaust', 'exhibit', 'exif', 'exist', 'exit', 'exorbit', 'exot', 'exp', 'expat', 'expect', 'expecteddd', 'expedit', 'expel', 'expens', 'experi', 'experienc', 'expert', 'expir', 'expl', 'explain', 'explan', 'explod', 'explor', 'explot', 'expo', 'exponenti', 'expos', 'express', 'exsist', 'exspeci', 'extend', 'extens', 'extern', 'extra', 'extralif', 'extrapol', 'extreeeemli', 'extrem', 'exxager', 'exxxotica', 'ey', 'eybrow', 'eye', 'eyebrow', 'eyelash', 'eyelid', 'eyemdop', 'eyeshadow', 'eyesight', 'ez', 'ezpress', 'ezra', 'ezzzz', 'f', 'fa', 'faarrrr', 'fab', 'fabb', 'fabbi', 'fabien', 'fabl', 'fabric', 'fabsh', 'fabul', 'fabuloso', 'facc', 'face', 'faceblast', 'facebook', 'facee', 'faceoffmus', 'facey', 'facial', 'facil', 'facin', 'fact', 'faction', 'factor', 'factori', 'facult', 'faculti', 'facup', 'fade', 'faeyakof', 'faf', 'fafsa', 'fag', 'faggot', 'fah', 'fail', 'failblog', 'failllllboat', 'failur', 'faint', 'faintli', 'fair', 'fairfax', 'fairi', 'fairli', 'fairrrrrrr', 'faith', 'fake', 'fakerobpattzmum', 'falafel', 'falcon', 'fall', 'fallen', 'fallin', 'fallon', 'falou', 'fals', 'falsetto', 'fam', 'fame', 'familar', 'famili', 'familia', 'familiar', 'familyday', 'famin', 'famish', 'famou', 'fan', 'fanat', 'fanci', 'fand', 'fandom', 'fanfar', 'fanmad', 'fantabul', 'fantasi', 'fantast', 'far', 'farabi', 'farc', 'farewel', 'fark', 'farm', 'farmer', 'farnsworth', 'farrah', 'fart', 'fashion', 'fast', 'faster', 'fastforward', 'fastlan', 'fat', 'fatal', 'fatass', 'fate', 'father', 'fatigu', 'fatter', 'fault', 'faux', 'fauxnew', 'fav', 'fave', 'favor', 'favorit', 'favoritepair', 'favour', 'favourit', 'fawcett', 'fawk', 'fay', 'fb', 'fbi', 'fc', 'fck', 'fcuk', 'fdmonlin', 'fdr', 'fdrivng', 'fear', 'fearless', 'fearn', 'feat', 'featur', 'feb', 'febril', 'februari', 'feck', 'fed', 'feder', 'fedex', 'fee', 'feed', 'feedback', 'feedbrun', 'feeder', 'feedicon', 'feedind', 'feeeeeeeck', 'feeeeeeeeeeeeel', 'feel', 'feelin', 'feelingz', 'feet', 'fego', 'fel', 'feli', 'felip', 'felix', 'fell', 'fella', 'fellow', 'felon', 'felt', 'felti', 'femal', 'fenc', 'fender', 'fenton', 'fenway', 'fer', 'fern', 'ferrari', 'ferretfrol', 'ferretprincess', 'ferri', 'fest', 'festiv', 'fet', 'fetch', 'fete', 'fettucini', 'fever', 'ff', 'ffn', 'ffshout', 'fgdf', 'fgf', 'fhriley', 'fi', 'fianc', 'fiat', 'fib', 'fibula', 'fic', 'ficar', 'fiction', 'fictiti', 'field', 'fielder', 'fiend', 'fiercemichi', 'fieri', 'fiesta', 'fiestaaaa', 'fifi', 'fifth', 'fight', 'fighter', 'fightin', 'figlio', 'fignut', 'figur', 'fiiiiit', 'fiiiin', 'fiji', 'fil', 'file', 'fileshar', 'filim', 'filipina', 'filipino', 'fill', 'filler', 'film', 'filmingggg', 'filter', 'filth', 'filthi', 'fin', 'final', 'finali', 'finalllli', 'finalllyyi', 'finalsss', 'financi', 'finchi', 'find', 'fine', 'finger', 'fingernail', 'fingertip', 'finish', 'finishhe', 'fink', 'finna', 'finnal', 'fiona', 'fire', 'firefight', 'firefox', 'firesid', 'firetruck', 'firework', 'firm', 'firmwar', 'firocet', 'first', 'firsyt', 'firth', 'fish', 'fisher', 'fishi', 'fishnet', 'fisl', 'fiss', 'fist', 'fit', 'fivaz', 'five', 'fix', 'fixer', 'fixtur', 'fiyah', 'fjkeogh', 'fkn', 'fl', 'flack', 'flag', 'flake', 'flame', 'flap', 'flasean', 'flash', 'flashback', 'flashcamp', 'flasher', 'flashlight', 'flashpoint', 'flat', 'flatley', 'flatmat', 'flatten', 'flattli', 'flaunt', 'flavor', 'flavour', 'flawless', 'flay', 'flee', 'fletcherday', 'fletcherfashion', 'fletcherrrrrr', 'flew', 'flex', 'flexibl', 'fli', 'flick', 'flicker', 'flickr', 'flier', 'flight', 'flip', 'flippin', 'flirt', 'flist', 'float', 'flood', 'floor', 'flop', 'floppi', 'flora', 'flordia', 'florenc', 'florida', 'flow', 'flower', 'flown', 'flowrid', 'floyd', 'flt', 'flu', 'fluffi', 'flump', 'flung', 'flush', 'flute', 'fluu', 'flyday', 'flyer', 'flynn', 'flyy', 'fm', 'fml', 'fn', 'fnb', 'fo', 'foam', 'fob', 'focu', 'focus', 'focuss', 'fodder', 'fog', 'fogfish', 'foggi', 'foi', 'foil', 'foin', 'fold', 'folder', 'folk', 'follow', 'followfriday', 'followin', 'followng', 'folow', 'fomou', 'fone', 'font', 'food', 'foodag', 'foodi', 'foofi', 'fooie', 'fook', 'fool', 'foolio', 'foolish', 'foooshooo', 'foor', 'foosbal', 'foot', 'footbal', 'footi', 'footstep', 'fora', 'forbid', 'forc', 'ford', 'foreal', 'forecast', 'forehead', 'foreign', 'foreman', 'forest', 'forev', 'foreva', 'foreverrr', 'forfeit', 'forg', 'forget', 'forgiv', 'forgot', 'forgotten', 'forhead', 'form', 'formal', 'format', 'former', 'formerli', 'forreal', 'forsaken', 'fort', 'forth', 'fortun', 'forum', 'forumla', 'forward', 'forza', 'fossiesteel', 'foster', 'foto', 'fotolog', 'foul', 'found', 'foundat', 'four', 'fourm', 'foursom', 'fourth', 'foward', 'fox', 'foxford', 'foxtel', 'foxtrot', 'foxx', 'foyet', 'fp', 'fr', 'fraand', 'frack', 'fraggl', 'fragil', 'fragranc', 'fraid', 'frail', 'frak', 'frame', 'fran', 'franc', 'francai', 'francesca', 'francisco', 'frand', 'frank', 'frankel', 'frankenstein', 'franki', 'franzneit', 'frappuccino', 'frase', 'fraught', 'fray', 'freak', 'freaken', 'freakin', 'freakish', 'freakn', 'freckl', 'fred', 'free', 'freebi', 'freeboxhd', 'freebsd', 'freedom', 'freeeeee', 'freegin', 'freelanc', 'freeli', 'freeman', 'freeway', 'freez', 'fregg', 'french', 'frenchboy', 'frequenc', 'frequent', 'fresh', 'freshbcool', 'freshbook', 'freshbooksworkshop', 'freshi', 'freshii', 'freshli', 'fret', 'freud', 'fri', 'friannn', 'friar', 'frick', 'fricken', 'frickin', 'friday', 'fridayth', 'fridg', 'friedman', 'friedrich', 'friend', 'friendfac', 'friendfe', 'friendli', 'friendship', 'friendss', 'friendster', 'friendzzzz', 'friggen', 'friggin', 'frilli', 'fring', 'frisbe', 'fritz', 'frizzi', 'frm', 'frnd', 'frnt', 'fro', 'frock', 'frog', 'frolick', 'fromdownload', 'front', 'frost', 'frou', 'frown', 'froyo', 'froze', 'frozen', 'frozenmyst', 'frriday', 'fruit', 'fruiti', 'frum', 'frumpi', 'frusciant', 'frustrat', 'frustratedd', 'fryeffect', 'ft', 'ftop', 'ftw', 'fubar', 'fuck', 'fucker', 'fuckeri', 'fuckin', 'fuckn', 'fucknow', 'fuckyeahskinnybitch', 'fudg', 'fudgiespring', 'fuel', 'fueledbykatti', 'fuer', 'fufil', 'fug', 'fugit', 'fugli', 'fuh', 'fukin', 'fulcher', 'full', 'fulli', 'fullscreen', 'fulltim', 'fumbl', 'fume', 'fun', 'function', 'fund', 'fundament', 'funduarticl', 'funer', 'funhous', 'funk', 'funn', 'funni', 'funniest', 'funnn', 'funnnnn', 'funnyjunk', 'funnyyi', 'funx', 'funz', 'funzen', 'fur', 'furiou', 'furnitur', 'fuse', 'fush', 'fusion', 'fuss', 'fussiest', 'futil', 'futur', 'futurama', 'fuuucccckkkkk', 'fuuucck', 'fuuuck', 'fuuuunn', 'fuuuuuck', 'fuuuuun', 'fuuuuunni', 'fuze', 'fuzz', 'fuzzi', 'fuzzibunz', 'fw', 'fwd', 'fwit', 'fxckin', 'fyi', 'g', 'ga', 'gaa', 'gaaay', 'gaahaha', 'gaba', 'gabe', 'gabebourland', 'gabi', 'gabrielsaporta', 'gad', 'gadataguy', 'gadget', 'gag', 'gaga', 'gage', 'gah', 'gahh', 'gahhh', 'gai', 'gain', 'gak', 'gal', 'galaxi', 'galician', 'gallagh', 'galleri', 'galliv', 'gallon', 'gallup', 'galor', 'gam', 'gambatt', 'gambit', 'game', 'gamecub', 'gamer', 'gamestop', 'gametim', 'gamitin', 'gamm', 'gammydodg', 'gandaa', 'gang', 'gano', 'ganteng', 'gap', 'gar', 'garag', 'garbag', 'garcia', 'garda', 'garden', 'gareth', 'garg', 'gargoyl', 'garlic', 'garlicki', 'garro', 'garuda', 'gase', 'gash', 'gasin', 'gasit', 'gasp', 'gastric', 'gastronom', 'gata', 'gate', 'gateway', 'gather', 'gato', 'gator', 'gauwhati', 'gave', 'gavin', 'gawd', 'gawju', 'gay', 'gayanehhh', 'gaychat', 'gazillionth', 'gazimoff', 'gazzilion', 'gb', 'gbk', 'gbn', 'gchq', 'gcse', 'gd', 'ge', 'gear', 'geckodelimon', 'gedlu', 'gee', 'geeej', 'geek', 'geekdad', 'geekeri', 'geeki', 'geesmyangel', 'geez', 'geezzzz', 'gefeliciteerd', 'geht', 'geico', 'gel', 'gelatto', 'gem', 'gemeindehau', 'gemini', 'gen', 'gender', 'gener', 'generala', 'genesi', 'genet', 'genial', 'genit', 'geniu', 'gennycouch', 'genocid', 'genom', 'genrat', 'gent', 'gentl', 'gentleman', 'gentlemen', 'gentler', 'genuin', 'geo', 'geocach', 'geographi', 'georg', 'georgeou', 'georgia', 'georgina', 'georgnkaren', 'ger', 'gerard', 'gerbil', 'german', 'germani', 'gerri', 'gerritv', 'gerrr', 'gertrud', 'gessnner', 'get', 'getaway', 'getcha', 'getin', 'getn', 'gett', 'gettin', 'gettn', 'gettng', 'getup', 'gewoonliann', 'gf', 'gfalcon', 'gg', 'ggdm', 'ggrr', 'ggrreeaaattt', 'gh', 'ghetto', 'ghost', 'ghostbust', 'ghraib', 'gia', 'giant', 'gib', 'gibney', 'gibraltar', 'gibson', 'giet', 'gif', 'gift', 'gig', 'gigant', 'giggl', 'giggli', 'gigi', 'gii', 'gij', 'gilley', 'gilmor', 'gimm', 'gin', 'gina', 'ginger', 'gingg', 'gingko', 'ginni', 'ginogagaza', 'ginuwin', 'gio', 'giographix', 'gion', 'girl', 'girlfriend', 'girli', 'girll', 'girlpi', 'girlss', 'girlsss', 'girr', 'girrrl', 'girrrrrlz', 'git', 'gitu', 'give', 'giveaway', 'given', 'givin', 'gizel', 'gizmo', 'gk', 'glad', 'glade', 'glam', 'glamor', 'glamour', 'glanc', 'gland', 'glasgow', 'glass', 'glassez', 'glasto', 'glastonburi', 'glee', 'gleet', 'gleni', 'glennbeck', 'glg', 'glimps', 'glitch', 'glitter', 'global', 'glomp', 'gloomi', 'glori', 'gloriana', 'gloriou', 'gloss', 'glover', 'glow', 'glue', 'gm', 'gma', 'gmac', 'gmail', 'gmik', 'gmn', 'gmorn', 'gn', 'gna', 'gnight', 'gniit', 'gnite', 'gnna', 'gnoll', 'gnom', 'gnytz', 'go', 'goa', 'goal', 'goali', 'goat', 'goawaymonday', 'gobbi', 'goblin', 'gobstopp', 'god', 'godaddi', 'godamm', 'godchaserhank', 'godd', 'goddam', 'goddamit', 'goddamn', 'goddamnit', 'goddd', 'goddess', 'godfath', 'godfatheraldo', 'godli', 'godmyohh', 'godsi', 'goe', 'goggl', 'gogo', 'gographi', 'gogrid', 'goi', 'goign', 'goin', 'goingg', 'goinggg', 'goingo', 'goingto', 'gojan', 'gokey', 'golak', 'gold', 'golden', 'goldfish', 'goldi', 'golev', 'golf', 'gollum', 'gomez', 'gon', 'gona', 'gone', 'gonn', 'gonna', 'gonzal', 'goo', 'goober', 'good', 'goodaft', 'goodafternoon', 'goodboy', 'goodby', 'goodi', 'goodjonasmorn', 'goodluck', 'goodmor', 'goodmorn', 'goodnew', 'goodnight', 'goodnighttt', 'goodnit', 'goodnite', 'goodrem', 'goodwil', 'goof', 'googl', 'googlebowl', 'googleio', 'googleposit', 'googletalk', 'googlewav', 'goon', 'goood', 'gooodby', 'gooonnnee', 'gooood', 'goooodnight', 'goooood', 'goooooddd', 'gooooood', 'gooooooodnight', 'gooooooood', 'goosebump', 'gor', 'gordayday', 'gordo', 'gordon', 'goren', 'gorensqu', 'gorgeou', 'gorilla', 'gorram', 'gosh', 'goshhhhh', 'gossip', 'gossipgirl', 'got', 'gota', 'gotcha', 'gotdommit', 'gotesco', 'goth', 'gotham', 'gotsta', 'gotta', 'gotten', 'gottta', 'gotz', 'goulburn', 'gourock', 'gov', 'governor', 'govt', 'gower', 'gown', 'gp', 'gpr', 'gr', 'grab', 'grace', 'gracechin', 'gracia', 'grad', 'grade', 'graden', 'grader', 'gradi', 'graduat', 'graduatiion', 'graduatingggg', 'graham', 'grahamfarrar', 'graialvar', 'gram', 'gramat', 'grammar', 'grammer', 'grammi', 'gran', 'granada', 'grand', 'grandad', 'grandkid', 'grandma', 'grandmallv', 'grandmaw', 'grandmoth', 'grandpa', 'grandpar', 'grandson', 'granma', 'granpa', 'grant', 'granvil', 'grape', 'grapefruit', 'grapevin', 'graphic', 'grappl', 'grasp', 'grass', 'grassh', 'grassroot', 'grate', 'gratitud', 'grave', 'graveyard', 'gravi', 'gravit', 'graviti', 'gray', 'graze', 'gre', 'greaaaaaaaaaaaaaaaat', 'greaaaattt', 'greas', 'greasi', 'great', 'greater', 'greatest', 'greatto', 'greec', 'greedi', 'greeeetzt', 'greek', 'greekpeac', 'green', 'greenday', 'greener', 'greenvil', 'greenwich', 'greenwizard', 'greenwrit', 'greet', 'greg', 'gregori', 'gregoryfock', 'gretch', 'greu', 'grew', 'grey', 'grid', 'griddl', 'griffith', 'grill', 'grillz', 'grim', 'grimey', 'grin', 'grind', 'grissom', 'gritsi', 'gritti', 'grl', 'grnow', 'gro', 'groat', 'groc', 'groceri', 'groci', 'groezrock', 'groggi', 'groningen', 'groom', 'groov', 'groovi', 'groovin', 'gross', 'grotto', 'grouch', 'ground', 'groundhog', 'group', 'grove', 'grovemurm', 'grow', 'growl', 'grown', 'growth', 'grr', 'grrey', 'grrr', 'grrrr', 'grrrrr', 'grrrrrr', 'grrrrrrrr', 'grub', 'grudg', 'gruel', 'grumbl', 'grumpi', 'grung', 'grungaok', 'grunt', 'grwing', 'gs', 'gsm', 'gt', 'gtec', 'gtfaway', 'gtg', 'gu', 'guad', 'guam', 'guarante', 'guard', 'gubb', 'gud', 'gudaftnun', 'gudev', 'gudmrn', 'gue', 'guerra', 'guess', 'guesswh', 'guest', 'guezz', 'guggenheim', 'gugugud', 'guh', 'guhd', 'guid', 'guiitar', 'guild', 'guill', 'guilt', 'guilti', 'guin', 'guinea', 'guitar', 'gul', 'gulji', 'gulp', 'gum', 'gumbal', 'gumbo', 'gummi', 'gumtre', 'gun', 'guna', 'gunna', 'gunzel', 'guomeng', 'guppi', 'gurgaon', 'gurl', 'gurli', 'gurr', 'gurren', 'gurrrrrrrrl', 'gusta', 'gut', 'guu', 'guuuuy', 'guy', 'guyfriend', 'guyss', 'guyz', 'guzzl', 'gw', 'gwen', 'gwinnett', 'gwt', 'gyah', 'gyllenha', 'gym', 'gymnast', 'gynethgreta', 'gyul', 'h', 'ha', 'haa', 'haaa', 'haaaaaaaaaardbas', 'haaaaack', 'haaayyy', 'haahaa', 'haahha', 'haan', 'haav', 'hab', 'habit', 'hace', 'hack', 'hacker', 'had', 'hade', 'hadnt', 'hae', 'haedach', 'haf', 'hafta', 'hah', 'haha', 'hahaa', 'hahaaaa', 'hahaah', 'hahah', 'hahaha', 'hahahaa', 'hahahaaa', 'hahahah', 'hahahaha', 'hahahahah', 'hahahahaha', 'hahahahahaha', 'hahahahahha', 'hahahahha', 'hahahh', 'hahahha', 'hahahhahaah', 'hahahhahahah', 'hahar', 'hahhah', 'hahhaha', 'hahhahahaa', 'hai', 'haih', 'haiku', 'hail', 'hailll', 'hain', 'hair', 'haircut', 'hairday', 'hairdress', 'hairdryer', 'hairi', 'hairspray', 'hald', 'haley', 'half', 'halfshit', 'halfway', 'halifax', 'hall', 'hallelujah', 'hallll', 'hallo', 'halloooooo', 'halloween', 'hallway', 'halo', 'halt', 'halv', 'ham', 'hamburg', 'hamilton', 'hammer', 'hamock', 'hamp', 'hampton', 'hamster', 'hand', 'handbag', 'handful', 'handiwork', 'handl', 'handlebar', 'handphon', 'handshak', 'handsom', 'hang', 'hangen', 'hangin', 'hangout', 'hangov', 'hangova', 'hank', 'hanna', 'hannabeth', 'hannah', 'hapa', 'happen', 'happend', 'happenen', 'happenin', 'happi', 'happier', 'happiest', 'happili', 'happppi', 'happyy', 'harass', 'harcourt', 'hard', 'hardbas', 'hardcor', 'harddd', 'hardddest', 'harddriv', 'harder', 'hardest', 'hardley', 'hardli', 'hardto', 'hardwar', 'hardwork', 'hari', 'harlem', 'harley', 'harm', 'harold', 'harper', 'harri', 'harrow', 'harsh', 'harsha', 'hart', 'hartford', 'harvest', 'harwin', 'hashtag', 'hashtagmafia', 'hasnt', 'hassl', 'hast', 'hasta', 'hat', 'hatch', 'hate', 'hatee', 'hater', 'hathaway', 'hatr', 'hattudi', 'haul', 'haunt', 'hauntingxealot', 'hav', 'hava', 'havana', 'have', 'havehavehav', 'havein', 'havent', 'haventt', 'haveyouev', 'havign', 'havin', 'havnt', 'havoc', 'havto', 'haw', 'hawaii', 'hawkcam', 'hay', 'haydenkhocrap', 'haydo', 'hayfev', 'hayl', 'hayley', 'hayli', 'haz', 'hazel', 'hb', 'hbo', 'hbp', 'hbu', 'hd', 'hdd', 'hdmi', 'he', 'head', 'headac', 'headach', 'headacheeee', 'headband', 'headbang', 'header', 'headfuck', 'headin', 'headless', 'headlight', 'headlin', 'headlinerrrrrr', 'headn', 'headphon', 'headset', 'headstart', 'headz', 'heal', 'health', 'healthi', 'healthier', 'healthiest', 'healthili', 'heap', 'heappppppsss', 'hear', 'heard', 'heart', 'heartach', 'heartbreak', 'heartbroken', 'heartburn', 'heartl', 'heartless', 'heartshap', 'heartyouneen', 'heat', 'heater', 'heath', 'heather', 'heatherbakk', 'heathrow', 'heatstrok', 'heatwav', 'heaven', 'heavenli', 'heavi', 'heavier', 'hebrew', 'hec', 'heck', 'hecker', 'hectic', 'hed', 'hedough', 'hee', 'heee', 'heeee', 'heeeeeeeeeeeeeell', 'heeeeeeeeey', 'heeeell', 'heeeey', 'heehe', 'heel', 'heey', 'heeyi', 'hef', 'heh', 'hehe', 'heheee', 'heheh', 'heheheh', 'heheheheh', 'hehhe', 'hei', 'heidi', 'height', 'heiiidiii', 'heinou', 'heirsch', 'held', 'helen', 'helicopt', 'helicoptor', 'helix', 'hell', 'hella', 'hellish', 'helllooo', 'hello', 'hellofa', 'hellolizzi', 'helloo', 'helloooo', 'hellooooo', 'helluh', 'helluv', 'helluva', 'hellyeah', 'helmet', 'helmi', 'helo', 'help', 'helper', 'helpin', 'helpless', 'helpppp', 'hemel', 'hemm', 'hempstead', 'henc', 'hench', 'henri', 'henryholland', 'henson', 'herb', 'herbonestrctur', 'here', 'heree', 'herm', 'hernandez', 'herniat', 'hero', 'heron', 'herr', 'hershey', 'hese', 'hester', 'hethertonnnn', 'hewitt', 'hey', 'heya', 'heyaaa', 'heyaaaa', 'heyi', 'heyyy', 'heyyyi', 'heyyyyy', 'heyyyyyi', 'heyyyyyyyyyyyyyya', 'hh', 'hhaa', 'hhahah', 'hhahahah', 'hhahha', 'hhe', 'hi', 'hiabowman', 'hiatu', 'hic', 'hiccup', 'hick', 'hickup', 'hid', 'hidden', 'hiddink', 'hide', 'hideou', 'hideout', 'hiee', 'hig', 'higgo', 'high', 'higher', 'highest', 'highli', 'highlight', 'highschool', 'hightlight', 'higlight', 'hihi', 'hihihi', 'hihihii', 'hiii', 'hiiii', 'hiit', 'hijack', 'hik', 'hike', 'hilar', 'hilari', 'hilda', 'hilight', 'hill', 'hillari', 'hillsong', 'hilton', 'himm', 'hindi', 'hinson', 'hint', 'hip', 'hiphoponpop', 'hippo', 'hipster', 'hirap', 'hire', 'hispan', 'hiss', 'hisself', 'hist', 'histor', 'histori', 'historyy', 'hit', 'hitch', 'hitler', 'hitmeup', 'hittin', 'hive', 'hiy', 'hiya', 'hk', 'hm', 'hme', 'hmm', 'hmmm', 'hmmmm', 'hmmmmm', 'hmmmmmm', 'hmnm', 'hmph', 'ho', 'hoac', 'hobo', 'hockey', 'hoe', 'hoedown', 'hoffman', 'hog', 'hoga', 'hoilday', 'hoist', 'hol', 'hola', 'hold', 'hole', 'holi', 'holiday', 'holl', 'holla', 'holland', 'hollazz', 'holler', 'hollerinnnn', 'holleronfir', 'holli', 'hollier', 'hollist', 'hollla', 'hollyoak', 'hollywood', 'holm', 'holocaust', 'holyfrijol', 'holz', 'home', 'homeboy', 'homee', 'homegirl', 'homegrown', 'homeless', 'homemad', 'homeork', 'homepag', 'homerun', 'homesick', 'hometown', 'homeward', 'homework', 'homeworkkk', 'homeworkkkkkk', 'homi', 'homicid', 'hon', 'hondaya', 'honest', 'honestli', 'honey', 'honeymoon', 'hong', 'hongboseok', 'hongki', 'honki', 'honor', 'honour', 'hoo', 'hood', 'hoodi', 'hook', 'hookah', 'hookup', 'hooo', 'hooood', 'hoooommmee', 'hoooooo', 'hoop', 'hooray', 'hooti', 'hoover', 'hop', 'hopak', 'hope', 'hopeless', 'hoper', 'hopi', 'hopkin', 'horatio', 'hordak', 'hore', 'horf', 'hormon', 'horn', 'hornedogg', 'horni', 'horray', 'horribl', 'horrid', 'horrifi', 'horror', 'hors', 'horsi', 'hosp', 'hospic', 'hospit', 'host', 'hot', 'hotdog', 'hotel', 'hoteldesign', 'hoteli', 'hotfri', 'hotlanta', 'hotmail', 'hotpant', 'hott', 'hotter', 'hottest', 'hotti', 'hotttt', 'hottttt', 'hotword', 'hound', 'hour', 'hous', 'houseclean', 'houseguest', 'housemartin', 'housetrip', 'housewarm', 'houston', 'houswiv', 'how', 'howd', 'howdi', 'howev', 'howl', 'howr', 'howrya', 'howto', 'hoy', 'hp', 'hphone', 'hpmini', 'hq', 'hr', 'hrrmmmm', 'hs', 'hsc', 'hsd', 'hsg', 'hsm', 'hspda', 'ht', 'html', 'htown', 'hu', 'huaaahhhh', 'hub', 'hubbi', 'hubz', 'hudgen', 'hudson', 'huergh', 'huff', 'hug', 'huge', 'hugger', 'huggl', 'hugh', 'huh', 'huhu', 'huhuhu', 'huhuhuhu', 'hukss', 'hula', 'hulk', 'hull', 'hulu', 'hum', 'human', 'humanli', 'humbl', 'humid', 'humm', 'hummer', 'hummingbird', 'hummu', 'humor', 'humour', 'hump', 'humph', 'humphh', 'humptz', 'hun', 'hundley', 'hundr', 'hung', 'hunger', 'hungov', 'hungri', 'hungryyi', 'hungryyyy', 'hungryyyyyyi', 'hunh', 'hunn', 'hunni', 'hunqri', 'hunt', 'hunter', 'hunteress', 'huntington', 'huntsman', 'hur', 'huron', 'hurr', 'hurrah', 'hurray', 'hurri', 'hurt', 'hurter', 'hurti', 'hurtin', 'hurtss', 'husband', 'hush', 'huski', 'hustl', 'hustler', 'huuug', 'huuuurt', 'huzzah', 'hv', 'hve', 'hw', 'hwang', 'hybrid', 'hyd', 'hydroplan', 'hymn', 'hype', 'hyper', 'hyperlink', 'hypocrisi', 'hypothyroid', 'hyster', 'ia', 'iam', 'iambodi', 'iamdiddi', 'iamhislegend', 'iamsoannoy', 'ian', 'ib', 'ibi', 'ibiza', 'ibuprofen', 'ica', 'icarli', 'ice', 'iceberg', 'icecold', 'icecream', 'ich', 'ichat', 'ickest', 'icki', 'icon', 'ict', 'icu', 'id', 'idaho', 'idahostatesman', 'idd', 'ide', 'idea', 'ideaaaa', 'ideal', 'idek', 'ident', 'identifi', 'idiot', 'idk', 'idkk', 'idol', 'idop', 'idyl', 'ie', 'ifc', 'ifin', 'iflyy', 'ifni', 'ifon', 'ifthenels', 'iga', 'igirlypimp', 'igk', 'ignit', 'ignor', 'ihav', 'ii', 'iiiiittttt', 'iiironyyyyi', 'iit', 'ijust', 'ik', 'ikea', 'ikr', 'il', 'ilhsm', 'ili', 'ilif', 'ilikeucoz', 'ilk', 'ill', 'illeg', 'illest', 'illinoi', 'illiter', 'illus', 'illustr', 'iloveicecream', 'ilovey', 'iluu', 'im', 'ima', 'imac', 'imadedinn', 'imag', 'imagin', 'imaginari', 'imam', 'imax', 'ime', 'imflyrdl', 'imi', 'imit', 'imm', 'imma', 'immaterialdepth', 'immedi', 'immi', 'immort', 'imo', 'impact', 'imparti', 'impati', 'impend', 'imperi', 'imperson', 'implaus', 'impli', 'import', 'imposs', 'impost', 'impress', 'improb', 'improv', 'impt', 'imptli', 'imu', 'in', 'inact', 'inafabul', 'inaint', 'inanim', 'inaperfectworld', 'inauckland', 'inay', 'inbetween', 'inbox', 'inca', 'incalcul', 'incas', 'incent', 'inch', 'incident', 'inclin', 'includ', 'incom', 'incomom', 'incompet', 'incomplet', 'inconveni', 'incread', 'increas', 'increasingli', 'incred', 'incredibley', 'ind', 'inde', 'independ', 'indi', 'india', 'indiagam', 'indian', 'indiana', 'indiavot', 'indic', 'indispos', 'individu', 'indo', 'indon', 'indonesia', 'indonesian', 'indoor', 'indorr', 'indulg', 'industri', 'ine', 'ineffect', 'inertia', 'inevermenttobrag', 'inevit', 'inexcus', 'inexplain', 'infact', 'infam', 'infant', 'infect', 'infecti', 'infest', 'infin', 'inflamm', 'info', 'inform', 'infring', 'infront', 'ing', 'ingeni', 'inggit', 'ingr', 'ingredi', 'ingrid', 'inhal', 'ini', 'initi', 'inject', 'injur', 'injuri', 'ink', 'inki', 'inlaw', 'inlov', 'inmyheadstudio', 'inn', 'inna', 'inner', 'inning', 'innn', 'innoc', 'innov', 'innovat', 'input', 'inq', 'inquiri', 'insan', 'insect', 'insensit', 'insert', 'inshalla', 'insid', 'insincer', 'insist', 'insomina', 'insomnia', 'insomniac', 'inspect', 'inspector', 'inspir', 'inspiron', 'instablog', 'instal', 'instanc', 'instant', 'instantli', 'insteaaad', 'instead', 'instinct', 'instruct', 'instrument', 'insul', 'insult', 'insur', 'int', 'intact', 'intalnest', 'integr', 'integral', 'inteira', 'intel', 'intellig', 'intend', 'intens', 'intent', 'interact', 'interest', 'interestin', 'interfac', 'interfaith', 'interior', 'intermiss', 'intern', 'internatzionala', 'internet', 'internqueen', 'internship', 'interpret', 'intersect', 'interst', 'interstin', 'interv', 'intervent', 'interview', 'interweb', 'intheseriesimnotfuckinhappi', 'intil', 'intimaci', 'intimpla', 'intranet', 'intrigu', 'introduc', 'introduct', 'invalid', 'invent', 'invest', 'investigatordon', 'invigor', 'invinc', 'invis', 'invit', 'involv', 'iono', 'iook', 'iowa', 'ip', 'ipaq', 'iphon', 'ipl', 'iplay', 'ipod', 'ipt', 'iq', 'ir', 'iran', 'iranelect', 'iranian', 'iraq', 'irb', 'ireland', 'irememb', 'iridesc', 'irma', 'irockhisnam', 'iron', 'ironman', 'irration', 'irrelev', 'irrit', 'irvin', 'isaac', 'isabel', 'isaiah', 'isb', 'ischil', 'iscn', 'ish', 'ishh', 'ishin', 'ishine', 'isihac', 'isit', 'island', 'isliy', 'ism', 'ismom', 'isnit', 'isnt', 'isol', 'isold', 'isp', 'isplay', 'israel', 'issu', 'ist', 'istryck', 'isupload', 'itali', 'italian', 'itch', 'itchi', 'itcould', 'itd', 'item', 'iti', 'itinerari', 'itll', 'itoodl', 'itouch', 'itsbetterthancrappymaui', 'itschelseastaub', 'itsmx', 'itstayloryal', 'itt', 'ittt', 'itttt', 'ittttt', 'itun', 'itz', 'iv', 'ivanka', 'ivanov', 'ive', 'ivi', 'iwantblood', 'iweb', 'iwish', 'iya', 'iyanih', 'iyo', 'iyou', 'iz', 'izea', 'izzard', 'izzi', 'j', 'ja', 'jab', 'jaba', 'jacc', 'jack', 'jacket', 'jackhamm', 'jacki', 'jackman', 'jackpot', 'jackrubi', 'jackson', 'jacob', 'jacobi', 'jacuzzz', 'jadeycozo', 'jadoremarmit', 'jaejin', 'jag', 'jai', 'jaiden', 'jail', 'jailbreak', 'jailbrok', 'jailbroken', 'jaime', 'jaimiemorrison', 'jaimishik', 'jaipongan', 'jake', 'jalani', 'jalapeno', 'jalfrezzi', 'jalil', 'jam', 'jamaica', 'jamaicasbest', 'jamba', 'jame', 'jamesclay', 'jamesgil', 'jamesotron', 'jamess', 'jami', 'jammi', 'jammin', 'jamonit', 'jan', 'jane', 'janeshous', 'janettele', 'janic', 'jano', 'januari', 'japan', 'japanes', 'jardim', 'jare', 'jaredsigel', 'jarmi', 'jarrod', 'jasmimi', 'jasmin', 'jason', 'jasoncalacani', 'jasper', 'jaspercoffe', 'jathiro', 'jaunt', 'java', 'javascript', 'javon', 'jaw', 'jaxpanik', 'jaxson', 'jay', 'jayd', 'jaydenhempel', 'jaymieyo', 'jaymillion', 'jayn', 'jaywalk', 'jayyte', 'jaz', 'jazz', 'jazzo', 'jb', 'jcayzac', 'je', 'jealou', 'jean', 'jeanni', 'jedi', 'jeeeeeeez', 'jeelu', 'jeep', 'jeet', 'jeez', 'jeezzzzz', 'jeff', 'jefferi', 'jeffjarvi', 'jeffrey', 'jefspoken', 'jehaa', 'jelen', 'jelli', 'jello', 'jelou', 'jemi', 'jen', 'jeniou', 'jenishel', 'jenn', 'jenna', 'jenni', 'jennif', 'jennna', 'jenson', 'jeopardi', 'jeremi', 'jergensmateri', 'jerk', 'jerkin', 'jero', 'jerri', 'jersey', 'jerseygirl', 'jerseyi', 'jess', 'jessecrockett', 'jessheartsmus', 'jessi', 'jessica', 'jessicamcd', 'jessicaredden', 'jester', 'jesu', 'jet', 'jetwash', 'jeuli', 'jewel', 'jewelleri', 'jewelri', 'jewish', 'jezebel', 'jgaspard', 'jh', 'jhave', 'jhb', 'jhong', 'jian', 'jiayou', 'jie', 'jigadi', 'jigsaw', 'jill', 'jillianlyndsi', 'jim', 'jimiross', 'jimknagg', 'jimmi', 'jin', 'jingl', 'jiniusatwork', 'jiser', 'jj', 'jjare', 'jk', 'jkjkjkjk', 'jkr', 'jl', 'jlsoffici', 'jmma', 'jnewkirk', 'jnt', 'jo', 'joan', 'joaniemaloney', 'joann', 'joanna', 'joaquin', 'job', 'jobless', 'jobro', 'joburg', 'jockey', 'jodianchin', 'joe', 'joel', 'joemisika', 'joenid', 'joey', 'joeymcintyr', 'jog', 'john', 'johnathan', 'johncmay', 'johni', 'johnlegend', 'johnni', 'johnson', 'johor', 'join', 'joiner', 'joint', 'joja', 'jojo', 'joke', 'jokin', 'joko', 'joli', 'jolli', 'jollibe', 'jolz', 'jon', 'jona', 'jonah', 'jonasaustralia', 'jonasbroth', 'jonashq', 'jonaskevin', 'jonasliveonfb', 'jonathan', 'jonathanrknight', 'jone', 'jonghunmaskedseunghyunmaskedminhwanomigaddd', 'jons', 'jonskeet', 'jonson', 'joobieluv', 'jordan', 'jordanknight', 'jordanyup', 'jordin', 'joseph', 'josephin', 'josh', 'joshmobil', 'joshstor', 'joshua', 'joshycoutur', 'joshypearson', 'josi', 'joss', 'joulnar', 'journal', 'journalist', 'journey', 'jovan', 'joy', 'jp', 'jpg', 'jqueri', 'jr', 'jrichh', 'jrouth', 'js', 'jst', 'jt', 'jtdesign', 'ju', 'juan', 'juarez', 'jubil', 'jubile', 'juddday', 'judel', 'judg', 'judgment', 'judi', 'judici', 'judif', 'juggl', 'juic', 'juici', 'jule', 'julesrenn', 'juli', 'julia', 'julian', 'juliann', 'julianna', 'juliecentr', 'juliee', 'juliet', 'juliett', 'jumbo', 'jump', 'jumpingmacaroon', 'jumpshot', 'jun', 'junction', 'june', 'juneaaan', 'jung', 'jungl', 'junior', 'juniorlahlah', 'junk', 'junki', 'juri', 'jusi', 'justgiv', 'justic', 'justifi', 'justin', 'justinnauman', 'justtt', 'juuuic', 'juzt', 'jz', 'k', 'ka', 'kabaal', 'kabar', 'kabash', 'kabati', 'kabuto', 'kaci', 'kae', 'kaeli', 'kage', 'kahe', 'kahin', 'kahit', 'kahli', 'kaila', 'kailangan', 'kaile', 'kaiser', 'kaitlyn', 'kak', 'kakak', 'kakapagod', 'kaki', 'kalanigordon', 'kalo', 'kangen', 'kanhaiyy', 'kanina', 'kany', 'kara', 'karaok', 'karat', 'kardashian', 'karen', 'karena', 'karissa', 'karissaknutson', 'karl', 'karma', 'kart', 'kartz', 'karu', 'karyn', 'kaser', 'kasey', 'kasi', 'kat', 'katamari', 'kate', 'katerson', 'kathrynel', 'kati', 'katong', 'katrina', 'katt', 'katyperri', 'katz', 'kauai', 'kawaii', 'kay', 'kayak', 'kayden', 'kayla', 'kayn', 'kaz', 'kc', 'kd', 'ke', 'kean', 'keanu', 'kebab', 'ked', 'kee', 'keeeep', 'keeep', 'keek', 'keeli', 'keen', 'keenwash', 'keeo', 'keep', 'keepal', 'keeper', 'keepin', 'keeshound', 'keira', 'keisha', 'keith', 'keiu', 'kejang', 'kekek', 'kel', 'kelbi', 'kelci', 'kelkin', 'kell', 'kellbel', 'keller', 'kelli', 'kelowna', 'kelsey', 'ken', 'kenal', 'kendrick', 'kenichi', 'kennedi', 'kennedyyyyyyi', 'kennel', 'kenni', 'kennon', 'kent', 'kentucki', 'kenya', 'kenzi', 'kept', 'kerajinan', 'kerchoon', 'kerr', 'kerri', 'kerrymcginley', 'kerrypowel', 'kerrysholicar', 'kesiangan', 'kev', 'kevin', 'kevindevinetwit', 'kevinfierc', 'kevinghogan', 'kevinjona', 'kew', 'kewiki', 'kewl', 'key', 'keya', 'keyboard', 'keycard', 'keyn', 'keynot', 'keyston', 'keyword', 'kezza', 'kfc', 'kflosworld', 'kg', 'kgmb', 'kh', 'khaimah', 'khao', 'ki', 'kiana', 'kick', 'kickass', 'kickflip', 'kickin', 'kid', 'kidd', 'kidddd', 'kiddi', 'kiddo', 'kidin', 'kidlet', 'kidney', 'kidrobot', 'kiel', 'kieron', 'kiev', 'kill', 'killa', 'killaqueenz', 'killax', 'killer', 'killin', 'killlin', 'killll', 'killllll', 'killlllll', 'killzon', 'kilt', 'kim', 'kimbalici', 'kimbot', 'kimi', 'kimmel', 'kimmi', 'kin', 'kina', 'kind', 'kinda', 'kindaa', 'kindasorta', 'kindegarten', 'kindof', 'kindrawoo', 'king', 'kingdom', 'kingston', 'kink', 'kinki', 'kinnd', 'kinnock', 'kinuha', 'kinukuniya', 'kiosk', 'kirk', 'kirkegard', 'kirsti', 'kiss', 'kissin', 'kisskissbang', 'kit', 'kita', 'kitchen', 'kitchenaid', 'kitchenn', 'kitchn', 'kitkat', 'kitten', 'kitti', 'kittycat', 'kittyheld', 'kittykat', 'kiwanja', 'kiwi', 'kix', 'kiya', 'kjfkjdfjdgj', 'kk', 'kkkkk', 'kl', 'klarenz', 'klaxon', 'kloss', 'klove', 'klum', 'km', 'kmoney', 'kmrn', 'kmt', 'kn', 'knaan', 'knack', 'knacker', 'knee', 'kneed', 'kneeee', 'knew', 'knick', 'knife', 'knight', 'knihi', 'knish', 'knit', 'knittin', 'kno', 'knobhead', 'knock', 'knoll', 'knooooow', 'knoooow', 'knooow', 'knoow', 'knot', 'knotti', 'know', 'knowin', 'knowledg', 'known', 'knowww', 'knowwwwww', 'knp', 'knuckl', 'knuddel', 'knw', 'knwo', 'ko', 'kobe', 'kobold', 'koda', 'kohl', 'kohn', 'koi', 'koko', 'kokonutxx', 'kol', 'kollar', 'kologarn', 'kommetji', 'komodo', 'kong', 'konk', 'kool', 'kopper', 'kore', 'korea', 'korean', 'korn', 'kotak', 'kotchi', 'kourtneykardash', 'kout', 'kp', 'kpng', 'kraus', 'kredex', 'kreme', 'kri', 'krill', 'krispi', 'krissi', 'krista', 'kristabowman', 'kristen', 'krister', 'kristi', 'kristin', 'kristina', 'kristinnnaa', 'krudd', 'krystalatwork', 'krystalllll', 'krystel', 'ksi', 'ksj', 'ksm', 'ksp', 'kstew', 'ksubi', 'ku', 'kulfi', 'kulturbril', 'kune', 'kura', 'kurt', 'kuru', 'kuya', 'kuzzo', 'ky', 'kya', 'kyla', 'kyle', 'kyler', 'kyleturman', 'kyli', 'l', 'la', 'laa', 'laalalala', 'laan', 'lab', 'label', 'labeouf', 'labor', 'labour', 'labrador', 'labron', 'labuan', 'laceless', 'lacey', 'lack', 'lad', 'ladi', 'ladro', 'ladygaga', 'ladytron', 'ladyxx', 'laff', 'lag', 'lagann', 'laggin', 'lagi', 'lagoon', 'laguna', 'lah', 'lai', 'laid', 'lake', 'lakeland', 'laker', 'lakeshow', 'lakewood', 'lal', 'lala', 'lalalalala', 'lalalalalalalala', 'lama', 'lamb', 'lambert', 'lambo', 'lame', 'lamecor', 'lament', 'lameo', 'lamest', 'lamington', 'lamp', 'lana', 'lanai', 'lancashir', 'lancey', 'land', 'landan', 'lander', 'landlin', 'landon', 'lane', 'laney', 'lang', 'langfordperri', 'langit', 'languag', 'lanka', 'lans', 'lanshop', 'lantzilla', 'lanvin', 'lao', 'lap', 'lappi', 'laproscopi', 'laptop', 'lar', 'larg', 'larger', 'laring', 'larisan', 'larri', 'lasagn', 'laser', 'lask', 'lasko', 'last', 'lastday', 'lastfm', 'lastnight', 'lastnit', 'lastt', 'laswel', 'late', 'lateerr', 'later', 'laterrr', 'laterrrr', 'latespac', 'latest', 'latinamerica', 'latino', 'latio', 'latley', 'latona', 'latt', 'latter', 'laturr', 'lauderdal', 'laugh', 'laughangel', 'laughlin', 'laughter', 'lauk', 'launch', 'laundramat', 'laundri', 'laur', 'laura', 'lauraaa', 'laurafay', 'lauraohh', 'lauren', 'laurenconrad', 'laurenwampol', 'lausann', 'lautern', 'lautnerx', 'lavend', 'lavilla', 'law', 'lawd', 'lawk', 'lawn', 'lawnmow', 'lawrenc', 'lax', 'lay', 'layer', 'layie', 'layin', 'layn', 'layo', 'layoff', 'layout', 'layov', 'laze', 'lazi', 'lazyyyy', 'lb', 'lc', 'lcsweet', 'ldjeofjvnkkdjvhnsjwjfp', 'le', 'lead', 'leader', 'leaflet', 'leagu', 'leak', 'leakin', 'lean', 'leann', 'leap', 'learn', 'learncourtney', 'learnt', 'least', 'leat', 'leather', 'leav', 'leaver', 'leavin', 'lebanon', 'lebron', 'lectur', 'led', 'ledd', 'lee', 'leeander', 'leed', 'leeyuh', 'lefft', 'left', 'lefti', 'leftov', 'lefttt', 'leg', 'legaci', 'legal', 'legend', 'legendari', 'legiitt', 'legion', 'legit', 'legitim', 'lego', 'lei', 'leica', 'leicest', 'leigh', 'leighton', 'leisur', 'lembrar', 'lemm', 'lemmi', 'lemon', 'lemonad', 'lemuria', 'len', 'lenght', 'length', 'leno', 'lensbabi', 'lenscraft', 'leon', 'leonniefm', 'leopard', 'lepetitbeb', 'leqv', 'leran', 'lesbian', 'leshansom', 'lesley', 'less', 'lesser', 'lesson', 'lest', 'let', 'lethal', 'letter', 'letterblox', 'letterman', 'lettuc', 'leung', 'level', 'lever', 'leverag', 'levi', 'lewi', 'lex', 'lexingtong', 'lexographi', 'lexz', 'lf', 'lfe', 'lg', 'lhccmatt', 'li', 'liar', 'liat', 'liban', 'libbylongneck', 'liber', 'libra', 'librain', 'librari', 'librarian', 'licens', 'lick', 'lie', 'lieb', 'life', 'lifeee', 'lifeguard', 'lifehous', 'lifesav', 'lifestream', 'lifestyl', 'lifetim', 'lift', 'light', 'lighten', 'lighter', 'lighthous', 'lightn', 'lightnin', 'lightroom', 'liiiiiif', 'liiv', 'like', 'likemind', 'likewis', 'likin', 'lil', 'lili', 'lilon', 'lilycheah', 'lilyxo', 'lima', 'limb', 'limburg', 'lime', 'limit', 'limitless', 'limo', 'limor', 'limp', 'lin', 'lina', 'lincoln', 'linda', 'lindsay', 'lindsea', 'lindsey', 'line', 'linear', 'linen', 'lineup', 'ling', 'lingeri', 'lingo', 'link', 'linkedin', 'linki', 'linux', 'lion', 'lionel', 'liov', 'lip', 'lippi', 'liquid', 'liquor', 'lire', 'lirik', 'lisa', 'lisalisa', 'lisbon', 'lisl', 'liss', 'list', 'listen', 'listenin', 'listeningto', 'listfi', 'listn', 'lit', 'liter', 'literatur', 'litestudio', 'litt', 'litter', 'littl', 'little', 'littlest', 'littttl', 'live', 'livejourn', 'liver', 'liverpool', 'livestream', 'livestrong', 'livr', 'liyen', 'liz', 'lizard', 'lizzi', 'lj', 'ljubljana', 'll', 'llie', 'lliissaa', 'lliquisha', 'lll', 'llol', 'lloyd', 'lm', 'lmao', 'lmaol', 'lmaoo', 'lmaoooo', 'lmfao', 'lmfaooooo', 'lml', 'lo', 'load', 'loaf', 'loan', 'lob', 'lobbi', 'lobo', 'lobster', 'local', 'locat', 'lock', 'lockdown', 'lockeroom', 'locsin', 'lofnotc', 'log', 'logan', 'logic', 'login', 'logist', 'loglin', 'logo', 'loiu', 'lokaal', 'lol', 'lola', 'lolababyyi', 'lolita', 'loliv', 'loll', 'lollipop', 'lolll', 'lolol', 'lolss', 'lolx', 'lolz', 'lombok', 'london', 'londonshir', 'lone', 'loneli', 'lonelyyyy', 'loner', 'lonesom', 'long', 'longa', 'longer', 'longest', 'longestpoem', 'longestpoemintheworld', 'longggg', 'longgggg', 'longjumeauweath', 'longman', 'lonli', 'lonng', 'lonnnnnnnnnnnnnnnng', 'look', 'lookig', 'lookin', 'looklik', 'lookn', 'lookssss', 'lool', 'loom', 'loomi', 'loong', 'looo', 'looong', 'looonnnggg', 'loooong', 'looooooooonnnnnggggg', 'looooooooov', 'loooooov', 'looooov', 'loooov', 'looov', 'loop', 'looper', 'loopi', 'loopless', 'loos', 'loovvveee', 'lopez', 'lora', 'lord', 'lordi', 'loren', 'lorenna', 'lorima', 'lorinn', 'lose', 'loser', 'losin', 'loss', 'lost', 'lot', 'lotion', 'lotr', 'lotsa', 'lott', 'lotta', 'lotteri', 'lotto', 'lou', 'louboutin', 'loud', 'loudli', 'louha', 'loui', 'louisa', 'louisiana', 'loung', 'lous', 'lousi', 'louwho', 'lov', 'lovabl', 'lovato', 'love', 'lovecok', 'lovedivers', 'lovee', 'loveeeeee', 'loveeyounichola', 'loveli', 'loveliest', 'lovelovelovelov', 'lovelovelovelovelovelov', 'lover', 'loverli', 'loveterr', 'loveu', 'lovey', 'loveyoujonesi', 'loveyouuu', 'lovi', 'lovin', 'lovley', 'low', 'lower', 'lowri', 'loyalti', 'lozeng', 'lozzi', 'lozzobear', 'lp', 'lr', 'lrv', 'ls', 'lsat', 'lss', 'lt', 'ltim', 'lu', 'luci', 'lucialiang', 'luck', 'lucki', 'luckiin', 'luckili', 'luckli', 'luckycharm', 'luckylobo', 'luckytrinket', 'luckyyyy', 'lucozad', 'lucu', 'luego', 'luggag', 'lugradio', 'luka', 'lukasrossi', 'luke', 'lullaby', 'lulli', 'lulubel', 'luluub', 'lumea', 'lumley', 'lumpi', 'luna', 'lunch', 'lunchtim', 'lund', 'lunesta', 'lung', 'lurk', 'lurv', 'lurvee', 'lushi', 'luthier', 'luurrrv', 'luv', 'luvbabyluv', 'luvd', 'luve', 'luvfam', 'luvher', 'luvin', 'luvvv', 'luvyouliamxx', 'lvatt', 'lvl', 'lvoe', 'ly', 'lydia', 'lygon', 'lyk', 'lyl', 'lynda', 'lynett', 'lynn', 'lynnde', 'lynx', 'lyric', 'ma', 'maaan', 'maad', 'maam', 'maayo', 'maayt', 'mac', 'macbean', 'macbook', 'macbridn', 'macc', 'macca', 'maceo', 'maceroni', 'machin', 'macht', 'machynlleth', 'maci', 'mack', 'mackem', 'mackinaw', 'maco', 'macstori', 'mad', 'madald', 'madam', 'madd', 'madder', 'maddi', 'made', 'madel', 'madelin', 'madiago', 'madiownsy', 'madison', 'madli', 'madrid', 'madsen', 'mae', 'mafi', 'mafiawar', 'mag', 'magazin', 'maggi', 'magic', 'magicallyyi', 'magnet', 'magnifi', 'magnolia', 'magnum', 'magpi', 'magslhalliday', 'maguir', 'magz', 'mah', 'mahmoud', 'mai', 'maid', 'mail', 'mailman', 'mailplan', 'main', 'mainli', 'mainstream', 'maintain', 'mainten', 'mais', 'majest', 'major', 'makan', 'makati', 'makd', 'make', 'makemebad', 'makeov', 'maker', 'makeup', 'maki', 'makin', 'mal', 'mala', 'malachi', 'malalim', 'malamut', 'malaria', 'malay', 'malaysia', 'maldini', 'maldiv', 'male', 'maliaf', 'mall', 'mallet', 'malzadol', 'mama', 'mamaya', 'mami', 'mamma', 'mammal', 'man', 'manag', 'manate', 'manchest', 'mandahoof', 'mandalay', 'mandarin', 'mandem', 'mandi', 'mandyjiroux', 'mandypandi', 'mandyyjirouxx', 'mang', 'manga', 'mango', 'manhattan', 'mani', 'mania', 'manibusan', 'manicur', 'manila', 'manjiribahadur', 'mankind', 'mann', 'mannequin', 'manner', 'manni', 'mannnn', 'manolo', 'mansfield', 'mansion', 'mansquito', 'manual', 'maopen', 'map', 'mapl', 'maplpro', 'mar', 'marathon', 'maravilla', 'marcela', 'march', 'marci', 'marcieiscool', 'marcthom', 'marcu', 'mare', 'maren', 'margaret', 'margaretcho', 'margarita', 'margaritamass', 'margerin', 'margin', 'mari', 'maria', 'mariaai', 'mariaajoanaay', 'mariachi', 'mariah', 'mariannnnaa', 'marigni', 'marijuana', 'marin', 'marina', 'marinho', 'mario', 'marionberri', 'marisa', 'marisssssa', 'mark', 'markclapham', 'markd', 'market', 'marketingmoron', 'markrosenbau', 'marla', 'marley', 'marleysheep', 'marmalad', 'marnin', 'marqu', 'marque', 'marquez', 'marr', 'marri', 'marriag', 'marrow', 'marryy', 'marsha', 'marshaambrosiu', 'marshadewi', 'marshal', 'marshmallow', 'marshmellow', 'mart', 'martha', 'marti', 'martial', 'martin', 'martini', 'martyn', 'marv', 'marvel', 'marvin', 'marwel', 'maryland', 'marylanddd', 'masala', 'masaya', 'mascara', 'maserati', 'mash', 'mashabl', 'mask', 'mason', 'masontech', 'masquerad', 'mass', 'massachusett', 'massag', 'massiel', 'massiv', 'mast', 'master', 'masterb', 'mastercard', 'mastermind', 'mastertweet', 'masturb', 'mat', 'match', 'mate', 'materi', 'matey', 'math', 'mathi', 'matine', 'matress', 'matrix', 'matron', 'matsuyama', 'matt', 'matter', 'matthew', 'matti', 'mattmatt', 'mattress', 'mattritchi', 'mattyde', 'mattyjon', 'matur', 'mau', 'mauer', 'maui', 'maureeneschul', 'maven', 'max', 'maximum', 'maxin', 'maxwel', 'maxx', 'may', 'maya', 'mayb', 'mayer', 'mayhem', 'maymest', 'mayo', 'mazda', 'maze', 'mazel', 'mazter', 'mb', 'mbit', 'mbp', 'mc', 'mcc', 'mccann', 'mccarley', 'mcccmu', 'mccoffe', 'mcdonald', 'mcdonnel', 'mcfarland', 'mcfli', 'mcflurri', 'mcflyy', 'mcgill', 'mcgraw', 'mcgregor', 'mchale', 'mchammer', 'mcintyr', 'mcjunior', 'mck', 'mckenzi', 'mckfamili', 'mckweekend', 'mclovin', 'mcm', 'mcmahon', 'mcmanu', 'mcmuffin', 'mcmurray', 'mcneil', 'mcr', 'mcrmi', 'mcsupergirl', 'md', 'mdc', 'mdear', 'me', 'meadow', 'meal', 'mean', 'meander', 'meanest', 'meani', 'meant', 'meanwhil', 'measli', 'measur', 'meat', 'meatguild', 'meatloaf', 'meaway', 'mech', 'mechan', 'med', 'media', 'medic', 'medicin', 'mediev', 'mediocr', 'medit', 'medium', 'medo', 'mee', 'meee', 'meeee', 'meeeee', 'meeeeeee', 'meeeeeeeeee', 'meeeeeeeeeeeeee', 'meeh', 'meek', 'meen', 'meeno', 'meester', 'meet', 'meetup', 'meg', 'mega', 'megaman', 'megan', 'megantyl', 'megaphon', 'megasaur', 'meggi', 'megh', 'meghan', 'megpresid', 'megurin', 'meh', 'mehh', 'mehhh', 'mehhhh', 'meijer', 'mein', 'meister', 'mekia', 'mel', 'melancholia', 'melati', 'melbourn', 'melissa', 'mello', 'mellow', 'melodi', 'melon', 'melt', 'meltwat', 'meluangkan', 'melvil', 'mem', 'member', 'membership', 'meme', 'memo', 'memor', 'memori', 'memphi', 'men', 'menac', 'menacingli', 'mencken', 'mend', 'mening', 'ment', 'mental', 'mention', 'menu', 'meow', 'meplur', 'mercado', 'merced', 'merch', 'merchant', 'merci', 'mercuri', 'mere', 'mereweth', 'merg', 'mergem', 'merger', 'merlin', 'mernin', 'mero', 'merri', 'meru', 'merz', 'mesesito', 'mesh', 'mesquit', 'mesra', 'mess', 'messag', 'messeg', 'messega', 'messeng', 'messi', 'messiah', 'messin', 'met', 'metal', 'metalikyazz', 'metallica', 'metaphor', 'meteor', 'methink', 'methinkst', 'method', 'metr', 'metro', 'metrocon', 'metromixatl', 'metrost', 'mexican', 'mexico', 'meyer', 'mf', 'mfam', 'mfk', 'mfo', 'mg', 'mga', 'mgr', 'mh', 'mhmmm', 'mi', 'mia', 'miami', 'miapersempr', 'mic', 'michael', 'michaelmcge', 'michaelv', 'michel', 'michelob', 'michigan', 'mick', 'mickey', 'mickyfin', 'microblog', 'microderm', 'microscopi', 'microsoft', 'microwav', 'micucci', 'mid', 'mida', 'midday', 'middl', 'midhurst', 'midnight', 'midpoint', 'midstream', 'midsumm', 'midterm', 'midtown', 'midwestern', 'mieux', 'might', 'mighti', 'migrain', 'migraineeee', 'migraineeeesssss', 'migrat', 'mii', 'miispuffi', 'mika', 'mike', 'mikequad', 'mikevinc', 'mikey', 'mikro', 'mil', 'milano', 'mild', 'mildi', 'mile', 'mileag', 'miler', 'miley', 'mileycyru', 'mileymonday', 'mileysupport', 'mileythebest', 'mileyyy', 'militari', 'militarymonday', 'milk', 'milkhop', 'milki', 'milkshak', 'mill', 'millcreek', 'millennium', 'miller', 'milli', 'million', 'millionair', 'millionth', 'miln', 'milo', 'milton', 'milwauke', 'mime', 'mimi', 'mimin', 'min', 'mina', 'mind', 'minday', 'mindd', 'mindi', 'mine', 'minehead', 'ming', 'mini', 'miniftop', 'minim', 'minion', 'minist', 'minku', 'minnesota', 'minor', 'mint', 'minti', 'minu', 'minuet', 'minusthebeard', 'minut', 'mir', 'mira', 'miracl', 'miranda', 'miriam', 'miro', 'mirror', 'miscommun', 'miser', 'misfortun', 'misha', 'mishd', 'mishhhh', 'miso', 'mispel', 'miss', 'missattitud', 'missb', 'missdolan', 'misseileen', 'misshim', 'missi', 'missin', 'mission', 'mississippi', 'mississsippi', 'missjojosmith', 'misskingjo', 'missksyn', 'misspelt', 'missrftc', 'missrogu', 'misss', 'missshergold', 'missss', 'missssssss', 'mistak', 'mistaken', 'mister', 'misterdud', 'mistransl', 'mistuhmil', 'misunderstand', 'misunderstood', 'mit', 'mitch', 'mitchel', 'mitchelmusso', 'mite', 'mitsuwa', 'mitz', 'mix', 'mixer', 'mixero', 'mixr', 'mixtap', 'mizuo', 'mizze', 'mizzjuicyze', 'mj', 'mjm', 'mkay', 'mke', 'mkg', 'mkv', 'ml', 'mlang', 'mlb', 'mlia', 'mlomb', 'mm', 'mma', 'mmh', 'mmhhhmm', 'mmm', 'mmmichel', 'mmmm', 'mmmmm', 'mmmmmm', 'mmmmmmmmmmmmmmmmmmmmovi', 'mmo', 'mmorpg', 'mmwant', 'mnchester', 'mndaili', 'mntgmri', 'mo', 'moan', 'moar', 'moat', 'mob', 'mobil', 'mobileapp', 'mobilem', 'mobli', 'mocassin', 'mocha', 'mock', 'mod', 'modcloth', 'mode', 'model', 'modem', 'moder', 'modern', 'modest', 'modestotweetup', 'modulu', 'moe', 'mofo', 'mohney', 'moi', 'moiyahatak', 'mojito', 'mojo', 'mole', 'moley', 'molitor', 'moll', 'molliek', 'mom', 'momberg', 'moment', 'momma', 'mommah', 'mommi', 'mommma', 'mommytoaaj', 'momonmar', 'momz', 'mon', 'mona', 'monaco', 'moncton', 'mond', 'monday', 'moneeey', 'money', 'moneybal', 'moneymak', 'monica', 'monicaa', 'monicarooney', 'moniqu', 'monitor', 'monkey', 'monkeyboy', 'monkeysmus', 'mono', 'monopol', 'monopoli', 'monsoon', 'monster', 'monstermus', 'montan', 'montana', 'montanatuck', 'montanna', 'montenegro', 'monteray', 'monterrey', 'month', 'monthli', 'montr', 'montreal', 'moo', 'moochi', 'mood', 'moogl', 'moolah', 'moomimmel', 'moon', 'moonflowerchild', 'moonlight', 'moonwalk', 'mooooooooooo', 'moooooor', 'mooor', 'mooovi', 'moor', 'mooreee', 'mooshi', 'moosho', 'mor', 'moral', 'moran', 'more', 'moreday', 'morgan', 'morgn', 'morn', 'mornin', 'morningg', 'morningggggg', 'mornoon', 'moro', 'morocco', 'moron', 'morow', 'morp', 'morphin', 'morri', 'morricon', 'morrigan', 'morrison', 'morrisset', 'morro', 'morrow', 'mortag', 'mosaic', 'moscow', 'mose', 'mosh', 'mosquito', 'moss', 'mossi', 'mostli', 'mother', 'motherfuck', 'motherfuckin', 'motion', 'motiv', 'moto', 'motogp', 'motor', 'motorcycl', 'motorhead', 'motorhom', 'motrin', 'mount', 'mountain', 'mountainjam', 'mountian', 'mourn', 'mous', 'mouss', 'moustach', 'mouth', 'mouthpiec', 'move', 'movei', 'movement', 'mover', 'movi', 'movie', 'movieee', 'moviiee', 'movin', 'mow', 'mowin', 'moy', 'moz', 'mozart', 'mozzerella', 'mozzi', 'mp', 'mpc', 'mph', 'mpix', 'mr', 'mraz', 'mri', 'mrjonnolum', 'mrldavi', 'mrow', 'mrrodd', 'mrsocial', 'mrtweet', 'ms', 'msclementin', 'msfitz', 'msg', 'mskandi', 'msn', 'msnbc', 'mssg', 'mstate', 'mt', 'mtb', 'mth', 'mtnl', 'mtogeth', 'mtv', 'mtvasia', 'mtxx', 'mu', 'muah', 'muahaha', 'muang', 'muar', 'muay', 'much', 'muchbett', 'muchhh', 'mucho', 'muddi', 'muf', 'mufasa', 'muffet', 'muffin', 'muffl', 'mug', 'muggi', 'muhh', 'mulch', 'mulholland', 'mullet', 'mulletfest', 'mult', 'multi', 'multilingu', 'multipl', 'multiplay', 'multiplex', 'multipli', 'multitask', 'mum', 'mumbai', 'mummi', 'munchi', 'munchkin', 'munchlesson', 'mundan', 'munich', 'muppet', 'murder', 'murray', 'muscl', 'muse', 'museam', 'museum', 'mush', 'mushier', 'mushroom', 'music', 'musical', 'musician', 'musiq', 'musiqu', 'musso', 'must', 'mustach', 'mustiv', 'mustt', 'mustv', 'mutant', 'mute', 'mutual', 'muuuch', 'muuuum', 'muuuuuuuuch', 'muy', 'muzicaaaaaa', 'mw', 'mwahahaha', 'mwhaha', 'mwhahah', 'mwwaahh', 'mx', 'mxpx', 'mya', 'myfabolouslif', 'myfengshuilif', 'myhandl', 'myheart', 'myke', 'myla', 'mymanicur', 'mymi', 'myrtl', 'myselfffff', 'myspac', 'mysteri', 'mystibh', 'mystifi', 'mythbust', 'mythic', 'mytholog', 'mytweepl', 'myu', 'myy', 'myyyy', 'mz', 'n', 'na', 'naan', 'nab', 'nacion', 'nad', 'nada', 'nadal', 'nadiapp', 'nag', 'nagig', 'nagpapabili', 'nah', 'nahh', 'nahhh', 'nahi', 'nahin', 'nail', 'nak', 'nakaka', 'nakakalungkot', 'nake', 'naman', 'namast', 'name', 'namecheap', 'namin', 'nan', 'nana', 'nanci', 'nanda', 'nanna', 'nanni', 'nano', 'nant', 'naoko', 'nap', 'napa', 'napervil', 'napoleon', 'nappi', 'nardandb', 'narita', 'narrow', 'nascar', 'nash', 'nashvil', 'nassau', 'nasti', 'nat', 'natal', 'natali', 'natalieyeo', 'natalyra', 'natasha', 'natazzz', 'nate', 'natemahoney', 'nathali', 'nathan', 'nathanael', 'nathanaelaqua', 'nation', 'nationaldoughnutday', 'nationalhealthyfoodday', 'nativ', 'natm', 'natur', 'naturopath', 'naughti', 'nauseou', 'nav', 'navet', 'navi', 'navig', 'naw', 'naww', 'nawwwwwwwwwwww', 'naxx', 'nay', 'naynay', 'nazi', 'naziah', 'nb', 'nba', 'nbadeck', 'nbc', 'nc', 'nci', 'ncr', 'nd', 'ndagsparti', 'ne', 'near', 'nearbi', 'nearest', 'nearli', 'neat', 'neater', 'neatli', 'neatza', 'nebo', 'nec', 'necessari', 'necessarili', 'neci', 'neck', 'necklac', 'necrophil', 'nectarin', 'ned', 'neda', 'nederland', 'nee', 'need', 'needa', 'needl', 'needless', 'neeed', 'neeeed', 'neeexxtt', 'neeli', 'neg', 'neglect', 'negoti', 'nehaisreddi', 'neic', 'neighbor', 'neighborhood', 'neighbour', 'neil', 'neither', 'nell', 'neocon', 'neogaf', 'neoncat', 'neow', 'nep', 'nephew', 'nerd', 'nerdbox', 'nerdfight', 'nerdi', 'nerdosauru', 'nerimon', 'nero', 'nerv', 'nervos', 'nervou', 'nervous', 'nesn', 'ness', 'nessi', 'nest', 'net', 'neta', 'netal', 'netbal', 'netbook', 'netfix', 'netflix', 'netherland', 'netra', 'netslum', 'network', 'neurosi', 'neva', 'nevada', 'nevbett', 'never', 'nevermind', 'neverrr', 'nevershoutnev', 'nevertheless', 'nevil', 'new', 'newbi', 'newcastl', 'newer', 'newest', 'newmarket', 'newmoonmovi', 'news', 'newsblast', 'newslett', 'newspapercran', 'newton', 'newtown', 'newwwss', 'newz', 'nexi', 'next', 'nf', 'nffc', 'nfolsom', 'ng', 'ngayon', 'ngconf', 'ngembek', 'ngeselin', 'ngocdupont', 'ngskolan', 'nguy', 'nh', 'nhl', 'ni', 'niamh', 'nic', 'nicaragua', 'nicci', 'nice', 'niceee', 'nicer', 'nichol', 'nichola', 'nicholson', 'nici', 'nick', 'nicki', 'nickkkjonasss', 'nicknam', 'nico', 'nicohiton', 'nicol', 'nicolekman', 'nicotin', 'nid', 'niec', 'nieghbor', 'niemi', 'nietzsch', 'nifa', 'nifti', 'nig', 'nigahig', 'nige', 'nigel', 'nigga', 'niggrpool', 'nighhht', 'night', 'nightclub', 'nightcurs', 'nighter', 'nightgnight', 'nighti', 'nightim', 'nightmar', 'nightmareofy', 'nightnight', 'nightnurs', 'nightowl', 'nightskift', 'nighttim', 'nightttt', 'nightynit', 'nigth', 'nih', 'niic', 'niiic', 'niikole', 'nik', 'nike', 'nikki', 'nikol', 'nikolaisen', 'nikolecamara', 'nikon', 'nikster', 'nil', 'nilay', 'niley', 'nin', 'nina', 'ninakayhusk', 'ninamw', 'nine', 'ninibantoc', 'ninja', 'nio', 'nisaho', 'nisha', 'nitch', 'nite', 'niteeeeeeeeeenit', 'nitemar', 'nitpicki', 'nj', 'nk', 'nkakalungkot', 'nkotb', 'nkotbluva', 'nl', 'nm', 'nn', 'no', 'noah', 'nobitchassnessfriday', 'nobl', 'nobodi', 'nod', 'nodaybut', 'node', 'noe', 'noel', 'noez', 'nog', 'nogrrlsallow', 'noh', 'nohemi', 'noir', 'nois', 'noisi', 'noit', 'nokia', 'nom', 'nomin', 'nomine', 'non', 'none', 'nonetheless', 'nonexist', 'nonfat', 'nonsens', 'nonstop', 'noo', 'noodl', 'noon', 'noona', 'nooo', 'noooo', 'nooooo', 'noooooo', 'nooooooo', 'noooooooo', 'nooooooooo', 'noooooooooooooo', 'noooooooooooooooo', 'nooooooooooooooooooooooo', 'noopi', 'nop', 'nope', 'nora', 'norah', 'norcal', 'nordkapp', 'norfolk', 'normal', 'normandi', 'north', 'northbound', 'northernsumm', 'norway', 'norwegian', 'norweigan', 'nose', 'nosey', 'nosoupfory', 'nost', 'nostalg', 'nostalgia', 'notch', 'note', 'notebook', 'notecard', 'noth', 'nothin', 'notic', 'notif', 'notori', 'notsafeforanywher', 'noun', 'noundiessunday', 'novarock', 'novel', 'novemb', 'nowaday', 'nowarehous', 'noway', 'nowcaus', 'nowfm', 'nowher', 'nowon', 'noww', 'nowww', 'np', 'nph', 'npr', 'nrc', 'nrew', 'nrh', 'ns', 'nsw', 'nt', 'nu', 'nub', 'nucci', 'nuclear', 'nude', 'nudg', 'nuebo', 'nueter', 'nugget', 'nuiesc', 'numb', 'number', 'numpti', 'nun', 'nune', 'nurs', 'nurseri', 'nursin', 'nurtur', 'nut', 'nutella', 'nuthin', 'nutin', 'nutrit', 'nuttn', 'nutz', 'nver', 'nvm', 'nvr', 'nw', 'nwawala', 'nxew', 'nxt', 'ny', 'nya', 'nyaaahhh', 'nyappi', 'nyc', 'nyhooo', 'nylug', 'nyt', 'nyway', 'nz', 'oak', 'oakland', 'oakleighvermont', 'oap', 'oasi', 'oat', 'oatmeal', 'oauth', 'ob', 'obama', 'obe', 'obey', 'obg', 'obi', 'object', 'oblivionblad', 'obrien', 'obscura', 'observ', 'obsess', 'obstruct', 'obv', 'obviou', 'obvious', 'obvous', 'oc', 'occas', 'occupi', 'occur', 'ocean', 'oceanmup', 'oceanographi', 'oceanup', 'oclock', 'ocmx', 'oconnor', 'ocr', 'oct', 'octob', 'octomom', 'octopu', 'od', 'odd', 'ode', 'odeam', 'odst', 'odstartov', 'oeh', 'oehh', 'ofcours', 'ofemili', 'off', 'offc', 'offcem', 'offend', 'offens', 'offer', 'offert', 'offf', 'offic', 'officedivvi', 'offici', 'officiali', 'officialjobro', 'officialnjona', 'offlin', 'offshor', 'ofici', 'ofr', 'often', 'oh', 'ohaideretiff', 'ohgigi', 'ohh', 'ohheykim', 'ohhh', 'ohhhh', 'ohhhhh', 'ohio', 'ohkkk', 'ohmann', 'ohmi', 'ohmyday', 'ohmygod', 'ohno', 'ohosiri', 'ohsnapitsalyssa', 'ohsovintagecouk', 'ohsweet', 'ohwellil', 'ohy', 'ohyeswedid', 'oi', 'oil', 'oiseau', 'oizo', 'ojhi', 'ok', 'okaaaaay', 'okaaaay', 'okaay', 'okai', 'okay', 'okayi', 'okayyy', 'oke', 'okey', 'oki', 'okii', 'okino', 'okk', 'okkk', 'oklahoma', 'okri', 'ol', 'old', 'older', 'oldest', 'ole', 'oliiii', 'oliv', 'oliverwood', 'olivia', 'olli', 'olympia', 'om', 'omd', 'ome', 'omega', 'omegl', 'omelett', 'omfg', 'omg', 'omgah', 'omgg', 'omgitsjosi', 'omgomgomgomg', 'omgosh', 'omgpop', 'omgsh', 'omgwtfbbq', 'omigosh', 'omj', 'ommmgg', 'omnia', 'omnipres', 'omnitechnew', 'omnomnomnomnom', 'omw', 'onboard', 'one', 'oneal', 'oneee', 'onenjen', 'oneon', 'oneoneoneon', 'ongo', 'oni', 'onion', 'onl', 'onlin', 'onnnnn', 'onset', 'ont', 'ontario', 'ontd', 'ontem', 'onto', 'onward', 'onyx', 'oo', 'ooc', 'ooh', 'oohh', 'ook', 'ool', 'ooo', 'oooffft', 'oooh', 'ooohh', 'ooohhhh', 'ooohooh', 'oooo', 'ooooh', 'oooommmmggg', 'oooooh', 'oooooohhh', 'ooooooooe', 'oooooooooouchi', 'ooop', 'oop', 'oopss', 'oow', 'op', 'opa', 'opalesc', 'open', 'opensourc', 'openzon', 'oper', 'opera', 'opi', 'opinion', 'opp', 'oppinion', 'oppon', 'opportun', 'oppos', 'opposit', 'oppp', 'oprah', 'optim', 'optimist', 'option', 'oral', 'oraldin', 'oram', 'orang', 'orangey', 'orchard', 'orchestra', 'ordeal', 'order', 'orderin', 'oreilli', 'oreo', 'org', 'organ', 'organis', 'orient', 'orientallilli', 'origami', 'origin', 'oriigiin', 'orion', 'orkut', 'orlando', 'orlandooo', 'orlean', 'orourk', 'orphan', 'ortho', 'orthodox', 'orthoped', 'orton', 'os', 'oscil', 'oscuridad', 'oslo', 'oso', 'ost', 'osx', 'ot', 'ota', 'otha', 'other', 'otherwis', 'otir', 'ott', 'ottokin', 'otw', 'ou', 'ouch', 'ouchhhhh', 'oughta', 'oulu', 'ounch', 'oup', 'ourracingdream', 'out', 'outag', 'outbid', 'outbound', 'outcom', 'outdoor', 'outer', 'outfield', 'outfit', 'outing', 'outlet', 'outlin', 'outlook', 'outnumb', 'outsid', 'outstand', 'outta', 'outtt', 'outttt', 'outttttt', 'outtttttt', 'ouvindo', 'ov', 'ova', 'oven', 'overal', 'overbook', 'overcast', 'overcom', 'overconfid', 'overdid', 'overeat', 'overflow', 'overh', 'overhaul', 'overhead', 'overland', 'overload', 'overnight', 'overpow', 'overr', 'overrr', 'overrrr', 'oversea', 'overslept', 'overstuf', 'overtim', 'overus', 'overwhelm', 'overwork', 'ovi', 'ovr', 'ow', 'owch', 'owe', 'owel', 'owen', 'owenrcwmab', 'owl', 'owlciti', 'owlrang', 'own', 'owner', 'oww', 'owwi', 'owww', 'ox', 'oxford', 'oxoxoxox', 'oxygen', 'oxymoron', 'oy', 'oyasuminasai', 'oz', 'p', 'pa', 'pabl', 'pablo', 'pace', 'pacif', 'pack', 'packag', 'packageeee', 'packet', 'packingg', 'pad', 'padr', 'padree', 'pag', 'page', 'pagerank', 'pah', 'paid', 'paig', 'pain', 'painkil', 'paint', 'pair', 'pajama', 'pakcricket', 'pakiboyzz', 'pakistani', 'pakistanwillwin', 'pal', 'palac', 'pale', 'palin', 'palli', 'palm', 'palpabl', 'pam', 'pamela', 'pammi', 'pamper', 'pan', 'panason', 'pancak', 'panda', 'pandanda', 'pandora', 'pang', 'panic', 'pant', 'panter', 'panti', 'panzergrenadi', 'pao', 'paola', 'paolo', 'pap', 'papa', 'paparazzi', 'paper', 'papercraftsbyk', 'papercut', 'paperless', 'papervis', 'paperwok', 'paperwork', 'papii', 'pappi', 'papz', 'paracetamol', 'paracetemol', 'parad', 'paradis', 'paradox', 'paragon', 'paraiso', 'parakeet', 'parallel', 'paramor', 'paranoid', 'parc', 'paren', 'parent', 'pari', 'parisian', 'park', 'parka', 'parm', 'parmesean', 'parodi', 'parrot', 'parrrttyyi', 'parson', 'part', 'partaaaaaaay', 'parti', 'partial', 'particip', 'particular', 'particularli', 'partli', 'partner', 'partnership', 'partyin', 'partypartyparti', 'partyyyyyyyyyyyyi', 'parul', 'pasadena', 'paso', 'pass', 'passeng', 'passion', 'passiv', 'passport', 'passthepocki', 'password', 'past', 'pasta', 'pastim', 'pastor', 'pastri', 'pat', 'pata', 'patch', 'pate', 'path', 'pathet', 'paticu', 'patienc', 'patient', 'patio', 'patric', 'patrick', 'patron', 'patter', 'pattern', 'patti', 'pattinson', 'paul', 'paula', 'pauli', 'paulo', 'paulverhoeven', 'pauvr', 'pave', 'pavillion', 'pavlov', 'paw', 'pay', 'payback', 'paycheck', 'payday', 'payment', 'payrol', 'pb', 'pc', 'pci', 'pco', 'pd', 'pda', 'pdf', 'pe', 'pea', 'peac', 'peachi', 'peak', 'peanut', 'pear', 'pearl', 'pearson', 'pech', 'pedant', 'pedestrian', 'pedi', 'pedicur', 'pee', 'peeeeeee', 'peekababi', 'peel', 'peep', 'peepz', 'peer', 'peggl', 'pehl', 'pei', 'pelham', 'pelo', 'pelosi', 'pembo', 'pembrokeshir', 'pempengco', 'pen', 'penalti', 'pencil', 'pendant', 'pengetua', 'penguin', 'peni', 'penis', 'penn', 'penni', 'pennsylvania', 'pensando', 'pension', 'pentecost', 'peol', 'peopl', 'peoplez', 'pep', 'peperoni', 'pepper', 'peppermint', 'pepperoni', 'peppi', 'pepsi', 'pepto', 'per', 'percept', 'percypig', 'perez', 'perezhilton', 'perfect', 'perfectli', 'perfecto', 'perfick', 'perfom', 'perform', 'performin', 'perfum', 'perhap', 'pericard', 'peril', 'period', 'perish', 'perk', 'perkin', 'perma', 'perman', 'permeat', 'permiss', 'permit', 'pero', 'peroxid', 'perpetu', 'perri', 'persef', 'persever', 'person', 'persona', 'perspect', 'persuad', 'persuas', 'perth', 'perti', 'peru', 'perv', 'pervert', 'pervi', 'peski', 'pest', 'pet', 'peta', 'petco', 'pete', 'peter', 'peterborough', 'petewentz', 'petewentzday', 'petey', 'petit', 'petria', 'petrol', 'petti', 'petticoat', 'peyo', 'pf', 'pfff', 'pffffiouuu', 'pfft', 'pft', 'pg', 'pgn', 'ph', 'pharmaceut', 'pharmaci', 'pharmacist', 'pharobcool', 'phase', 'phd', 'pheef', 'phenomen', 'phew', 'phil', 'philadelphia', 'philippin', 'philli', 'phillip', 'phillyyyy', 'philosoph', 'philosophi', 'philthi', 'phive', 'phlebotomi', 'phlegm', 'pho', 'phoboy', 'phoen', 'phoenix', 'phone', 'phonecal', 'phoneee', 'phoneless', 'phonet', 'phoni', 'phor', 'phosi', 'photo', 'photobucket', 'photocopi', 'photog', 'photograph', 'photographi', 'photographico', 'photopass', 'photoshoot', 'photoshop', 'photovia', 'phplist', 'phpne', 'phrase', 'phtwitter', 'physic', 'physio', 'physiolog', 'physiotherapi', 'pi', 'piano', 'piatu', 'pic', 'picadillo', 'picci', 'pick', 'picki', 'pickl', 'picknic', 'picnic', 'pict', 'pictur', 'picyur', 'pidgin', 'pie', 'piec', 'piecessss', 'pierc', 'pig', 'pigeon', 'pilat', 'pile', 'pill', 'pillar', 'pillow', 'pillowman', 'pilot', 'pim', 'pimp', 'pin', 'pina', 'pinata', 'pinbal', 'pine', 'pineappl', 'pinewood', 'ping', 'pingpong', 'pingsan', 'pink', 'pinki', 'pinnnk', 'pinot', 'pinotag', 'pinoy', 'pinsan', 'pint', 'pinup', 'pioneer', 'piont', 'pipe', 'pipl', 'pippad', 'pirat', 'piratebay', 'piru', 'piss', 'pisstak', 'pit', 'pita', 'pitbul', 'pitch', 'piti', 'pitt', 'pitter', 'pitti', 'pittsburgh', 'pix', 'pixel', 'pixi', 'pizooki', 'pizza', 'pj', 'pjaano', 'pkh', 'pkollar', 'pl', 'placat', 'place', 'placebo', 'placement', 'placer', 'plaes', 'plagu', 'plain', 'plan', 'plane', 'planet', 'plant', 'plaster', 'plastic', 'plate', 'platform', 'play', 'playabl', 'playboy', 'playd', 'playdat', 'player', 'playground', 'playign', 'playin', 'playiong', 'playlist', 'playmat', 'playn', 'playoff', 'playset', 'playtim', 'plaza', 'plea', 'pleaaaas', 'pleaas', 'pleae', 'pleas', 'pleasant', 'please', 'pleasee', 'pleaseee', 'pleaseeeee', 'pleasepleasepleas', 'pleasur', 'pleasurep', 'plecat', 'pleeaaasse', 'pleeeas', 'pleeeeeeeeeeeeas', 'plenti', 'plictiseala', 'plod', 'plot', 'plotlin', 'plp', 'plssss', 'plsssssss', 'plu', 'plug', 'plugin', 'plumber', 'plumpqt', 'plurk', 'plush', 'plz', 'pm', 'pmsing', 'po', 'poat', 'pobresita', 'pocket', 'pockettwit', 'pocketwit', 'poco', 'pod', 'podcast', 'podiobook', 'poem', 'poetri', 'pog', 'poh', 'point', 'pointless', 'poison', 'poke', 'pokemon', 'poken', 'poker', 'pokerstar', 'pokii', 'pokoknya', 'poland', 'polaroid', 'pole', 'poleng', 'poli', 'polic', 'polici', 'polisci', 'polish', 'polit', 'poll', 'polluck', 'pollut', 'polo', 'poltergeist', 'polygami', 'pomegran', 'pomeranian', 'pond', 'ponder', 'ponderland', 'ponferrada', 'pong', 'poni', 'pontiac', 'pontif', 'pontoon', 'poo', 'pooh', 'pooki', 'pool', 'poolsid', 'poon', 'pooo', 'poop', 'poopi', 'poor', 'poorli', 'pop', 'popcorn', 'popey', 'popin', 'poplar', 'poppet', 'poppi', 'poppin', 'poppop', 'popstar', 'poptart', 'popular', 'popup', 'por', 'porch', 'porject', 'pork', 'porn', 'porno', 'porridg', 'porsch', 'porsgrunn', 'porshala', 'port', 'portent', 'portfolio', 'portion', 'portland', 'portrait', 'portsmouth', 'portug', 'portugues', 'pose', 'poser', 'posit', 'poss', 'possebl', 'possibl', 'possiblil', 'post', 'poster', 'posti', 'postieee', 'postiiv', 'postman', 'postpon', 'pot', 'potah', 'potato', 'potenti', 'potluck', 'potro', 'potter', 'potu', 'poulenc', 'poulin', 'pounc', 'pound', 'pour', 'pourin', 'pout', 'pouti', 'poutin', 'pow', 'power', 'powerpoint', 'powerstrip', 'powertwitt', 'poynterpi', 'pp', 'pper', 'ppl', 'ppv', 'ppz', 'pr', 'pra', 'practic', 'practis', 'prada', 'prag', 'pragu', 'prairesky', 'prairi', 'prais', 'pratic', 'prawn', 'pray', 'prayer', 'prayin', 'prayn', 'pre', 'prea', 'preach', 'preacher', 'precaut', 'preciou', 'predict', 'preeti', 'pref', 'prefer', 'pregger', 'pregnanc', 'pregnant', 'prego', 'prehrali', 'prejudic', 'preload', 'prematur', 'premier', 'premir', 'premium', 'preorder', 'prep', 'prepar', 'prepe', 'presal', 'preschool', 'prescript', 'presenc', 'present', 'preserv', 'preset', 'presid', 'president', 'press', 'pressi', 'pressur', 'pretend', 'pretti', 'prettiest', 'prettti', 'pretttti', 'prettyy', 'prevail', 'prevent', 'previ', 'preview', 'previou', 'pri', 'price', 'priceless', 'pricey', 'prick', 'pride', 'prilzezitosti', 'primari', 'prime', 'primer', 'primetim', 'primetimeschedul', 'primev', 'princ', 'princenuada', 'princess', 'princesslara', 'princeton', 'pringl', 'prinsessegad', 'print', 'printchick', 'printer', 'printmak', 'prior', 'prioriti', 'priscilla', 'prise', 'prison', 'pristin', 'prita', 'pritchard', 'priu', 'privaci', 'privat', 'prix', 'prize', 'prjshaun', 'prk', 'pro', 'prob', 'probabali', 'probabl', 'probal', 'problem', 'problema', 'problogg', 'probz', 'process', 'procrastin', 'produc', 'product', 'profan', 'profession', 'professor', 'profil', 'profit', 'profnd', 'profound', 'prog', 'program', 'programm', 'progress', 'project', 'projector', 'projet', 'prolli', 'prollli', 'prom', 'promis', 'prommm', 'promo', 'promot', 'prompt', 'prone', 'pronto', 'prontooo', 'proof', 'prop', 'proper', 'properli', 'properti', 'prophet', 'propos', 'prospectu', 'prosper', 'protect', 'protein', 'protest', 'prototyp', 'prototypedemo', 'proud', 'prove', 'provenc', 'proverb', 'provid', 'provinci', 'provision', 'provocateur', 'proximti', 'prune', 'prydz', 'pryor', 'ps', 'pshhh', 'psp', 'pssh', 'psss', 'pssssht', 'psssssh', 'pssst', 'pst', 'pstr', 'psych', 'psychic', 'psychologist', 'pt', 'ptgui', 'ptimuspaul', 'ptit', 'ptoh', 'ptosi', 'pub', 'pubish', 'public', 'publici', 'publicli', 'publish', 'publishinq', 'puck', 'pud', 'puddl', 'puerto', 'puf', 'puff', 'pui', 'puke', 'pukeyyyyy', 'pull', 'pullin', 'pullman', 'pullup', 'pulp', 'puls', 'pump', 'pumpeas', 'pumpee', 'pumpkin', 'pumpsandgloss', 'pun', 'punah', 'punch', 'punctur', 'pune', 'punish', 'punk', 'punki', 'puntast', 'punto', 'pup', 'pupil', 'puppet', 'puppi', 'pur', 'purchas', 'purdi', 'pure', 'purg', 'purhap', 'puro', 'purpl', 'purpos', 'purr', 'purs', 'pursu', 'push', 'pushplaycj', 'puso', 'pussi', 'pussycatdol', 'put', 'putain', 'putin', 'puttin', 'puzzl', 'pvp', 'pwede', 'pwentz', 'pwned', 'pwnzz', 'pyo', 'pyramid', 'pyrexia', 'pyscho', 'q', 'qa', 'qay', 'qdo', 'qet', 'qionton', 'qt', 'qu', 'quack', 'qualifi', 'qualiti', 'quantum', 'quarantin', 'quart', 'quarter', 'quartet', 'quater', 'que', 'queasi', 'quebec', 'quedadilla', 'queen', 'queensland', 'queezi', 'quell', 'quem', 'quench', 'quentin', 'queri', 'queria', 'quero', 'quesidilla', 'quest', 'question', 'quick', 'quicker', 'quickest', 'quickli', 'quicksilv', 'quid', 'quiet', 'quigley', 'quilt', 'quinc', 'quinci', 'quirk', 'quirki', 'quit', 'quiz', 'quizz', 'quo', 'quot', 'quy', 'qvc', 'qwen', 'r', 'ra', 'rabbi', 'rabbit', 'rabit', 'race', 'racetrack', 'rach', 'rachel', 'rachelannim', 'rachelbancroft', 'rachelulgado', 'racist', 'rack', 'racquetbal', 'rad', 'radarweb', 'radici', 'radio', 'radioact', 'radiou', 'radish', 'raeredey', 'rafael', 'raffl', 'raft', 'rafter', 'rage', 'ragstock', 'raha', 'rai', 'raid', 'raider', 'raiishhxclus', 'raijal', 'railroad', 'rain', 'rainbow', 'raincheck', 'raincloud', 'rainforest', 'raini', 'rainier', 'rainin', 'rainn', 'rais', 'raisin', 'raison', 'raj', 'raleigh', 'ralis', 'ram', 'rambl', 'ramcosca', 'ramen', 'ramon', 'ramona', 'ramp', 'rampantheart', 'ramsey', 'ran', 'ranch', 'rancid', 'randi', 'random', 'randomli', 'randompubwednesday', 'rang', 'ranger', 'rank', 'rant', 'rap', 'rape', 'rapidli', 'rapidshar', 'rapiffer', 'rapper', 'rapunzel', 'raqualak', 'rare', 'rarebre', 'rarther', 'rasa', 'rash', 'rashid', 'raspi', 'rat', 'ratbag', 'rate', 'rather', 'ratz', 'rave', 'ravelri', 'raw', 'rawkssss', 'rawr', 'rawrr', 'ray', 'raybird', 'raymer', 'raymondnoel', 'rayray', 'raza', 'razorscal', 'rb', 'rbffl', 'rc', 'rd', 'rdc', 'reach', 'react', 'reaction', 'read', 'reader', 'readi', 'readin', 'readyy', 'reaffal', 'reagan', 'reak', 'real', 'realdjfunkeede', 'reali', 'realis', 'realist', 'realiti', 'realiz', 'realizin', 'realkeanureev', 'reall', 'realli', 'reallli', 'realllli', 'reallllli', 'reallllllli', 'reallyyi', 'realm', 'realtalk', 'realtor', 'realz', 'reaper', 'rear', 'reason', 'reassembl', 'reassur', 'rebecca', 'rebeld', 'reblond', 'reborn', 'rec', 'recal', 'recap', 'receiv', 'recent', 'recenti', 'recepi', 'recept', 'recess', 'recharg', 'reciev', 'recif', 'recip', 'recit', 'reckon', 'reclaim', 'reclin', 'reco', 'recogn', 'recognis', 'recognit', 'recomend', 'recommend', 'recompens', 'reconnect', 'reconnis', 'record', 'recov', 'recoveri', 'recruit', 'rectangl', 'recycl', 'recycleri', 'recyl', 'red', 'redbubbl', 'redbul', 'reddish', 'redeem', 'redesign', 'redhead', 'redic', 'redicul', 'redirect', 'redneck', 'reduc', 'reduct', 'reeaallllyy', 'reec', 'reeeealli', 'reeeeealli', 'reeeeeli', 'reel', 'reeli', 'rees', 'refactor', 'refer', 'referr', 'reflect', 'reformat', 'refrain', 'refresh', 'refreshingli', 'refridger', 'refrigir', 'refund', 'refurbish', 'refus', 'reg', 'regard', 'regardless', 'regent', 'regex', 'reggieblack', 'regi', 'region', 'regist', 'registr', 'regress', 'regret', 'regular', 'regularli', 'rehab', 'rehears', 'rehearsel', 'rehers', 'reiner', 'reinhard', 'reinstal', 'reject', 'rejoic', 'reklamo', 'rel', 'relat', 'relationship', 'relax', 'relaxin', 'relay', 'releas', 'releg', 'relev', 'reli', 'reliabl', 'relianc', 'relic', 'relief', 'relient', 'reliev', 'religion', 'religul', 'reliz', 'rell', 'relli', 'reluct', 'rem', 'remain', 'remaind', 'remak', 'remb', 'remeb', 'rememb', 'rememberin', 'rememeb', 'remind', 'reminisc', 'remix', 'remot', 'remov', 'remu', 'remzolog', 'renam', 'renc', 'render', 'rendit', 'rene', 'renesme', 'renew', 'renois', 'renov', 'rent', 'rental', 'rep', 'repaint', 'repair', 'repeal', 'repeat', 'reped', 'repel', 'replac', 'replacement', 'replay', 'repli', 'replyy', 'replyz', 'repo', 'report', 'repost', 'repres', 'repris', 'reput', 'request', 'requir', 'reread', 'resch', 'reschedul', 'resco', 'rescu', 'research', 'resembl', 'resent', 'reserv', 'reset', 'resh', 'resid', 'resign', 'resist', 'resit', 'resiz', 'resolv', 'reson', 'resort', 'respect', 'respond', 'respons', 'rest', 'restart', 'restaur', 'restful', 'restor', 'resuena', 'result', 'resum', 'reszzpati', 'retail', 'retard', 'retart', 'retir', 'retouch', 'retr', 'retract', 'retreat', 'retriev', 'retro', 'retroski', 'return', 'retweet', 'reun', 'reunion', 'reunit', 'reurbish', 'revanch', 'reveilletwit', 'reveng', 'rever', 'review', 'revis', 'reviseee', 'revisit', 'reviv', 'revoir', 'revolut', 'reward', 'rewatch', 'rewrit', 'reykjavik', 'reynold', 'reznor', 'rfc', 'rg', 'rght', 'rh', 'rheannan', 'rhetor', 'rhettmat', 'rhino', 'rhon', 'rhubarb', 'rhum', 'rhyme', 'ri', 'rial', 'rib', 'ribbet', 'ribbon', 'rice', 'rich', 'richard', 'richbello', 'richer', 'richi', 'richmond', 'rick', 'rickbak', 'rickenback', 'ricki', 'rickk', 'rico', 'rid', 'ridden', 'riddl', 'ride', 'rider', 'ridicoulu', 'ridicul', 'ridin', 'ridul', 'riff', 'rifl', 'rig', 'righ', 'right', 'righti', 'rightsiz', 'righttt', 'rihanna', 'rike', 'rin', 'ring', 'rington', 'rink', 'rio', 'riot', 'rip', 'ripley', 'ripper', 'risa', 'rise', 'risin', 'risk', 'riski', 'risp', 'rita', 'rite', 'rival', 'river', 'riversid', 'rja', 'rk', 'rl', 'rlf', 'rli', 'rn', 'rnbe', 'rnr', 'roach', 'road', 'roadburn', 'roadhous', 'roadtrip', 'roar', 'roast', 'roaster', 'rob', 'robberi', 'robday', 'robert', 'roberta', 'robertjmil', 'robertoaurelioruela', 'robin', 'robinson', 'robo', 'robocallaghan', 'robotpickuplin', 'robpattinson', 'robthil', 'robyn', 'rocco', 'roch', 'rochmaninoff', 'rock', 'rockabilli', 'rockband', 'rocker', 'rocket', 'rocketship', 'rocki', 'rockin', 'rockingtherobin', 'rockkin', 'rockstar', 'rockstarrealestatecoach', 'rodanth', 'rodchu', 'roddi', 'roddick', 'rode', 'rodeo', 'rodger', 'rofl', 'roflmao', 'roger', 'roku', 'roland', 'role', 'rolfaroo', 'roli', 'roll', 'roller', 'rollov', 'roman', 'romanc', 'romania', 'romant', 'rome', 'ron', 'ronaldo', 'roni', 'ronni', 'roo', 'roobi', 'roof', 'rooki', 'room', 'roomat', 'roomi', 'roommat', 'rooster', 'root', 'rootless', 'ropey', 'ror', 'rosa', 'rosaliestar', 'rose', 'rosemaryhelen', 'rosi', 'rosiecak', 'rosieoutlook', 'ross', 'rossdal', 'rossini', 'rosssteven', 'rot', 'rotat', 'rotf', 'rotfl', 'rothburi', 'rotten', 'rough', 'roughli', 'roulett', 'round', 'rounder', 'rout', 'router', 'routin', 'roux', 'rove', 'row', 'rox', 'roxybalboa', 'roy', 'royal', 'royalti', 'roymckenzi', 'rpat', 'rpattz', 'rperdio', 'rpg', 'rr', 'rrod', 'rrplyyi', 'rrrrr', 'rrrrrrr', 'rs', 'rss', 'rsvp', 'rt', 'rub', 'rubaiyat', 'rubber', 'rubbish', 'rubi', 'rubik', 'rubric', 'rudd', 'rude', 'ruder', 'rudi', 'rufu', 'rug', 'rugbi', 'rugrat', 'ruin', 'ruinin', 'rule', 'rulz', 'rum', 'rumah', 'rumbl', 'rummi', 'run', 'rune', 'runforhuman', 'runner', 'runni', 'runway', 'rupertg', 'ruse', 'rush', 'rushmor', 'russel', 'russia', 'russian', 'rustyrocket', 'rut', 'ruth', 'rutherford', 'ruuubbish', 'ruxpin', 'rv', 'rwe', 'rxradio', 'ryan', 'rye', 'ryme', 'ryt', 'sa', 'saaaaaaaad', 'saaaaaaad', 'saaaaad', 'sabat', 'sabbath', 'saber', 'sabi', 'sabihin', 'sac', 'sachin', 'sack', 'sacr', 'sacramento', 'sacrific', 'sad', 'sadden', 'saddest', 'sade', 'sadfac', 'sadi', 'sadli', 'safari', 'safe', 'safeti', 'safeword', 'saffron', 'sahal', 'saharabloom', 'sahtea', 'sai', 'said', 'sail', 'sailin', 'sainsburi', 'saint', 'saintarnold', 'saintsburi', 'sair', 'sake', 'sakit', 'salad', 'salamanca', 'salari', 'sale', 'sali', 'salin', 'sall', 'salli', 'salon', 'salsalici', 'salt', 'salti', 'saltin', 'salut', 'salvador', 'salvag', 'salvat', 'sam', 'samantha', 'samantharonson', 'samburg', 'same', 'samjam', 'sammi', 'sammyandchellishow', 'sampl', 'sampson', 'samra', 'samuel', 'san', 'sana', 'sanatatzii', 'sanbay', 'sanctuari', 'sand', 'sandakan', 'sandal', 'sanday', 'sandbox', 'sandi', 'sandra', 'sandrinecharl', 'sandstorm', 'sandwhich', 'sandwich', 'sang', 'sangat', 'sangr', 'sangria', 'saniti', 'sanmig', 'santa', 'santacruzan', 'santana', 'santi', 'santiago', 'santorini', 'sanz', 'sao', 'sapphyno', 'sara', 'saragarth', 'sarah', 'sarahpaulson', 'sarahsymmond', 'saraiva', 'sarbatoresc', 'sarcasm', 'sarcast', 'sari', 'sarmi', 'sasha', 'sashimi', 'sassafrass', 'sat', 'satan', 'satanist', 'satellit', 'satin', 'satir', 'satisfi', 'satnit', 'satu', 'saturday', 'saturdink', 'satyagrapha', 'sauc', 'saudad', 'saudi', 'saui', 'saunder', 'sausag', 'sav', 'savannah', 'save', 'savedbythebel', 'saver', 'savion', 'saw', 'sawa', 'sax', 'saxaphon', 'say', 'sayang', 'sayin', 'saynin', 'sb', 'sbk', 'sbntr', 'sbq', 'sbuck', 'sc', 'scalari', 'scale', 'scandal', 'scanner', 'scar', 'scare', 'scared', 'scarf', 'scarfff', 'scari', 'scarlett', 'scenario', 'scene', 'sceneri', 'scent', 'sched', 'schedul', 'scheme', 'scherzing', 'scheubl', 'scholarship', 'school', 'schoolbreak', 'schooler', 'schooll', 'schoolll', 'schoooool', 'schwab', 'schwan', 'schweepi', 'schweiger', 'sci', 'scienc', 'scientif', 'scientist', 'scifi', 'scim', 'scissor', 'scoll', 'scone', 'scoob', 'scoobi', 'scoop', 'scoot', 'scooter', 'scope', 'scorcher', 'score', 'scoresheet', 'scotch', 'scotland', 'scott', 'scotti', 'scottish', 'scottjpag', 'scottsdal', 'scottydog', 'scour', 'scout', 'scrabbl', 'scrambl', 'scrap', 'scrape', 'scratch', 'scratchi', 'scream', 'screen', 'screencap', 'screennam', 'screenshot', 'screw', 'script', 'scriu', 'scroll', 'scrub', 'scrum', 'sculptur', 'sd', 'sdcc', 'sdk', 'sdl', 'se', 'sea', 'seabass', 'seach', 'seafood', 'seal', 'seamless', 'sean', 'seanslut', 'seaquest', 'sear', 'search', 'season', 'seat', 'seattl', 'seattlerepres', 'seawe', 'seb', 'sec', 'seclud', 'second', 'secondpow', 'secret', 'secretli', 'secretstori', 'section', 'secur', 'securecod', 'sed', 'seduct', 'see', 'seee', 'seek', 'seem', 'seen', 'seeqpod', 'seether', 'seeya', 'sefu', 'seh', 'sehari', 'selah', 'seldom', 'select', 'selena', 'self', 'selffail', 'selfish', 'selfpublish', 'selinda', 'sell', 'sem', 'semest', 'semi', 'seminar', 'semo', 'sempet', 'senangnya', 'senat', 'sencha', 'send', 'seneg', 'sengkiat', 'senior', 'sens', 'sensat', 'sensibl', 'sensit', 'sensor', 'senstiv', 'sent', 'senta', 'sentenc', 'senti', 'sentiment', 'seo', 'sep', 'separ', 'sepiavers', 'sept', 'septemb', 'septiani', 'septic', 'serbia', 'serbian', 'seren', 'serena', 'sergeantkero', 'serger', 'seri', 'serio', 'seriou', 'serious', 'seriousbut', 'seriouslyyyy', 'seriu', 'seroulsi', 'serv', 'servepath', 'server', 'servic', 'sesh', 'session', 'set', 'setanta', 'seth', 'settl', 'settlin', 'setup', 'seust', 'seven', 'seventeen', 'seventeenth', 'sever', 'sevier', 'sew', 'sex', 'sexi', 'sexin', 'sexond', 'sexual', 'sexxxx', 'sexxyy', 'sexy', 'seymour', 'sf', 'sfmusictech', 'sfo', 'sfu', 'sg', 'shaddappp', 'shade', 'shadow', 'shaft', 'shag', 'shagabl', 'shagirl', 'shaheen', 'shaheenftw', 'shahpriya', 'shak', 'shake', 'shaken', 'shakespear', 'shall', 'shalll', 'shame', 'shameez', 'shameless', 'shamelessangel', 'shampoo', 'shana', 'shane', 'shang', 'shannon', 'shannonpaul', 'shape', 'shaq', 'shaquil', 'sharapova', 'shard', 'share', 'sharepoint', 'shark', 'sharpay', 'shashalov', 'shat', 'shatner', 'shatter', 'shatteringli', 'shaun', 'shauna', 'shaunyhoy', 'shave', 'shawn', 'shawti', 'shayshaym', 'shazzyfizzl', 'shd', 'she', 'shea', 'shebcool', 'shed', 'shedd', 'sheep', 'sheepi', 'sheesh', 'sheesha', 'sheet', 'sheffield', 'sheffileld', 'sheila', 'shelbourn', 'sheldon', 'shelf', 'shelfari', 'shell', 'shellyxxxx', 'shelter', 'shephard', 'shepherd', 'sheppard', 'sher', 'sheraton', 'sheri', 'sherlyyyy', 'sherwin', 'shey', 'shez', 'shf', 'shh', 'shhh', 'shhhhhhhhh', 'shi', 'shia', 'shibuya', 'shiet', 'shift', 'shifti', 'shiiiiiiiiiit', 'shiit', 'shimmi', 'shin', 'shine', 'shiney', 'shini', 'ship', 'shipment', 'shipwreck', 'shiraz', 'shirt', 'shit', 'shitbox', 'shite', 'shiteeeeeeee', 'shitload', 'shitt', 'shitti', 'shiz', 'shiznit', 'shizzl', 'shld', 'sho', 'shobe', 'shock', 'shockomedian', 'shockwav', 'shoe', 'shojo', 'sholder', 'shonda', 'shoooooow', 'shooot', 'shoot', 'shootingstarpr', 'shop', 'shopper', 'shoppin', 'shoptoearn', 'shore', 'shorelinee', 'shorer', 'short', 'shorten', 'shorter', 'shortli', 'shortstackband', 'shosh', 'shot', 'shoukld', 'shoulda', 'shoulder', 'shouldnt', 'shouldv', 'shout', 'shoutout', 'shoval', 'shove', 'shovel', 'show', 'showbiz', 'showcas', 'shower', 'showerr', 'showerrr', 'showertim', 'shown', 'shozu', 'shredon', 'shrimp', 'shriner', 'shrinkrapdinah', 'shrug', 'shu', 'shuam', 'shuck', 'shud', 'shuld', 'shunji', 'shure', 'shush', 'shut', 'shutter', 'shuttl', 'shwayz', 'shyli', 'shyt', 'shyyaat', 'si', 'sia', 'sib', 'sibl', 'sibrescu', 'sichel', 'sick', 'sicki', 'sickl', 'sicknastyyi', 'sicksicksick', 'sicuro', 'side', 'sidekick', 'sideri', 'sidewalk', 'sidharthdassani', 'sidi', 'siebi', 'sienna', 'sierra', 'sig', 'sigh', 'sighhh', 'sight', 'sign', 'signal', 'signup', 'sii', 'siick', 'siiiiik', 'sike', 'sikh', 'sil', 'sila', 'silenc', 'silent', 'silithu', 'silk', 'silli', 'silliest', 'sillygoos', 'silver', 'silverlight', 'silverston', 'sim', 'simfriend', 'similar', 'simm', 'simmer', 'simon', 'simonrunsle', 'simonsay', 'simpl', 'simpli', 'simplic', 'simpson', 'simul', 'sin', 'sina', 'sinc', 'sincer', 'sinetron', 'sing', 'singapor', 'singaw', 'singer', 'singin', 'singl', 'singlemind', 'singurul', 'sinigang', 'sinist', 'sink', 'sins', 'sinu', 'sio', 'siobhan', 'siopao', 'sip', 'sippin', 'sipsip', 'siqn', 'sir', 'sirgrant', 'siri', 'siriu', 'sirk', 'sirsohigh', 'siss', 'sissi', 'sista', 'sister', 'sisterr', 'sisx', 'sit', 'sitavermeulen', 'site', 'sith', 'sitin', 'sitter', 'sittin', 'situat', 'six', 'sixteen', 'sixth', 'siya', 'size', 'sizee', 'sizemor', 'sizzl', 'sjb', 'sk', 'ska', 'skate', 'skateboard', 'skater', 'skatergirl', 'skateshop', 'skeet', 'skeeter', 'skeptic', 'sketch', 'sketchi', 'sketti', 'skewl', 'ski', 'skidoo', 'skill', 'skillz', 'skilm', 'skim', 'skimp', 'skin', 'skinner', 'skinni', 'skint', 'skip', 'skiplist', 'skirt', 'skittl', 'skivvin', 'skool', 'skoool', 'skul', 'skull', 'skullcandi', 'skwll', 'sky', 'skye', 'skyhom', 'skylight', 'skylin', 'skype', 'slab', 'slacker', 'slackin', 'slaggi', 'slam', 'slammin', 'slap', 'slash', 'slasher', 'slater', 'slave', 'slaveri', 'slay', 'slc', 'sleeeeeeeeeeeeeeep', 'sleeeeeeeepi', 'sleeeeeeep', 'sleeeeeep', 'sleeeeep', 'sleeeeepppp', 'sleeeep', 'sleeep', 'sleeman', 'sleep', 'sleeper', 'sleepi', 'sleepin', 'sleepless', 'sleepov', 'sleept', 'sleepyby', 'sleev', 'sleppi', 'slept', 'sli', 'slice', 'slid', 'slide', 'slider', 'slideshow', 'slight', 'slightest', 'slighti', 'slightli', 'slip', 'slipknot', 'sliver', 'slk', 'slob', 'slog', 'slooow', 'sloppi', 'slot', 'slow', 'slower', 'slowli', 'slp', 'slumber', 'slumdog', 'slump', 'slut', 'sm', 'smaaack', 'smack', 'small', 'smaller', 'smallest', 'smart', 'smarter', 'smartest', 'smash', 'smc', 'smdh', 'smell', 'smelten', 'smeon', 'smetim', 'smh', 'smile', 'smiley', 'smilin', 'smirnoff', 'smith', 'smithfield', 'smitten', 'smodcast', 'smoke', 'smoker', 'smokinnn', 'smooch', 'smooooooth', 'smooth', 'smoothi', 'smore', 'smradu', 'smth', 'smuggl', 'smurf', 'smushi', 'smutsmutsmut', 'smyth', 'sn', 'snack', 'snake', 'snap', 'snappl', 'snd', 'sneak', 'sneaki', 'sneez', 'snif', 'sniff', 'sniffl', 'snifsnif', 'snipr', 'snl', 'snn', 'snog', 'snood', 'snoop', 'snooti', 'snooz', 'snore', 'snort', 'snow', 'snowboard', 'snowcon', 'snowi', 'snp', 'snuck', 'snug', 'snugbabi', 'snuggl', 'so', 'soak', 'soap', 'soapbox', 'sob', 'sobar', 'sobb', 'sobcon', 'sober', 'sobsobsob', 'soc', 'socal', 'socca', 'soccer', 'social', 'societi', 'sociolog', 'sock', 'socm', 'socnet', 'sod', 'sofa', 'soffe', 'sofitel', 'soflotc', 'soft', 'softbal', 'softi', 'softwar', 'soggi', 'soil', 'soir', 'sol', 'solac', 'sold', 'soldier', 'sole', 'soleil', 'solicitor', 'solid', 'solihul', 'solo', 'solut', 'solv', 'somanshu', 'somebodi', 'someday', 'somegit', 'somehow', 'someht', 'somehwer', 'someoen', 'someon', 'someth', 'somethin', 'sometim', 'somewair', 'somewhat', 'somewher', 'somon', 'somth', 'somtim', 'son', 'sonar', 'song', 'songg', 'songz', 'songzyuuup', 'soni', 'sonic', 'sonicthrust', 'sonispher', 'sonni', 'sonnnnn', 'soo', 'soon', 'sooner', 'soonn', 'sooo', 'sooon', 'soooo', 'sooooo', 'soooooo', 'sooooooo', 'soooooooo', 'sooooooooo', 'sooooooooon', 'soooooooooooo', 'sooooooooooooo', 'sooooooooooooooooooo', 'sooth', 'sophi', 'sophia', 'sophie', 'sophist', 'soprano', 'sorcha', 'sorchamorrigan', 'sore', 'sori', 'sorri', 'sorrrri', 'sorrrrrri', 'sorrylov', 'sorryyyyi', 'sort', 'sorta', 'sortof', 'sosa', 'sot', 'soul', 'soulchild', 'souli', 'souljaboytellem', 'souljboytellem', 'sound', 'soundcard', 'sounder', 'soundli', 'soundtrack', 'soup', 'souperol', 'sour', 'sourc', 'sourdough', 'souri', 'south', 'southampton', 'southeast', 'southern', 'southpark', 'southshir', 'southwestair', 'souveneir', 'sovereign', 'sow', 'sowi', 'sowwi', 'sox', 'soy', 'soz', 'sp', 'spa', 'space', 'spacebar', 'spacey', 'spacingh', 'spaghetti', 'spain', 'spam', 'spamer', 'spammag', 'spammer', 'span', 'spanish', 'spank', 'spar', 'spare', 'spark', 'sparki', 'sparkl', 'spass', 'spat', 'spay', 'spaz', 'spaztast', 'spazz', 'spazzin', 'spca', 'speak', 'speaker', 'speakerless', 'speand', 'spear', 'spec', 'specerpratt', 'special', 'specialist', 'specialti', 'specif', 'specimen', 'spectacular', 'spectat', 'specul', 'sped', 'speech', 'speechless', 'speed', 'speeddat', 'speedi', 'spell', 'spellcheck', 'spellweav', 'spelt', 'spend', 'spendind', 'spent', 'sper', 'sperm', 'sperri', 'spew', 'spf', 'sphinx', 'spi', 'spice', 'spici', 'spider', 'spiderman', 'spidey', 'spielmann', 'spike', 'spill', 'spin', 'spinningdisc', 'spinningerin', 'spiral', 'spirit', 'spiritu', 'spit', 'spite', 'spl', 'splat', 'spleen', 'splendid', 'splint', 'split', 'splite', 'splutter', 'spn', 'spock', 'spoil', 'spoiler', 'spoilt', 'spoke', 'spoken', 'spokeswoman', 'spokin', 'spongebob', 'sponsor', 'spontani', 'spoodl', 'spooki', 'spoon', 'spore', 'sporean', 'spork', 'sport', 'sportsmanship', 'sportsync', 'spot', 'spotifi', 'spotiy', 'spotless', 'spotlight', 'spotti', 'spous', 'spp', 'sprain', 'sprang', 'spray', 'spread', 'spring', 'springfield', 'springgggg', 'springtim', 'sprinkl', 'sprinkler', 'sprinkley', 'sprint', 'sprite', 'sprizzl', 'sprout', 'spymast', 'sq', 'squad', 'squar', 'squarespac', 'squeal', 'squee', 'squirrel', 'squish', 'sr', 'sree', 'sri', 'srri', 'srsli', 'ss', 'ssd', 'ssshhhhhh', 'ssso', 'st', 'staay', 'stab', 'stabl', 'staci', 'stack', 'stackkk', 'stadium', 'staff', 'stafford', 'stage', 'stagecoach', 'stain', 'stair', 'staircas', 'stairmast', 'stakc', 'stalk', 'stalker', 'stall', 'stamp', 'stand', 'standard', 'stani', 'stanislau', 'stanleycup', 'star', 'starb', 'starbuck', 'starbuckss', 'stardasuperstar', 'stare', 'stargirl', 'starland', 'starlight', 'starship', 'start', 'starter', 'startrek', 'startup', 'starv', 'starwar', 'stash', 'stat', 'state', 'statement', 'statesid', 'station', 'statist', 'statu', 'stavro', 'stay', 'stayin', 'stc', 'steadi', 'steak', 'steakhous', 'steal', 'steam', 'steamer', 'steami', 'steel', 'stef', 'stefani', 'step', 'steph', 'stephani', 'stephcolt', 'stephen', 'stephenbaldwin', 'stepheni', 'stephh', 'stephhh', 'stepper', 'stepson', 'stere', 'stereo', 'steroid', 'steve', 'steven', 'stevi', 'stew', 'stewart', 'stfu', 'sti', 'stick', 'stickam', 'sticker', 'stickham', 'sticki', 'stiffen', 'stiilll', 'stiit', 'stil', 'stiletto', 'still', 'stiller', 'stilleto', 'stillllllll', 'stillsaf', 'stimula', 'sting', 'stingi', 'stink', 'stinki', 'stinkin', 'stir', 'stitch', 'stll', 'stm', 'stoak', 'stock', 'stockpil', 'stocksbridg', 'stockton', 'stoi', 'stoke', 'stole', 'stolen', 'stomach', 'stomachac', 'stomachach', 'stomp', 'stone', 'stonebriar', 'stoneheng', 'stood', 'stoop', 'stoopid', 'stop', 'stopin', 'stoppin', 'storag', 'store', 'storefront', 'stori', 'storm', 'stormi', 'storylin', 'stouffer', 'stout', 'stove', 'straight', 'straighten', 'strain', 'strait', 'strang', 'stranger', 'strangest', 'strangl', 'strappi', 'strat', 'straub', 'straw', 'strawberri', 'stray', 'streak', 'stream', 'street', 'strength', 'strep', 'stress', 'stressiest', 'stretham', 'strike', 'strikeg', 'string', 'strip', 'stripe', 'stripey', 'stripper', 'stroke', 'stroll', 'strong', 'strtd', 'struck', 'structur', 'struggl', 'stubborn', 'stuck', 'studddyyi', 'stude', 'student', 'studi', 'studiaza', 'studio', 'studiou', 'studybut', 'studyin', 'stuf', 'stuff', 'stuffedtoy', 'stuffi', 'stum', 'stumbl', 'stump', 'stun', 'stunden', 'stung', 'stunnah', 'stunnerbum', 'stupid', 'stupiddd', 'stye', 'style', 'stylesheet', 'stylzbyasha', 'sub', 'subber', 'subconsci', 'subject', 'submiss', 'submit', 'subscrib', 'subscript', 'subsid', 'substanc', 'subtitl', 'subutch', 'subvers', 'subway', 'succeed', 'success', 'successs', 'succubu', 'succumb', 'sucess', 'sucessful', 'suck', 'sucka', 'suckaa', 'suckah', 'suckday', 'sucker', 'sucki', 'sudden', 'suddenli', 'sudif', 'sudmuffin', 'sudo', 'sudoku', 'sue', 'sued', 'suer', 'suffer', 'sugar', 'suggest', 'sugiyama', 'suicid', 'suit', 'suitabl', 'suitcas', 'suju', 'suk', 'sulfit', 'sulin', 'sulk', 'sum', 'summari', 'summer', 'summercamp', 'summerrrr', 'summertim', 'summet', 'summon', 'sumter', 'sumth', 'sumthin', 'sumtim', 'sumtink', 'sun', 'sunbath', 'sunbeamlaserbeam', 'sunblock', 'sunburn', 'sunburnt', 'suncatch', 'sundaaay', 'sunday', 'sundress', 'sundri', 'sung', 'sunggl', 'sungguh', 'sunglass', 'sunken', 'sunni', 'sunnni', 'sunris', 'sunroof', 'sunscreen', 'sunset', 'sunshin', 'sunshineeeee', 'sunshinemeile', 'sunstrok', 'sunt', 'suntuk', 'sunway', 'sup', 'super', 'superb', 'superbad', 'supercar', 'superduperhug', 'superfici', 'superglu', 'supergreen', 'superman', 'supernatur', 'superrebek', 'superstar', 'supertim', 'supervis', 'supper', 'supplement', 'suppli', 'supplier', 'support', 'suppos', 'supposedli', 'supris', 'sur', 'sure', 'surf', 'surfac', 'surfer', 'surg', 'surgah', 'surgeri', 'surgic', 'suri', 'surnam', 'surpris', 'surprisingli', 'surrend', 'surround', 'surviv', 'survivor', 'susa', 'susan', 'susanna', 'sushi', 'suspect', 'suspend', 'sustain', 'suuuccckkkss', 'suuur', 'suuuuck', 'suuuuuuuuck', 'suwrimo', 'sux', 'suzi', 'sv', 'sva', 'svenja', 'svimmel', 'svn', 'svu', 'sw', 'swag', 'swamp', 'swan', 'swap', 'swarm', 'swat', 'sway', 'swear', 'sweat', 'sweater', 'sweati', 'swede', 'sweden', 'swedish', 'sweeeet', 'sweeet', 'sweeetttttttttttttttt', 'sweep', 'sweet', 'sweetest', 'sweetheart', 'sweeti', 'sweetli', 'sweetpea', 'swell', 'swift', 'swiftkaratechop', 'swim', 'swimm', 'swimsuit', 'swine', 'swing', 'swish', 'switch', 'switchfoot', 'swollen', 'swopper', 'swore', 'sworn', 'swrew', 'swwuurrr', 'sya', 'sybil', 'sydney', 'sylvia', 'sylviabcool', 'symbol', 'symon', 'sympa', 'sympath', 'sympathi', 'sympathis', 'symptom', 'syn', 'sync', 'synecdoch', 'synis', 'syntax', 'syrenn', 'syrup', 'system', 'sytycd', 'ta', 'taadaa', 'tab', 'tabl', 'tackl', 'tackyanni', 'taco', 'tactic', 'tad', 'taday', 'tadi', 'tadinho', 'tag', 'tagaytay', 'taglin', 'tah', 'tahne', 'taho', 'taht', 'tahun', 'tai', 'tail', 'tailgat', 'tailight', 'taipei', 'tait', 'taiwan', 'take', 'takeaway', 'taken', 'taker', 'takin', 'takomun', 'takot', 'talaga', 'tale', 'talent', 'talikin', 'talk', 'talkin', 'talktech', 'tall', 'talla', 'talladega', 'taller', 'tallest', 'tallgirlj', 'talpal', 'tamaraschil', 'tame', 'tamiflu', 'tamizh', 'tammi', 'tampa', 'tampon', 'tamponz', 'tamsyn', 'tan', 'tang', 'tangerang', 'tango', 'tania', 'taniamelissaang', 'tank', 'tankoo', 'tant', 'tanto', 'tantrum', 'tap', 'tape', 'tapi', 'tapo', 'tar', 'taratino', 'target', 'taro', 'tarporley', 'taseti', 'tashafadi', 'tasharri', 'tashkent', 'task', 'tast', 'tastebud', 'tasti', 'tat', 'tatiana', 'tatti', 'tattoo', 'tax', 'tay', 'tayaab', 'tayler', 'taylor', 'taylorswift', 'taytay', 'tb', 'tbh', 'tbone', 'tbp', 'tc', 'tca', 'tcb', 'tch', 'tcot', 'td', 'tdobson', 'te', 'tea', 'teacak', 'teach', 'teacher', 'teachin', 'team', 'teamwork', 'teaparti', 'tear', 'teari', 'teas', 'teaser', 'tebrau', 'tecc', 'tech', 'techcrunch', 'techer', 'techi', 'techiebuzz', 'technic', 'techniqu', 'technog', 'technolog', 'teddi', 'tediou', 'tedmustard', 'tee', 'teebabi', 'teeeth', 'teehe', 'teeheehe', 'teen', 'teenag', 'teenchoiceaward', 'teeni', 'teeshirt', 'teeth', 'teh', 'tehran', 'tele', 'telegraph', 'telepath', 'telephon', 'teleport', 'telescop', 'televis', 'televison', 'tell', 'teller', 'telli', 'telstra', 'temm', 'temp', 'temperatur', 'templ', 'templat', 'temporari', 'tempt', 'ten', 'tenchu', 'tend', 'tender', 'tendont', 'tenebr', 'tenen', 'tenenen', 'tenho', 'tenn', 'tenner', 'tennesse', 'tenni', 'tenor', 'tension', 'tent', 'tenth', 'tenuou', 'tequila', 'teresa', 'term', 'termen', 'termin', 'terminolog', 'terri', 'terribbl', 'terribl', 'terrif', 'terrifi', 'territori', 'terror', 'terrorist', 'terrysimpson', 'tesco', 'tessa', 'test', 'tester', 'testt', 'tete', 'tether', 'tetri', 'tex', 'texa', 'texasn', 'text', 'texta', 'textbook', 'textur', 'textwrangl', 'texxt', 'tfcomp', 'tg', 'tgif', 'tgim', 'tgisb', 'tgn', 'tgv', 'th', 'tha', 'thaaaank', 'thaat', 'thackeray', 'thai', 'thaimaeup', 'thang', 'thank', 'thanki', 'thankss', 'thankszzzzz', 'thankyou', 'thankyounkotb', 'thankyouu', 'thankyouuuuu', 'thanx', 'thanxx', 'thar', 'that', 'thatd', 'thatgagirl', 'thatlass', 'thatll', 'thatnk', 'thaw', 'thea', 'theater', 'theatr', 'thecraigmorri', 'thediamondcoach', 'thee', 'theeeem', 'theellenshow', 'theft', 'thegreendeath', 'thehil', 'theke', 'thelp', 'theman', 'theme', 'theofficialarchuleta', 'theonion', 'theori', 'ther', 'therapi', 'therapist', 'therasa', 'there', 'therealtoriamo', 'thereeee', 'therefor', 'therel', 'theresa', 'therion', 'theris', 'thesi', 'thespian', 'thestoryladi', 'thesundaynyc', 'thesydneygirl', 'thetherm', 'thewinchestergr', 'theyd', 'theyfuckinlostandaredown', 'theyll', 'theyr', 'theyv', 'theze', 'thi', 'thick', 'thier', 'thike', 'thin', 'thing', 'thingi', 'think', 'thinkin', 'thinkk', 'thinkz', 'thinng', 'third', 'thirst', 'thirsti', 'thirteen', 'thirti', 'thirtieth', 'thiss', 'thisssssss', 'thje', 'thji', 'thk', 'thn', 'thnk', 'thnx', 'tho', 'thoma', 'thong', 'thoo', 'thoroughli', 'thorp', 'thou', 'though', 'thoughhh', 'thought', 'thousand', 'thout', 'thr', 'thread', 'threadless', 'threaten', 'threater', 'three', 'threw', 'thrice', 'thrill', 'throat', 'throb', 'throttlovat', 'throughout', 'throught', 'throw', 'throwdown', 'thrown', 'thru', 'thruout', 'tht', 'thu', 'thud', 'thug', 'thugh', 'thui', 'thumb', 'thump', 'thunder', 'thunderstorm', 'thunk', 'thur', 'thursdaiii', 'thursday', 'thusday', 'thx', 'ti', 'tia', 'tiabrown', 'tian', 'tiati', 'tibia', 'tick', 'ticket', 'tickl', 'tide', 'tidesandcloud', 'tidi', 'tie', 'tiedyechick', 'tien', 'tier', 'tierd', 'tiff', 'tiffani', 'tifflici', 'tiger', 'tight', 'tighten', 'tightest', 'tigung', 'tikka', 'tikki', 'til', 'tile', 'till', 'tiller', 'tilt', 'tim', 'timbaland', 'timberfak', 'time', 'timebeaid', 'timee', 'timeeeeeee', 'timelaps', 'timeless', 'timeout', 'timer', 'timessss', 'timezon', 'timmay', 'timmi', 'timog', 'timothi', 'timtam', 'tin', 'tina', 'tingli', 'tini', 'tink', 'tinker', 'tinkl', 'tinn', 'tint', 'tinto', 'tinybdd', 'tinyurl', 'tip', 'tipic', 'tipsi', 'tire', 'tired', 'tiren', 'tisdal', 'tissu', 'tit', 'tita', 'titan', 'titl', 'titlehold', 'tito', 'titp', 'titterfox', 'titusofalltim', 'tix', 'tizzi', 'tj', 'tjip', 'tk', 'tkank', 'tkng', 'tlc', 'tld', 'tlgame', 'tlking', 'tlunden', 'tm', 'tmobil', 'tmow', 'tmr', 'tmrw', 'tmw', 'tmz', 'tn', 'tnab', 'tng', 'tnite', 'toad', 'toadi', 'toadpink', 'toast', 'toaster', 'toasti', 'toata', 'tobacco', 'tobey', 'tobi', 'tocquevil', 'todaay', 'todai', 'today', 'todayi', 'todayyy', 'todayyyyyi', 'todd', 'toddler', 'toddstfu', 'todo', 'toe', 'toenail', 'tofu', 'togeth', 'togetha', 'toilet', 'token', 'tokio', 'tokyo', 'told', 'toliet', 'tolkien', 'toll', 'tom', 'tomato', 'tomb', 'tomfelton', 'tomm', 'tommarrow', 'tommcfli', 'tommi', 'tommm', 'tommo', 'tommorow', 'tommorrow', 'tommorrowww', 'tommow', 'tommrow', 'tomoato', 'tomofromearth', 'tomoree', 'tomoro', 'tomorow', 'tomorrow', 'tomoz', 'tomrorow', 'tomrw', 'ton', 'tone', 'tongu', 'toni', 'tonic', 'tonight', 'tonighttt', 'tonit', 'tonn', 'tonsil', 'tonssss', 'tonylovato', 'tooday', 'took', 'tool', 'toolmantim', 'tooni', 'tooo', 'toooo', 'tooooo', 'toooooo', 'tooooooodl', 'toooooooooo', 'toosey', 'tooth', 'toothach', 'toothpast', 'top', 'topher', 'topic', 'topman', 'topshop', 'torch', 'torchwood', 'tore', 'tori', 'torment', 'tornado', 'tornato', 'toronto', 'torr', 'torrent', 'torrenti', 'tortellini', 'tortur', 'tosh', 'toshiba', 'toss', 'tot', 'total', 'totali', 'totaljob', 'totobird', 'totti', 'touch', 'touchdown', 'tough', 'tougher', 'toung', 'tour', 'tourdat', 'tourett', 'tourist', 'tournament', 'tout', 'tov', 'tow', 'toward', 'towel', 'tower', 'towl', 'town', 'townsvil', 'toxic', 'toxin', 'toy', 'tpcd', 'tpo', 'tr', 'tra', 'trac', 'trace', 'tracegallagh', 'trachea', 'traci', 'track', 'trackback', 'trackbal', 'tracker', 'trackl', 'trade', 'traderjo', 'tradewind', 'tradit', 'trafalgar', 'traffic', 'traffick', 'traffickin', 'tragedi', 'tragic', 'trail', 'trailblaz', 'trailer', 'train', 'trainer', 'trainin', 'trainr', 'trainstat', 'trait', 'traitor', 'traje', 'trampolin', 'tran', 'transcript', 'transfer', 'transform', 'transient', 'transit', 'translat', 'transmiss', 'transplant', 'transport', 'trap', 'trash', 'trashmor', 'trastienda', 'traumatis', 'travel', 'travesti', 'trax', 'tread', 'treadmil', 'treasur', 'treasuri', 'treat', 'treatment', 'tredlin', 'tree', 'treehous', 'treetop', 'trek', 'trekish', 'trekki', 'trekkin', 'trema', 'trench', 'trend', 'trent', 'trevor', 'trey', 'tri', 'trial', 'triangl', 'tribbleag', 'tribut', 'trice', 'triciad', 'trick', 'tricki', 'tricoul', 'triishh', 'trillion', 'trilog', 'trim', 'trinakoa', 'trinidad', 'trip', 'tripl', 'triplet', 'tripod', 'trippen', 'tripper', 'trippin', 'trippl', 'tristan', 'trivia', 'trivial', 'troll', 'tropez', 'tropic', 'tropicana', 'trot', 'troubl', 'troubleshoot', 'troublesom', 'trouser', 'troy', 'tru', 'truant', 'truck', 'trucke', 'trudg', 'true', 'trueli', 'truesdal', 'truest', 'truli', 'truman', 'trump', 'trust', 'truth', 'trv', 'tryin', 'tryna', 'trynna', 'tryout', 'ts', 'tscc', 'tsss', 'tt', 'ttc', 'tti', 'ttyl', 'ttyt', 'tu', 'tuaw', 'tub', 'tube', 'tubtub', 'tucson', 'tudor', 'tue', 'tuesday', 'tuesdayplz', 'tuff', 'tuffer', 'tug', 'tuguegarao', 'tuition', 'tukste', 'tull', 'tulsa', 'tumblar', 'tumblr', 'tumblriti', 'tummi', 'tumor', 'tuna', 'tune', 'tuneag', 'tuner', 'tunstal', 'turk', 'turkey', 'turkish', 'turn', 'turner', 'turnip', 'turnout', 'turo', 'turq', 'tuscan', 'tuscani', 'tush', 'tut', 'tute', 'tutor', 'tutori', 'tutu', 'tv', 'tvchannel', 'tvone', 'tw', 'twa', 'twang', 'twat', 'tweak', 'tweep', 'tweepl', 'tweet', 'tweetback', 'tweetbot', 'tweetbump', 'tweetdeck', 'tweeter', 'tweeteradd', 'tweeterfollow', 'tweetersss', 'tweetgrid', 'tweetheart', 'tweeti', 'tweetini', 'tweetland', 'tweetokol', 'tweetomania', 'tweetovers', 'tweetsg', 'tweetshrink', 'tweetsum', 'tweetup', 'tweetypi', 'twenti', 'twhirl', 'twibal', 'twibe', 'twibrari', 'twice', 'twidroid', 'twighlight', 'twiitter', 'twilght', 'twilight', 'twilightt', 'twin', 'twiquariu', 'twirl', 'twist', 'twisuz', 'twit', 'twitbin', 'twitbot', 'twiteiro', 'twitfunp', 'twithug', 'twitonian', 'twitpic', 'twitpocalyps', 'twitt', 'twitter', 'twitterband', 'twitterberri', 'twitterbug', 'twitterbugz', 'twitterer', 'twitterfon', 'twitterhol', 'twitterif', 'twitterkarma', 'twitterland', 'twitterrif', 'twitterrrr', 'twitterspher', 'twitterstalk', 'twittertwot', 'twittervers', 'twittervil', 'twitterworld', 'twitteryy', 'twitterzzz', 'twitti', 'twittin', 'twitvers', 'twitweek', 'twitz', 'twix', 'twixle', 'two', 'twoop', 'twote', 'twwet', 'tx', 'txt', 'txting', 'txw', 'ty', 'tygerbabi', 'tyler', 'tylon', 'tym', 'type', 'typefac', 'typekit', 'typic', 'typo', 'typographi', 'typy', 'tyra', 'tyre', 'tyson', 'u', 'uam', 'ube', 'uber', 'ubertwitt', 'ubuntu', 'ubuntuuk', 'ucl', 'ucla', 'udah', 'udc', 'udel', 'udh', 'ufc', 'uff', 'ufo', 'ug', 'uganda', 'ugg', 'ugggg', 'ugggh', 'uggghh', 'uggghhhhh', 'uggh', 'ugghhh', 'ugh', 'ughh', 'ughhh', 'ughhhh', 'ughhhhh', 'ughhhhhhhhhh', 'ugli', 'uglyy', 'ugm', 'uh', 'uhh', 'uhhh', 'uhhhh', 'uhm', 'uhmm', 'uhmmm', 'uhoh', 'uht', 'ui', 'ujang', 'uk', 'ukrain', 'ukulelejammin', 'ul', 'ulcer', 'uldi', 'ulduar', 'ulgh', 'uli', 'ulit', 'ull', 'ullar', 'ultim', 'ultimatum', 'ultrabean', 'um', 'uma', 'umacq', 'umad', 'umbrella', 'umeshg', 'umm', 'ummm', 'ummmm', 'umpir', 'umuulan', 'umuuwi', 'un', 'una', 'unabl', 'unaccept', 'unach', 'unadvertis', 'unansw', 'unappreci', 'unargu', 'unavail', 'unbear', 'unbeliev', 'unbirthday', 'unblock', 'uncharg', 'unchart', 'uncl', 'unco', 'uncomfi', 'uncomfort', 'uncontrollab', 'uncool', 'uncoop', 'uncrack', 'undefin', 'underag', 'undercroft', 'undereduc', 'underestim', 'undergo', 'undergrad', 'underground', 'underneath', 'underoath', 'underoathband', 'underoo', 'underscor', 'understand', 'understandin', 'understandlol', 'understat', 'understood', 'underwat', 'underwear', 'underwood', 'undi', 'undigest', 'undo', 'unemp', 'unemploy', 'unexpect', 'unexplain', 'unfair', 'unfertil', 'unfold', 'unfollow', 'unforgiv', 'unforgiven', 'unfortin', 'unfortun', 'unfortunetli', 'unforutn', 'unfruit', 'ungri', 'unguid', 'unhappi', 'uni', 'unicorn', 'uniform', 'unimagin', 'uninvit', 'union', 'uniqu', 'unit', 'unitechi', 'univ', 'univers', 'unknown', 'unless', 'unlik', 'unlimit', 'unlov', 'unlucki', 'unmotiv', 'unnatur', 'unnecessari', 'unnu', 'unoffici', 'unorigin', 'unpack', 'unpackin', 'unplug', 'unprepar', 'unprotect', 'unread', 'unreal', 'unreason', 'unsoci', 'unsolicit', 'unspoken', 'unstabl', 'unsuccess', 'unsuscrib', 'unsympathet', 'untalan', 'untest', 'unti', 'until', 'untim', 'untouch', 'unusu', 'unwel', 'unwelcom', 'unwind', 'unwrap', 'unzip', 'uo', 'up', 'upcom', 'updat', 'updatu', 'upgrad', 'uplift', 'upload', 'uploadet', 'upmi', 'upon', 'upp', 'upper', 'uppityblack', 'upppp', 'upris', 'upsel', 'upset', 'upshot', 'upsid', 'upstair', 'upto', 'upward', 'uqh', 'ur', 'urban', 'urbandictionari', 'urchin', 'ure', 'urg', 'urgent', 'urgh', 'urghh', 'urhm', 'url', 'urrggh', 'urself', 'ursupport', 'uruguay', 'us', 'usa', 'usabl', 'usag', 'usb', 'usc', 'usch', 'use', 'useless', 'user', 'usernam', 'usha', 'uss', 'ust', 'usual', 'ut', 'utah', 'utan', 'utd', 'ute', 'uti', 'util', 'utk', 'utley', 'utsid', 'utter', 'utterli', 'utub', 'uugggh', 'uugghhhh', 'uuhhh', 'uuu', 'uuuuhhhhh', 'uv', 'uve', 'uvray', 'v', 'va', 'vaca', 'vacat', 'vacay', 'vaccuum', 'vai', 'vain', 'val', 'valencia', 'valentin', 'valid', 'valium', 'vallarta', 'valley', 'valu', 'vamp', 'vampir', 'vampirebit', 'van', 'vanc', 'vancouv', 'vandal', 'vanessa', 'vania', 'vanilla', 'vanish', 'varberg', 'vari', 'varianc', 'variat', 'variou', 'vaselin', 'vasquez', 'vava', 'vaycay', 'vb', 'vblog', 'vboyki', 'vbulletin', 'vcan', 'vcut', 'vdt', 'veeeri', 'veer', 'veeri', 'veg', 'vega', 'vegan', 'vegassss', 'veget', 'vegetarian', 'veggi', 'vehicl', 'vein', 'velvet', 'vemo', 'vendor', 'vengeanc', 'vent', 'ventilatiom', 'ventur', 'venu', 'vep', 'ver', 'vera', 'verano', 'verbatym', 'verboten', 'verdict', 'verg', 'verifeid', 'verifi', 'verison', 'verizon', 'vermont', 'vero', 'verri', 'verrri', 'versa', 'version', 'versu', 'vertago', 'vervelend', 'veryy', 'vespa', 'vet', 'veto', 'vett', 'veyron', 'vfc', 'vg', 'vh', 'vi', 'via', 'vialli', 'vianr', 'vibe', 'vibrant', 'vice', 'vickey', 'vicki', 'vickytcobra', 'vicodin', 'victim', 'victom', 'victor', 'victoria', 'vid', 'video', 'videooooooo', 'videoscop', 'vidz', 'vie', 'viendo', 'vienna', 'viet', 'vietnam', 'view', 'viewer', 'viewpoint', 'vika', 'vil', 'villag', 'vimeo', 'vin', 'vindicia', 'vine', 'vinegar', 'vineman', 'vinesfanat', 'vineyard', 'vintag', 'vinyl', 'violat', 'violent', 'violin', 'vip', 'viral', 'viralpenguin', 'virgin', 'virgina', 'virginia', 'virtu', 'virtual', 'viru', 'visa', 'visialvoicemail', 'visibl', 'visit', 'visitmesa', 'visitor', 'vist', 'vista', 'visual', 'vitamin', 'vitaminwat', 'vithor', 'vitticom', 'vive', 'vivid', 'vkidd', 'vless', 'vlog', 'vlw', 'vlynn', 'vm', 'vmware', 'vocal', 'vocaloid', 'vodacom', 'vodafon', 'vodka', 'vodlka', 'vogu', 'voic', 'voicemail', 'volcano', 'volleybal', 'volto', 'volum', 'volunt', 'volvo', 'vomit', 'vontad', 'voodoo', 'voon', 'vooot', 'vote', 'vow', 'vp', 'vraiement', 'vreep', 'vri', 'vrije', 'vs', 'vt', 'vtfh', 'vtg', 'vtl', 'vuitton', 'vujachick', 'vycet', 'w', 'wa', 'waaa', 'waaaa', 'waaaaaaay', 'waaaaah', 'waaaaay', 'waaaah', 'waaaahh', 'waaaay', 'waaaayyyi', 'waaanntt', 'waaayyy', 'waahh', 'waay', 'wabash', 'wabbit', 'wabbl', 'wabo', 'wack', 'wacko', 'wacth', 'waddyaknow', 'wadebowen', 'waffl', 'waffleslov', 'wag', 'wagamama', 'wagga', 'wah', 'wahaha', 'wahh', 'wahhh', 'waiiiiit', 'waiit', 'waiitt', 'wail', 'waint', 'waist', 'wait', 'waitaminut', 'waitin', 'waittt', 'waiver', 'wake', 'wakey', 'wal', 'wala', 'wale', 'walgreen', 'walk', 'walkin', 'wall', 'wallac', 'wallet', 'wallflow', 'wallgreen', 'wallpap', 'walmart', 'walter', 'waltzer', 'wammi', 'wan', 'wana', 'wander', 'wane', 'wang', 'wanna', 'wannanananana', 'wannase', 'wannnnna', 'want', 'wapsmadusanka', 'war', 'ward', 'warden', 'wardrob', 'waredrob', 'warez', 'warfar', 'wargam', 'warley', 'warm', 'warmth', 'warn', 'warp', 'warranti', 'warren', 'warrick', 'warrior', 'wash', 'washer', 'washington', 'washingtonnn', 'wasnt', 'wasp', 'wassap', 'wassss', 'wassup', 'wassupppp', 'wast', 'wat', 'watch', 'watcha', 'watchin', 'watchind', 'watchinf', 'watchingg', 'watchmen', 'watchn', 'watchwa', 'water', 'watercolor', 'waterfront', 'waterg', 'waterless', 'watermelon', 'waterpark', 'waterproof', 'watev', 'watski', 'watt', 'wave', 'waveboard', 'waver', 'wawa', 'wax', 'way', 'wayan', 'wayi', 'waylonholst', 'wayman', 'wayn', 'wayyy', 'wayyyyyyy', 'waz', 'wazzup', 'wb', 'wcindyu', 'we', 'weak', 'wealthi', 'wear', 'weasley', 'weat', 'weather', 'weathergrrrl', 'weatherman', 'weav', 'web', 'webaddress', 'webapp', 'webcast', 'webcom', 'webdesign', 'webhost', 'webpag', 'websit', 'webstep', 'wed', 'wedg', 'wednesay', 'wednesday', 'wee', 'weed', 'weee', 'weeeeee', 'weeeeeeeeee', 'weeezyyi', 'week', 'weekday', 'weekedn', 'weekeknd', 'weeken', 'weekend', 'weekli', 'weekuntil', 'weeni', 'weep', 'weer', 'weg', 'weheh', 'weight', 'weird', 'weirddddddd', 'weirdest', 'weirdli', 'weirdo', 'wel', 'welcom', 'welcomeee', 'well', 'wellemey', 'weller', 'wellz', 'welsh', 'wembley', 'wen', 'wenb', 'wench', 'wendi', 'wendita', 'wensday', 'went', 'wer', 'weramemuera', 'werd', 'werent', 'werk', 'wesrog', 'west', 'western', 'westham', 'westin', 'westlif', 'westminst', 'weston', 'westonbirt', 'westphalia', 'westsidestri', 'westwick', 'wesupportniley', 'wet', 'wethedan', 'wethedrew', 'wethehunt', 'wethek', 'wether', 'weve', 'wf', 'wfh', 'wfr', 'wftb', 'whaaaaaa', 'whaaaaaaaaaaaaaaat', 'whaaaat', 'whaaat', 'whack', 'whale', 'whalst', 'wham', 'whammi', 'wharra', 'what', 'whata', 'whataburg', 'whatcha', 'whatchu', 'whatesoev', 'whatev', 'whateva', 'whatsmysect', 'whatsoev', 'whattimeit', 'wheat', 'wheatstraw', 'whee', 'wheel', 'wheeler', 'wheeli', 'when', 'whenev', 'wher', 'where', 'wherea', 'whereabout', 'wherev', 'whether', 'whew', 'whewww', 'whey', 'whhew', 'whicker', 'whiffi', 'while', 'whilst', 'whine', 'whini', 'whip', 'whiplash', 'whirl', 'whirlwind', 'whise', 'whiskey', 'whisper', 'whisperamb', 'whistl', 'whistler', 'white', 'whitehous', 'whitemenac', 'whitex', 'whitmarsh', 'whitney', 'who', 'whoa', 'whod', 'whoever', 'whole', 'whoo', 'whooie', 'whooo', 'whoop', 'whoopin', 'whoot', 'whore', 'whose', 'wht', 'whuffi', 'whywhi', 'whyyi', 'whyyyyi', 'whyyyyyyi', 'wi', 'wich', 'wichita', 'wick', 'wid', 'wide', 'widen', 'wider', 'wield', 'wierd', 'wif', 'wife', 'wifey', 'wiff', 'wifflebal', 'wifi', 'wig', 'wiggl', 'wii', 'wiiiiiir', 'wijchen', 'wikia', 'wikipedia', 'wil', 'wild', 'wilder', 'will', 'willetta', 'willhav', 'willi', 'william', 'willlllllllliamm', 'willow', 'willtheplank', 'wilma', 'wilmington', 'wiltern', 'wimbledon', 'wimpi', 'win', 'winamp', 'wind', 'windi', 'windmil', 'window', 'windowbird', 'windshield', 'windsor', 'wine', 'wing', 'wink', 'winn', 'winner', 'winnipeg', 'winston', 'winter', 'wintercamp', 'wip', 'wipe', 'wiper', 'wire', 'wireless', 'wisconsin', 'wisdom', 'wise', 'wisebrid', 'wish', 'wishh', 'wishihadpictur', 'wishiiii', 'wishin', 'wishlist', 'wisssssh', 'wit', 'witch', 'withdraw', 'witherspoon', 'withher', 'within', 'without', 'withouth', 'witt', 'wittl', 'wiv', 'wizard', 'wk', 'wknd', 'wkt', 'wkwk', 'wl', 'wld', 'wlkng', 'wma', 'wmata', 'wn', 'wna', 'wnat', 'wnbaopeningday', 'wning', 'wnt', 'wnua', 'wo', 'woa', 'woah', 'wobbl', 'wobblesam', 'wockeez', 'wok', 'woke', 'woken', 'wokeup', 'wolfpen', 'wolfram', 'wolv', 'wolverin', 'womack', 'woman', 'womanizerrr', 'wombat', 'women', 'womp', 'wompppppp', 'womwan', 'wond', 'wonder', 'wonderful', 'wonderin', 'wonhophoto', 'wont', 'woo', 'wood', 'wooden', 'woodfield', 'woodi', 'woodland', 'woodpeck', 'wooh', 'woohoo', 'woohooo', 'wooo', 'wooohoo', 'wooohooo', 'woooo', 'wooooorrrrrrk', 'wooop', 'wooork', 'woop', 'woosang', 'woot', 'wor', 'word', 'wordahead', 'wordcamp', 'wordpress', 'wordsmith', 'wordzzz', 'wore', 'wori', 'work', 'worker', 'workflow', 'worki', 'workin', 'workingggg', 'workk', 'workkkkkk', 'workout', 'workshop', 'workstat', 'worktha', 'workweek', 'world', 'worldsbestathlet', 'worldwid', 'worn', 'worrel', 'worri', 'worrk', 'wors', 'worship', 'worst', 'worster', 'worsttttt', 'worth', 'worthi', 'worz', 'wossi', 'wost', 'wot', 'woth', 'wouhou', 'would', 'woulda', 'wouldent', 'wouldnt', 'wouldv', 'wound', 'wow', 'wowww', 'wozniak', 'wp', 'wpf', 'wppi', 'wr', 'wrangler', 'wrap', 'wrapper', 'wrath', 'wreak', 'wreck', 'wren', 'wrestl', 'wri', 'wrist', 'writ', 'write', 'writer', 'writin', 'written', 'wrk', 'wrkshp', 'wrong', 'wrongdo', 'wrongg', 'wrote', 'wtch', 'wtching', 'wtci', 'wtf', 'wtff', 'wtffffff', 'wth', 'wu', 'wua', 'wud', 'wuld', 'wussup', 'wut', 'wuth', 'wuv', 'wv', 'ww', 'wwdc', 'wwe', 'wwouuhuuuu', 'www', 'wwwwwwwwwwoooooooooo', 'wyatt', 'wyldekyttin', 'wynn', 'wyrdo', 'wyrmpriest', 'x', 'xaethyxv', 'xam', 'xavier', 'xbl', 'xbox', 'xboxliv', 'xcant', 'xcite', 'xcode', 'xd', 'xddd', 'xeng', 'xerx', 'xfactor', 'xl', 'xm', 'xma', 'xmen', 'xmissxrhix', 'xml', 'xo', 'xong', 'xoox', 'xox', 'xoxo', 'xoxokellynina', 'xoxox', 'xoxoxo', 'xoxoxox', 'xoxoxoxo', 'xoxx', 'xp', 'xpro', 'xristo', 'xtc', 'xtra', 'xubuntu', 'xwoman', 'xx', 'xxbbydevlxx', 'xxmcr', 'xxo', 'xxviii', 'xxx', 'xxxx', 'xxxxx', 'xxxxxxxxx', 'xxxxxxxxxx', 'xxxxxxxxxxx', 'xxxxxxxxxxxxxxxxxx', 'xy', 'xyle', 'ya', 'yaaa', 'yaaaaaaaaayyyyyyyyy', 'yaaaaaaay', 'yaaaaaay', 'yaaaaay', 'yaaaay', 'yaaay', 'yaaayyyyyi', 'yaar', 'yaay', 'yadamean', 'yadiraa', 'yaeeeeeeeeee', 'yah', 'yahhh', 'yahhhhh', 'yahoo', 'yahoomail', 'yahtze', 'yak', 'yakerella', 'yakkow', 'yall', 'yam', 'yamocca', 'yan', 'yang', 'yanke', 'yaoicon', 'yap', 'yar', 'yaratmak', 'yard', 'yardsal', 'yarn', 'yat', 'yata', 'yatim', 'yawn', 'yay', 'yayasu', 'yayayay', 'yayi', 'yayor', 'yayyy', 'yayyyi', 'yazzi', 'yday', 'ye', 'yea', 'yeaa', 'yeaaah', 'yeaaay', 'yeaah', 'yeah', 'yeahh', 'yeahhh', 'yeahhhhh', 'yeahyeahyeah', 'yeap', 'year', 'yearht', 'yearn', 'yearsmus', 'yee', 'yeeaaah', 'yeear', 'yeee', 'yeeeeeeeeeeeeee', 'yeeeehaw', 'yeeesssss', 'yeeha', 'yeer', 'yeezi', 'yeg', 'yeh', 'yehia', 'yell', 'yellow', 'yelp', 'yemin', 'yenka', 'yep', 'yepp', 'yepperz', 'yepyep', 'yer', 'yerself', 'yersterday', 'yess', 'yesss', 'yessss', 'yesssss', 'yessssss', 'yesssssssss', 'yest', 'yesterday', 'yesterdayd', 'yesterdayi', 'yesturday', 'yet', 'yetserday', 'yettt', 'yey', 'yeyyyi', 'yg', 'yhf', 'yhhh', 'yhoo', 'yield', 'yike', 'yim', 'yippeeee', 'yippi', 'yj', 'yk', 'yknow', 'ym', 'ymmv', 'yn', 'yo', 'yoda', 'yoga', 'yogurt', 'yolk', 'yon', 'yoon', 'yoooooo', 'yoooouuuu', 'yooou', 'yoour', 'yor', 'york', 'yorkshir', 'yorquin', 'yorum', 'yoshinoya', 'you', 'youd', 'youer', 'youlearn', 'youll', 'young', 'younger', 'youngest', 'youngin', 'youngq', 'youngster', 'younowtweetingwiththerealest', 'your', 'yourr', 'yourt', 'youth', 'youthgroup', 'youtub', 'youu', 'youuu', 'youuuuu', 'youuuuuu', 'youuuuuuuu', 'youuuuuuuuuuu', 'youv', 'youxx', 'youz', 'yovil', 'yow', 'yr', 'ys', 'ystrdi', 'yt', 'ytd', 'yu', 'yuck', 'yucki', 'yuengl', 'yuhh', 'yuhuuu', 'yukki', 'yum', 'yuma', 'yumi', 'yumm', 'yummeeeh', 'yummi', 'yummm', 'yummmm', 'yummmmmm', 'yummymummyclub', 'yummzz', 'yumo', 'yun', 'yung', 'yup', 'yupp', 'yur', 'yusmala', 'yuu', 'yuup', 'yuuuurrrp', 'yuuuuu', 'yuvi', 'yw', 'ywice', 'yyy', 'yyz', 'z', 'zac', 'zacali', 'zacetl', 'zach', 'zacharyquinto', 'zack', 'zackalltimelow', 'zackyv', 'zaki', 'zambia', 'zamkow', 'zamn', 'zanelamprey', 'zanzi', 'zanzibar', 'zazzl', 'zeal', 'zealand', 'zealot', 'zee', 'zeeoffici', 'zeger', 'zeke', 'zemlin', 'zenjar', 'zero', 'zhenji', 'zhsei', 'zi', 'zilla', 'zip', 'zipper', 'zirtec', 'zit', 'ziua', 'zobbo', 'zobel', 'zoe', 'zoecipolla', 'zoey', 'zokem', 'zombi', 'zombieboysam', 'zombieriot', 'zomg', 'zomgg', 'zon', 'zone', 'zonk', 'zoo', 'zoom', 'zoovolut', 'zoozoo', 'zorn', 'zotero', 'zq', 'zs', 'zshare', 'zuluzombi', 'zuma', 'zune', 'zunehd', 'zynga', 'zz', 'zzz', 'zzzz', 'zzzzzz', 'zzzzzzz', 'zzzzzzzz', 'zzzzzzzzzzzzzzzzzzz']\n"
     ]
    }
   ],
   "source": [
    "#Vectorizing processed text column i.e. p_text\n",
    "tfidf_vect = TfidfVectorizer(analyzer=clean_text)\n",
    "X_tfidf = tfidf_vect.fit_transform(data['p_text'])\n",
    "print(X_tfidf.shape)\n",
    "\n",
    "print(tfidf_vect.get_feature_names())\n",
    "\n",
    "X_tfidf_df = pd.DataFrame(X_tfidf.toarray())\n",
    "X_tfidf_df.columns = tfidf_vect.get_feature_names()"
   ]
  },
  {
   "cell_type": "markdown",
   "metadata": {},
   "source": [
    "### Divide data into train and test"
   ]
  },
  {
   "cell_type": "code",
   "execution_count": 53,
   "metadata": {},
   "outputs": [
    {
     "data": {
      "text/html": [
       "<div>\n",
       "<style scoped>\n",
       "    .dataframe tbody tr th:only-of-type {\n",
       "        vertical-align: middle;\n",
       "    }\n",
       "\n",
       "    .dataframe tbody tr th {\n",
       "        vertical-align: top;\n",
       "    }\n",
       "\n",
       "    .dataframe thead th {\n",
       "        text-align: right;\n",
       "    }\n",
       "</style>\n",
       "<table border=\"1\" class=\"dataframe\">\n",
       "  <thead>\n",
       "    <tr style=\"text-align: right;\">\n",
       "      <th></th>\n",
       "      <th>fri</th>\n",
       "      <th>mon</th>\n",
       "      <th>sat</th>\n",
       "      <th>sun</th>\n",
       "      <th>thu</th>\n",
       "      <th>tue</th>\n",
       "      <th>wed</th>\n",
       "      <th>apr</th>\n",
       "      <th>jun</th>\n",
       "      <th>may</th>\n",
       "      <th>...</th>\n",
       "      <th>zune</th>\n",
       "      <th>zunehd</th>\n",
       "      <th>zynga</th>\n",
       "      <th>zz</th>\n",
       "      <th>zzz</th>\n",
       "      <th>zzzz</th>\n",
       "      <th>zzzzzz</th>\n",
       "      <th>zzzzzzz</th>\n",
       "      <th>zzzzzzzz</th>\n",
       "      <th>zzzzzzzzzzzzzzzzzzz</th>\n",
       "    </tr>\n",
       "  </thead>\n",
       "  <tbody>\n",
       "    <tr>\n",
       "      <th>0</th>\n",
       "      <td>0</td>\n",
       "      <td>0</td>\n",
       "      <td>0</td>\n",
       "      <td>0</td>\n",
       "      <td>1</td>\n",
       "      <td>0</td>\n",
       "      <td>0</td>\n",
       "      <td>0</td>\n",
       "      <td>0</td>\n",
       "      <td>1</td>\n",
       "      <td>...</td>\n",
       "      <td>0.0</td>\n",
       "      <td>0.0</td>\n",
       "      <td>0.0</td>\n",
       "      <td>0.0</td>\n",
       "      <td>0.0</td>\n",
       "      <td>0.0</td>\n",
       "      <td>0.0</td>\n",
       "      <td>0.0</td>\n",
       "      <td>0.0</td>\n",
       "      <td>0.0</td>\n",
       "    </tr>\n",
       "    <tr>\n",
       "      <th>1</th>\n",
       "      <td>0</td>\n",
       "      <td>0</td>\n",
       "      <td>0</td>\n",
       "      <td>0</td>\n",
       "      <td>0</td>\n",
       "      <td>1</td>\n",
       "      <td>0</td>\n",
       "      <td>1</td>\n",
       "      <td>0</td>\n",
       "      <td>0</td>\n",
       "      <td>...</td>\n",
       "      <td>0.0</td>\n",
       "      <td>0.0</td>\n",
       "      <td>0.0</td>\n",
       "      <td>0.0</td>\n",
       "      <td>0.0</td>\n",
       "      <td>0.0</td>\n",
       "      <td>0.0</td>\n",
       "      <td>0.0</td>\n",
       "      <td>0.0</td>\n",
       "      <td>0.0</td>\n",
       "    </tr>\n",
       "    <tr>\n",
       "      <th>2</th>\n",
       "      <td>0</td>\n",
       "      <td>0</td>\n",
       "      <td>0</td>\n",
       "      <td>1</td>\n",
       "      <td>0</td>\n",
       "      <td>0</td>\n",
       "      <td>0</td>\n",
       "      <td>0</td>\n",
       "      <td>0</td>\n",
       "      <td>1</td>\n",
       "      <td>...</td>\n",
       "      <td>0.0</td>\n",
       "      <td>0.0</td>\n",
       "      <td>0.0</td>\n",
       "      <td>0.0</td>\n",
       "      <td>0.0</td>\n",
       "      <td>0.0</td>\n",
       "      <td>0.0</td>\n",
       "      <td>0.0</td>\n",
       "      <td>0.0</td>\n",
       "      <td>0.0</td>\n",
       "    </tr>\n",
       "    <tr>\n",
       "      <th>3</th>\n",
       "      <td>0</td>\n",
       "      <td>0</td>\n",
       "      <td>0</td>\n",
       "      <td>0</td>\n",
       "      <td>1</td>\n",
       "      <td>0</td>\n",
       "      <td>0</td>\n",
       "      <td>0</td>\n",
       "      <td>1</td>\n",
       "      <td>0</td>\n",
       "      <td>...</td>\n",
       "      <td>0.0</td>\n",
       "      <td>0.0</td>\n",
       "      <td>0.0</td>\n",
       "      <td>0.0</td>\n",
       "      <td>0.0</td>\n",
       "      <td>0.0</td>\n",
       "      <td>0.0</td>\n",
       "      <td>0.0</td>\n",
       "      <td>0.0</td>\n",
       "      <td>0.0</td>\n",
       "    </tr>\n",
       "    <tr>\n",
       "      <th>4</th>\n",
       "      <td>0</td>\n",
       "      <td>0</td>\n",
       "      <td>1</td>\n",
       "      <td>0</td>\n",
       "      <td>0</td>\n",
       "      <td>0</td>\n",
       "      <td>0</td>\n",
       "      <td>0</td>\n",
       "      <td>1</td>\n",
       "      <td>0</td>\n",
       "      <td>...</td>\n",
       "      <td>0.0</td>\n",
       "      <td>0.0</td>\n",
       "      <td>0.0</td>\n",
       "      <td>0.0</td>\n",
       "      <td>0.0</td>\n",
       "      <td>0.0</td>\n",
       "      <td>0.0</td>\n",
       "      <td>0.0</td>\n",
       "      <td>0.0</td>\n",
       "      <td>0.0</td>\n",
       "    </tr>\n",
       "  </tbody>\n",
       "</table>\n",
       "<p>5 rows × 14976 columns</p>\n",
       "</div>"
      ],
      "text/plain": [
       "   fri  mon  sat  sun  thu  tue  wed  apr  jun  may         ...           \\\n",
       "0    0    0    0    0    1    0    0    0    0    1         ...            \n",
       "1    0    0    0    0    0    1    0    1    0    0         ...            \n",
       "2    0    0    0    1    0    0    0    0    0    1         ...            \n",
       "3    0    0    0    0    1    0    0    0    1    0         ...            \n",
       "4    0    0    1    0    0    0    0    0    1    0         ...            \n",
       "\n",
       "   zune  zunehd  zynga   zz  zzz  zzzz  zzzzzz  zzzzzzz  zzzzzzzz  \\\n",
       "0   0.0     0.0    0.0  0.0  0.0   0.0     0.0      0.0       0.0   \n",
       "1   0.0     0.0    0.0  0.0  0.0   0.0     0.0      0.0       0.0   \n",
       "2   0.0     0.0    0.0  0.0  0.0   0.0     0.0      0.0       0.0   \n",
       "3   0.0     0.0    0.0  0.0  0.0   0.0     0.0      0.0       0.0   \n",
       "4   0.0     0.0    0.0  0.0  0.0   0.0     0.0      0.0       0.0   \n",
       "\n",
       "   zzzzzzzzzzzzzzzzzzz  \n",
       "0                  0.0  \n",
       "1                  0.0  \n",
       "2                  0.0  \n",
       "3                  0.0  \n",
       "4                  0.0  \n",
       "\n",
       "[5 rows x 14976 columns]"
      ]
     },
     "execution_count": 53,
     "metadata": {},
     "output_type": "execute_result"
    }
   ],
   "source": [
    "#Taking independent variables together\n",
    "X_features = pd.concat([data[data.columns[1:18]].reset_index(drop=True),X_tfidf_df.reset_index(drop=True)], axis=1)\n",
    "\n",
    "X_features.head()"
   ]
  },
  {
   "cell_type": "code",
   "execution_count": 54,
   "metadata": {},
   "outputs": [],
   "source": [
    "#Divide data in train and test\n",
    "X_train, X_test, y_train, y_test = train_test_split(X_features, data['polarity'], test_size=0.2)"
   ]
  },
  {
   "cell_type": "markdown",
   "metadata": {},
   "source": [
    "### Applying Random Forest algorithm on train data"
   ]
  },
  {
   "cell_type": "code",
   "execution_count": 55,
   "metadata": {},
   "outputs": [],
   "source": [
    "rf = RandomForestClassifier(n_estimators=50, max_depth=20, n_jobs=-1)\n",
    "rf_model = rf.fit(X_train, y_train)"
   ]
  },
  {
   "cell_type": "code",
   "execution_count": 56,
   "metadata": {},
   "outputs": [
    {
     "data": {
      "text/plain": [
       "[(0.05098468590111173, 'month_mid'),\n",
       " (0.03645874147362202, 'jun'),\n",
       " (0.03503630939980214, 'thank'),\n",
       " (0.030718564624643875, 'may'),\n",
       " (0.029599926636831194, 'month_start'),\n",
       " (0.023799377604030787, 'miss'),\n",
       " (0.019845108880364476, 'thu'),\n",
       " (0.01619566913354905, 'feel'),\n",
       " (0.01471544284202606, 'sad'),\n",
       " (0.013608384299254412, 'love')]"
      ]
     },
     "execution_count": 56,
     "metadata": {},
     "output_type": "execute_result"
    }
   ],
   "source": [
    "#10 Most important factors affecting our model\n",
    "sorted(zip(rf_model.feature_importances_, X_train.columns), reverse=True)[0:10]"
   ]
  },
  {
   "cell_type": "code",
   "execution_count": 57,
   "metadata": {},
   "outputs": [
    {
     "name": "stdout",
     "output_type": "stream",
     "text": [
      "Precision: 0.727 / Recall: 0.727 / Accuracy: 0.727\n"
     ]
    }
   ],
   "source": [
    "y_pred = rf_model.predict(X_test)\n",
    "precision, recall, fscore, support = score(y_test, y_pred, average='micro')\n",
    "\n",
    "print('Precision: {} / Recall: {} / Accuracy: {}'.format(round(precision, 3),\n",
    "                                                        round(recall, 3),\n",
    "                                                        round((y_pred==y_test).sum() / len(y_pred),3)))"
   ]
  },
  {
   "cell_type": "code",
   "execution_count": 58,
   "metadata": {},
   "outputs": [
    {
     "name": "stdout",
     "output_type": "stream",
     "text": [
      "Est: 50 / Depth: 10 ---- Precision: 0.708 / Recall: 0.708 / Accuracy: 0.708\n",
      "Est: 50 / Depth: 20 ---- Precision: 0.728 / Recall: 0.728 / Accuracy: 0.728\n",
      "Est: 50 / Depth: 30 ---- Precision: 0.726 / Recall: 0.726 / Accuracy: 0.726\n",
      "Est: 50 / Depth: None ---- Precision: 0.745 / Recall: 0.745 / Accuracy: 0.745\n",
      "Est: 100 / Depth: 10 ---- Precision: 0.713 / Recall: 0.713 / Accuracy: 0.713\n",
      "Est: 100 / Depth: 20 ---- Precision: 0.731 / Recall: 0.731 / Accuracy: 0.731\n",
      "Est: 100 / Depth: 30 ---- Precision: 0.739 / Recall: 0.739 / Accuracy: 0.739\n",
      "Est: 100 / Depth: None ---- Precision: 0.744 / Recall: 0.744 / Accuracy: 0.744\n",
      "Est: 300 / Depth: 10 ---- Precision: 0.713 / Recall: 0.713 / Accuracy: 0.713\n",
      "Est: 300 / Depth: 20 ---- Precision: 0.735 / Recall: 0.735 / Accuracy: 0.735\n",
      "Est: 300 / Depth: 30 ---- Precision: 0.739 / Recall: 0.739 / Accuracy: 0.739\n",
      "Est: 300 / Depth: None ---- Precision: 0.75 / Recall: 0.75 / Accuracy: 0.75\n",
      "Est: 400 / Depth: 10 ---- Precision: 0.72 / Recall: 0.72 / Accuracy: 0.72\n",
      "Est: 400 / Depth: 20 ---- Precision: 0.734 / Recall: 0.734 / Accuracy: 0.734\n",
      "Est: 400 / Depth: 30 ---- Precision: 0.736 / Recall: 0.736 / Accuracy: 0.736\n",
      "Est: 400 / Depth: None ---- Precision: 0.749 / Recall: 0.749 / Accuracy: 0.749\n"
     ]
    }
   ],
   "source": [
    "#Checing best hyperparameter value to choose for better results\n",
    "def train_RF(n_est, depth):\n",
    "    rf = RandomForestClassifier(n_estimators=n_est, max_depth=depth, n_jobs=-1)\n",
    "    rf_model = rf.fit(X_train, y_train)\n",
    "    y_pred = rf_model.predict(X_test)\n",
    "    precision, recall, fscore, support = score(y_test, y_pred, average='micro')\n",
    "    print('Est: {} / Depth: {} ---- Precision: {} / Recall: {} / Accuracy: {}'.format(\n",
    "        n_est, depth, round(precision, 3), round(recall, 3),\n",
    "        round((y_pred==y_test).sum() / len(y_pred), 3)))\n",
    "    \n",
    "for n_est in [50, 100, 300, 400]:\n",
    "    for depth in [10, 20, 30, None]:\n",
    "        train_RF(n_est, depth)"
   ]
  },
  {
   "cell_type": "markdown",
   "metadata": {},
   "source": [
    "### Choosing best values of hyperparameters"
   ]
  },
  {
   "cell_type": "code",
   "execution_count": 59,
   "metadata": {},
   "outputs": [],
   "source": [
    "rf = RandomForestClassifier(n_estimators=400, max_depth=None, n_jobs=-1)"
   ]
  },
  {
   "cell_type": "markdown",
   "metadata": {},
   "source": [
    "#### test our values on test data"
   ]
  },
  {
   "cell_type": "code",
   "execution_count": 60,
   "metadata": {},
   "outputs": [
    {
     "name": "stdout",
     "output_type": "stream",
     "text": [
      "Fit time: 116.963 / Predict time: 1.079 ---- Precision: 0.749 / Recall: 0.749 / Accuracy: 0.749\n"
     ]
    }
   ],
   "source": [
    "start = time.time()\n",
    "rf_model = rf.fit(X_train, y_train)\n",
    "end = time.time()\n",
    "fit_time = (end - start)\n",
    "\n",
    "start = time.time()\n",
    "y_pred = rf_model.predict(X_test)\n",
    "end = time.time()\n",
    "pred_time = (end - start)\n",
    "\n",
    "precision, recall, fscore, train_support = score(y_test, y_pred, average='micro')\n",
    "print('Fit time: {} / Predict time: {} ---- Precision: {} / Recall: {} / Accuracy: {}'.format(\n",
    "    round(fit_time, 3), round(pred_time, 3), round(precision, 3), round(recall, 3), round((y_pred==y_test).sum()/len(y_pred), 3)))"
   ]
  }
 ],
 "metadata": {
  "kernelspec": {
   "display_name": "Python 3",
   "language": "python",
   "name": "python3"
  },
  "language_info": {
   "codemirror_mode": {
    "name": "ipython",
    "version": 3
   },
   "file_extension": ".py",
   "mimetype": "text/x-python",
   "name": "python",
   "nbconvert_exporter": "python",
   "pygments_lexer": "ipython3",
   "version": "3.7.1"
  }
 },
 "nbformat": 4,
 "nbformat_minor": 2
}
